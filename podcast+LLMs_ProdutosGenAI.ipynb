{
  "nbformat": 4,
  "nbformat_minor": 0,
  "metadata": {
    "colab": {
      "provenance": [],
      "gpuType": "T4"
    },
    "kernelspec": {
      "name": "python3",
      "display_name": "Python 3"
    },
    "language_info": {
      "name": "python"
    },
    "accelerator": "GPU",
    "widgets": {
      "application/vnd.jupyter.widget-state+json": {
        "9e27c47cd3484fc18213937b0e80d445": {
          "model_module": "@jupyter-widgets/controls",
          "model_name": "VBoxModel",
          "model_module_version": "1.5.0",
          "state": {
            "_dom_classes": [],
            "_model_module": "@jupyter-widgets/controls",
            "_model_module_version": "1.5.0",
            "_model_name": "VBoxModel",
            "_view_count": null,
            "_view_module": "@jupyter-widgets/controls",
            "_view_module_version": "1.5.0",
            "_view_name": "VBoxView",
            "box_style": "",
            "children": [
              "IPY_MODEL_76f400e3f99b4c699f161f68c09636a8",
              "IPY_MODEL_57fc85ed79e04595b254929d7f7370ba",
              "IPY_MODEL_b1167b0e63964053b1396d8fa51cd0d8",
              "IPY_MODEL_2f3fa8af218f4a3995edf0a6be499d89"
            ],
            "layout": "IPY_MODEL_ab038f429b2643abaed32b3e2508adb9"
          }
        },
        "987a24b5228f4b238dbe1422205d86c3": {
          "model_module": "@jupyter-widgets/controls",
          "model_name": "HTMLModel",
          "model_module_version": "1.5.0",
          "state": {
            "_dom_classes": [],
            "_model_module": "@jupyter-widgets/controls",
            "_model_module_version": "1.5.0",
            "_model_name": "HTMLModel",
            "_view_count": null,
            "_view_module": "@jupyter-widgets/controls",
            "_view_module_version": "1.5.0",
            "_view_name": "HTMLView",
            "description": "",
            "description_tooltip": null,
            "layout": "IPY_MODEL_f11d799faec8473eb519be9110c060ce",
            "placeholder": "​",
            "style": "IPY_MODEL_2c7af412b8e947a98df414c00dd72b6a",
            "value": "<center> <img\nsrc=https://huggingface.co/front/assets/huggingface_logo-noborder.svg\nalt='Hugging Face'> <br> Copy a token from <a\nhref=\"https://huggingface.co/settings/tokens\" target=\"_blank\">your Hugging Face\ntokens page</a> and paste it below. <br> Immediately click login after copying\nyour token or it might be stored in plain text in this notebook file. </center>"
          }
        },
        "3dcec886cc0c4028b5fde19767d3b119": {
          "model_module": "@jupyter-widgets/controls",
          "model_name": "PasswordModel",
          "model_module_version": "1.5.0",
          "state": {
            "_dom_classes": [],
            "_model_module": "@jupyter-widgets/controls",
            "_model_module_version": "1.5.0",
            "_model_name": "PasswordModel",
            "_view_count": null,
            "_view_module": "@jupyter-widgets/controls",
            "_view_module_version": "1.5.0",
            "_view_name": "PasswordView",
            "continuous_update": true,
            "description": "Token:",
            "description_tooltip": null,
            "disabled": false,
            "layout": "IPY_MODEL_1817f890fe374cfc9008f4902f6486f2",
            "placeholder": "​",
            "style": "IPY_MODEL_3f7d9fa430bc4e6c9d01a557cee80212",
            "value": ""
          }
        },
        "e0eabb19f2a04136b82937e2265e989f": {
          "model_module": "@jupyter-widgets/controls",
          "model_name": "CheckboxModel",
          "model_module_version": "1.5.0",
          "state": {
            "_dom_classes": [],
            "_model_module": "@jupyter-widgets/controls",
            "_model_module_version": "1.5.0",
            "_model_name": "CheckboxModel",
            "_view_count": null,
            "_view_module": "@jupyter-widgets/controls",
            "_view_module_version": "1.5.0",
            "_view_name": "CheckboxView",
            "description": "Add token as git credential?",
            "description_tooltip": null,
            "disabled": false,
            "indent": true,
            "layout": "IPY_MODEL_9f4fb67633334f62ad7dc2402daa3381",
            "style": "IPY_MODEL_c9cc0b6642aa4b9fb28210dbf17bc4f4",
            "value": true
          }
        },
        "02d6e90eb4994cddb95b7a77a07d4440": {
          "model_module": "@jupyter-widgets/controls",
          "model_name": "ButtonModel",
          "model_module_version": "1.5.0",
          "state": {
            "_dom_classes": [],
            "_model_module": "@jupyter-widgets/controls",
            "_model_module_version": "1.5.0",
            "_model_name": "ButtonModel",
            "_view_count": null,
            "_view_module": "@jupyter-widgets/controls",
            "_view_module_version": "1.5.0",
            "_view_name": "ButtonView",
            "button_style": "",
            "description": "Login",
            "disabled": false,
            "icon": "",
            "layout": "IPY_MODEL_8612ab8e02ed42cfaaa4dd5101fa8d53",
            "style": "IPY_MODEL_8541c617b2984f719dd77cd0dc8ec5dc",
            "tooltip": ""
          }
        },
        "7d90a29a1267442d8cdc3f674e30ea0d": {
          "model_module": "@jupyter-widgets/controls",
          "model_name": "HTMLModel",
          "model_module_version": "1.5.0",
          "state": {
            "_dom_classes": [],
            "_model_module": "@jupyter-widgets/controls",
            "_model_module_version": "1.5.0",
            "_model_name": "HTMLModel",
            "_view_count": null,
            "_view_module": "@jupyter-widgets/controls",
            "_view_module_version": "1.5.0",
            "_view_name": "HTMLView",
            "description": "",
            "description_tooltip": null,
            "layout": "IPY_MODEL_2b30cb4ef03f4bc08659f74855e04b4c",
            "placeholder": "​",
            "style": "IPY_MODEL_bd9ff3be64b34c61829f454e72b09aec",
            "value": "\n<b>Pro Tip:</b> If you don't already have one, you can create a dedicated\n'notebooks' token with 'write' access, that you can then easily reuse for all\nnotebooks. </center>"
          }
        },
        "ab038f429b2643abaed32b3e2508adb9": {
          "model_module": "@jupyter-widgets/base",
          "model_name": "LayoutModel",
          "model_module_version": "1.2.0",
          "state": {
            "_model_module": "@jupyter-widgets/base",
            "_model_module_version": "1.2.0",
            "_model_name": "LayoutModel",
            "_view_count": null,
            "_view_module": "@jupyter-widgets/base",
            "_view_module_version": "1.2.0",
            "_view_name": "LayoutView",
            "align_content": null,
            "align_items": "center",
            "align_self": null,
            "border": null,
            "bottom": null,
            "display": "flex",
            "flex": null,
            "flex_flow": "column",
            "grid_area": null,
            "grid_auto_columns": null,
            "grid_auto_flow": null,
            "grid_auto_rows": null,
            "grid_column": null,
            "grid_gap": null,
            "grid_row": null,
            "grid_template_areas": null,
            "grid_template_columns": null,
            "grid_template_rows": null,
            "height": null,
            "justify_content": null,
            "justify_items": null,
            "left": null,
            "margin": null,
            "max_height": null,
            "max_width": null,
            "min_height": null,
            "min_width": null,
            "object_fit": null,
            "object_position": null,
            "order": null,
            "overflow": null,
            "overflow_x": null,
            "overflow_y": null,
            "padding": null,
            "right": null,
            "top": null,
            "visibility": null,
            "width": "50%"
          }
        },
        "f11d799faec8473eb519be9110c060ce": {
          "model_module": "@jupyter-widgets/base",
          "model_name": "LayoutModel",
          "model_module_version": "1.2.0",
          "state": {
            "_model_module": "@jupyter-widgets/base",
            "_model_module_version": "1.2.0",
            "_model_name": "LayoutModel",
            "_view_count": null,
            "_view_module": "@jupyter-widgets/base",
            "_view_module_version": "1.2.0",
            "_view_name": "LayoutView",
            "align_content": null,
            "align_items": null,
            "align_self": null,
            "border": null,
            "bottom": null,
            "display": null,
            "flex": null,
            "flex_flow": null,
            "grid_area": null,
            "grid_auto_columns": null,
            "grid_auto_flow": null,
            "grid_auto_rows": null,
            "grid_column": null,
            "grid_gap": null,
            "grid_row": null,
            "grid_template_areas": null,
            "grid_template_columns": null,
            "grid_template_rows": null,
            "height": null,
            "justify_content": null,
            "justify_items": null,
            "left": null,
            "margin": null,
            "max_height": null,
            "max_width": null,
            "min_height": null,
            "min_width": null,
            "object_fit": null,
            "object_position": null,
            "order": null,
            "overflow": null,
            "overflow_x": null,
            "overflow_y": null,
            "padding": null,
            "right": null,
            "top": null,
            "visibility": null,
            "width": null
          }
        },
        "2c7af412b8e947a98df414c00dd72b6a": {
          "model_module": "@jupyter-widgets/controls",
          "model_name": "DescriptionStyleModel",
          "model_module_version": "1.5.0",
          "state": {
            "_model_module": "@jupyter-widgets/controls",
            "_model_module_version": "1.5.0",
            "_model_name": "DescriptionStyleModel",
            "_view_count": null,
            "_view_module": "@jupyter-widgets/base",
            "_view_module_version": "1.2.0",
            "_view_name": "StyleView",
            "description_width": ""
          }
        },
        "1817f890fe374cfc9008f4902f6486f2": {
          "model_module": "@jupyter-widgets/base",
          "model_name": "LayoutModel",
          "model_module_version": "1.2.0",
          "state": {
            "_model_module": "@jupyter-widgets/base",
            "_model_module_version": "1.2.0",
            "_model_name": "LayoutModel",
            "_view_count": null,
            "_view_module": "@jupyter-widgets/base",
            "_view_module_version": "1.2.0",
            "_view_name": "LayoutView",
            "align_content": null,
            "align_items": null,
            "align_self": null,
            "border": null,
            "bottom": null,
            "display": null,
            "flex": null,
            "flex_flow": null,
            "grid_area": null,
            "grid_auto_columns": null,
            "grid_auto_flow": null,
            "grid_auto_rows": null,
            "grid_column": null,
            "grid_gap": null,
            "grid_row": null,
            "grid_template_areas": null,
            "grid_template_columns": null,
            "grid_template_rows": null,
            "height": null,
            "justify_content": null,
            "justify_items": null,
            "left": null,
            "margin": null,
            "max_height": null,
            "max_width": null,
            "min_height": null,
            "min_width": null,
            "object_fit": null,
            "object_position": null,
            "order": null,
            "overflow": null,
            "overflow_x": null,
            "overflow_y": null,
            "padding": null,
            "right": null,
            "top": null,
            "visibility": null,
            "width": null
          }
        },
        "3f7d9fa430bc4e6c9d01a557cee80212": {
          "model_module": "@jupyter-widgets/controls",
          "model_name": "DescriptionStyleModel",
          "model_module_version": "1.5.0",
          "state": {
            "_model_module": "@jupyter-widgets/controls",
            "_model_module_version": "1.5.0",
            "_model_name": "DescriptionStyleModel",
            "_view_count": null,
            "_view_module": "@jupyter-widgets/base",
            "_view_module_version": "1.2.0",
            "_view_name": "StyleView",
            "description_width": ""
          }
        },
        "9f4fb67633334f62ad7dc2402daa3381": {
          "model_module": "@jupyter-widgets/base",
          "model_name": "LayoutModel",
          "model_module_version": "1.2.0",
          "state": {
            "_model_module": "@jupyter-widgets/base",
            "_model_module_version": "1.2.0",
            "_model_name": "LayoutModel",
            "_view_count": null,
            "_view_module": "@jupyter-widgets/base",
            "_view_module_version": "1.2.0",
            "_view_name": "LayoutView",
            "align_content": null,
            "align_items": null,
            "align_self": null,
            "border": null,
            "bottom": null,
            "display": null,
            "flex": null,
            "flex_flow": null,
            "grid_area": null,
            "grid_auto_columns": null,
            "grid_auto_flow": null,
            "grid_auto_rows": null,
            "grid_column": null,
            "grid_gap": null,
            "grid_row": null,
            "grid_template_areas": null,
            "grid_template_columns": null,
            "grid_template_rows": null,
            "height": null,
            "justify_content": null,
            "justify_items": null,
            "left": null,
            "margin": null,
            "max_height": null,
            "max_width": null,
            "min_height": null,
            "min_width": null,
            "object_fit": null,
            "object_position": null,
            "order": null,
            "overflow": null,
            "overflow_x": null,
            "overflow_y": null,
            "padding": null,
            "right": null,
            "top": null,
            "visibility": null,
            "width": null
          }
        },
        "c9cc0b6642aa4b9fb28210dbf17bc4f4": {
          "model_module": "@jupyter-widgets/controls",
          "model_name": "DescriptionStyleModel",
          "model_module_version": "1.5.0",
          "state": {
            "_model_module": "@jupyter-widgets/controls",
            "_model_module_version": "1.5.0",
            "_model_name": "DescriptionStyleModel",
            "_view_count": null,
            "_view_module": "@jupyter-widgets/base",
            "_view_module_version": "1.2.0",
            "_view_name": "StyleView",
            "description_width": ""
          }
        },
        "8612ab8e02ed42cfaaa4dd5101fa8d53": {
          "model_module": "@jupyter-widgets/base",
          "model_name": "LayoutModel",
          "model_module_version": "1.2.0",
          "state": {
            "_model_module": "@jupyter-widgets/base",
            "_model_module_version": "1.2.0",
            "_model_name": "LayoutModel",
            "_view_count": null,
            "_view_module": "@jupyter-widgets/base",
            "_view_module_version": "1.2.0",
            "_view_name": "LayoutView",
            "align_content": null,
            "align_items": null,
            "align_self": null,
            "border": null,
            "bottom": null,
            "display": null,
            "flex": null,
            "flex_flow": null,
            "grid_area": null,
            "grid_auto_columns": null,
            "grid_auto_flow": null,
            "grid_auto_rows": null,
            "grid_column": null,
            "grid_gap": null,
            "grid_row": null,
            "grid_template_areas": null,
            "grid_template_columns": null,
            "grid_template_rows": null,
            "height": null,
            "justify_content": null,
            "justify_items": null,
            "left": null,
            "margin": null,
            "max_height": null,
            "max_width": null,
            "min_height": null,
            "min_width": null,
            "object_fit": null,
            "object_position": null,
            "order": null,
            "overflow": null,
            "overflow_x": null,
            "overflow_y": null,
            "padding": null,
            "right": null,
            "top": null,
            "visibility": null,
            "width": null
          }
        },
        "8541c617b2984f719dd77cd0dc8ec5dc": {
          "model_module": "@jupyter-widgets/controls",
          "model_name": "ButtonStyleModel",
          "model_module_version": "1.5.0",
          "state": {
            "_model_module": "@jupyter-widgets/controls",
            "_model_module_version": "1.5.0",
            "_model_name": "ButtonStyleModel",
            "_view_count": null,
            "_view_module": "@jupyter-widgets/base",
            "_view_module_version": "1.2.0",
            "_view_name": "StyleView",
            "button_color": null,
            "font_weight": ""
          }
        },
        "2b30cb4ef03f4bc08659f74855e04b4c": {
          "model_module": "@jupyter-widgets/base",
          "model_name": "LayoutModel",
          "model_module_version": "1.2.0",
          "state": {
            "_model_module": "@jupyter-widgets/base",
            "_model_module_version": "1.2.0",
            "_model_name": "LayoutModel",
            "_view_count": null,
            "_view_module": "@jupyter-widgets/base",
            "_view_module_version": "1.2.0",
            "_view_name": "LayoutView",
            "align_content": null,
            "align_items": null,
            "align_self": null,
            "border": null,
            "bottom": null,
            "display": null,
            "flex": null,
            "flex_flow": null,
            "grid_area": null,
            "grid_auto_columns": null,
            "grid_auto_flow": null,
            "grid_auto_rows": null,
            "grid_column": null,
            "grid_gap": null,
            "grid_row": null,
            "grid_template_areas": null,
            "grid_template_columns": null,
            "grid_template_rows": null,
            "height": null,
            "justify_content": null,
            "justify_items": null,
            "left": null,
            "margin": null,
            "max_height": null,
            "max_width": null,
            "min_height": null,
            "min_width": null,
            "object_fit": null,
            "object_position": null,
            "order": null,
            "overflow": null,
            "overflow_x": null,
            "overflow_y": null,
            "padding": null,
            "right": null,
            "top": null,
            "visibility": null,
            "width": null
          }
        },
        "bd9ff3be64b34c61829f454e72b09aec": {
          "model_module": "@jupyter-widgets/controls",
          "model_name": "DescriptionStyleModel",
          "model_module_version": "1.5.0",
          "state": {
            "_model_module": "@jupyter-widgets/controls",
            "_model_module_version": "1.5.0",
            "_model_name": "DescriptionStyleModel",
            "_view_count": null,
            "_view_module": "@jupyter-widgets/base",
            "_view_module_version": "1.2.0",
            "_view_name": "StyleView",
            "description_width": ""
          }
        },
        "200185e4d2da4f74acfec9ad65e9e851": {
          "model_module": "@jupyter-widgets/controls",
          "model_name": "LabelModel",
          "model_module_version": "1.5.0",
          "state": {
            "_dom_classes": [],
            "_model_module": "@jupyter-widgets/controls",
            "_model_module_version": "1.5.0",
            "_model_name": "LabelModel",
            "_view_count": null,
            "_view_module": "@jupyter-widgets/controls",
            "_view_module_version": "1.5.0",
            "_view_name": "LabelView",
            "description": "",
            "description_tooltip": null,
            "layout": "IPY_MODEL_6fb40a91b062451baeaa47bee1b403ca",
            "placeholder": "​",
            "style": "IPY_MODEL_9e3f8f0ca64441068dd39f696be44173",
            "value": "Connecting..."
          }
        },
        "6fb40a91b062451baeaa47bee1b403ca": {
          "model_module": "@jupyter-widgets/base",
          "model_name": "LayoutModel",
          "model_module_version": "1.2.0",
          "state": {
            "_model_module": "@jupyter-widgets/base",
            "_model_module_version": "1.2.0",
            "_model_name": "LayoutModel",
            "_view_count": null,
            "_view_module": "@jupyter-widgets/base",
            "_view_module_version": "1.2.0",
            "_view_name": "LayoutView",
            "align_content": null,
            "align_items": null,
            "align_self": null,
            "border": null,
            "bottom": null,
            "display": null,
            "flex": null,
            "flex_flow": null,
            "grid_area": null,
            "grid_auto_columns": null,
            "grid_auto_flow": null,
            "grid_auto_rows": null,
            "grid_column": null,
            "grid_gap": null,
            "grid_row": null,
            "grid_template_areas": null,
            "grid_template_columns": null,
            "grid_template_rows": null,
            "height": null,
            "justify_content": null,
            "justify_items": null,
            "left": null,
            "margin": null,
            "max_height": null,
            "max_width": null,
            "min_height": null,
            "min_width": null,
            "object_fit": null,
            "object_position": null,
            "order": null,
            "overflow": null,
            "overflow_x": null,
            "overflow_y": null,
            "padding": null,
            "right": null,
            "top": null,
            "visibility": null,
            "width": null
          }
        },
        "9e3f8f0ca64441068dd39f696be44173": {
          "model_module": "@jupyter-widgets/controls",
          "model_name": "DescriptionStyleModel",
          "model_module_version": "1.5.0",
          "state": {
            "_model_module": "@jupyter-widgets/controls",
            "_model_module_version": "1.5.0",
            "_model_name": "DescriptionStyleModel",
            "_view_count": null,
            "_view_module": "@jupyter-widgets/base",
            "_view_module_version": "1.2.0",
            "_view_name": "StyleView",
            "description_width": ""
          }
        },
        "76f400e3f99b4c699f161f68c09636a8": {
          "model_module": "@jupyter-widgets/controls",
          "model_name": "LabelModel",
          "model_module_version": "1.5.0",
          "state": {
            "_dom_classes": [],
            "_model_module": "@jupyter-widgets/controls",
            "_model_module_version": "1.5.0",
            "_model_name": "LabelModel",
            "_view_count": null,
            "_view_module": "@jupyter-widgets/controls",
            "_view_module_version": "1.5.0",
            "_view_name": "LabelView",
            "description": "",
            "description_tooltip": null,
            "layout": "IPY_MODEL_25c0c552de7943f1a694f8777a6daa28",
            "placeholder": "​",
            "style": "IPY_MODEL_7eaa5565aa054f9b86b097ddf467b0fa",
            "value": "Token is valid (permission: read)."
          }
        },
        "57fc85ed79e04595b254929d7f7370ba": {
          "model_module": "@jupyter-widgets/controls",
          "model_name": "LabelModel",
          "model_module_version": "1.5.0",
          "state": {
            "_dom_classes": [],
            "_model_module": "@jupyter-widgets/controls",
            "_model_module_version": "1.5.0",
            "_model_name": "LabelModel",
            "_view_count": null,
            "_view_module": "@jupyter-widgets/controls",
            "_view_module_version": "1.5.0",
            "_view_name": "LabelView",
            "description": "",
            "description_tooltip": null,
            "layout": "IPY_MODEL_67327a0e762b467490d7d545eda0d197",
            "placeholder": "​",
            "style": "IPY_MODEL_a42a339957f74871af04a014bc8e96d8",
            "value": "Your token has been saved in your configured git credential helpers (store)."
          }
        },
        "b1167b0e63964053b1396d8fa51cd0d8": {
          "model_module": "@jupyter-widgets/controls",
          "model_name": "LabelModel",
          "model_module_version": "1.5.0",
          "state": {
            "_dom_classes": [],
            "_model_module": "@jupyter-widgets/controls",
            "_model_module_version": "1.5.0",
            "_model_name": "LabelModel",
            "_view_count": null,
            "_view_module": "@jupyter-widgets/controls",
            "_view_module_version": "1.5.0",
            "_view_name": "LabelView",
            "description": "",
            "description_tooltip": null,
            "layout": "IPY_MODEL_b2f34b51452044e1a9e3387e53a979ec",
            "placeholder": "​",
            "style": "IPY_MODEL_473523eb106543ac95bbbdbe0dcf2993",
            "value": "Your token has been saved to /root/.cache/huggingface/token"
          }
        },
        "2f3fa8af218f4a3995edf0a6be499d89": {
          "model_module": "@jupyter-widgets/controls",
          "model_name": "LabelModel",
          "model_module_version": "1.5.0",
          "state": {
            "_dom_classes": [],
            "_model_module": "@jupyter-widgets/controls",
            "_model_module_version": "1.5.0",
            "_model_name": "LabelModel",
            "_view_count": null,
            "_view_module": "@jupyter-widgets/controls",
            "_view_module_version": "1.5.0",
            "_view_name": "LabelView",
            "description": "",
            "description_tooltip": null,
            "layout": "IPY_MODEL_50f1e67cea8e450a88a8f2571c50acdd",
            "placeholder": "​",
            "style": "IPY_MODEL_c65df2422b74431fa856d7c948849baa",
            "value": "Login successful"
          }
        },
        "25c0c552de7943f1a694f8777a6daa28": {
          "model_module": "@jupyter-widgets/base",
          "model_name": "LayoutModel",
          "model_module_version": "1.2.0",
          "state": {
            "_model_module": "@jupyter-widgets/base",
            "_model_module_version": "1.2.0",
            "_model_name": "LayoutModel",
            "_view_count": null,
            "_view_module": "@jupyter-widgets/base",
            "_view_module_version": "1.2.0",
            "_view_name": "LayoutView",
            "align_content": null,
            "align_items": null,
            "align_self": null,
            "border": null,
            "bottom": null,
            "display": null,
            "flex": null,
            "flex_flow": null,
            "grid_area": null,
            "grid_auto_columns": null,
            "grid_auto_flow": null,
            "grid_auto_rows": null,
            "grid_column": null,
            "grid_gap": null,
            "grid_row": null,
            "grid_template_areas": null,
            "grid_template_columns": null,
            "grid_template_rows": null,
            "height": null,
            "justify_content": null,
            "justify_items": null,
            "left": null,
            "margin": null,
            "max_height": null,
            "max_width": null,
            "min_height": null,
            "min_width": null,
            "object_fit": null,
            "object_position": null,
            "order": null,
            "overflow": null,
            "overflow_x": null,
            "overflow_y": null,
            "padding": null,
            "right": null,
            "top": null,
            "visibility": null,
            "width": null
          }
        },
        "7eaa5565aa054f9b86b097ddf467b0fa": {
          "model_module": "@jupyter-widgets/controls",
          "model_name": "DescriptionStyleModel",
          "model_module_version": "1.5.0",
          "state": {
            "_model_module": "@jupyter-widgets/controls",
            "_model_module_version": "1.5.0",
            "_model_name": "DescriptionStyleModel",
            "_view_count": null,
            "_view_module": "@jupyter-widgets/base",
            "_view_module_version": "1.2.0",
            "_view_name": "StyleView",
            "description_width": ""
          }
        },
        "67327a0e762b467490d7d545eda0d197": {
          "model_module": "@jupyter-widgets/base",
          "model_name": "LayoutModel",
          "model_module_version": "1.2.0",
          "state": {
            "_model_module": "@jupyter-widgets/base",
            "_model_module_version": "1.2.0",
            "_model_name": "LayoutModel",
            "_view_count": null,
            "_view_module": "@jupyter-widgets/base",
            "_view_module_version": "1.2.0",
            "_view_name": "LayoutView",
            "align_content": null,
            "align_items": null,
            "align_self": null,
            "border": null,
            "bottom": null,
            "display": null,
            "flex": null,
            "flex_flow": null,
            "grid_area": null,
            "grid_auto_columns": null,
            "grid_auto_flow": null,
            "grid_auto_rows": null,
            "grid_column": null,
            "grid_gap": null,
            "grid_row": null,
            "grid_template_areas": null,
            "grid_template_columns": null,
            "grid_template_rows": null,
            "height": null,
            "justify_content": null,
            "justify_items": null,
            "left": null,
            "margin": null,
            "max_height": null,
            "max_width": null,
            "min_height": null,
            "min_width": null,
            "object_fit": null,
            "object_position": null,
            "order": null,
            "overflow": null,
            "overflow_x": null,
            "overflow_y": null,
            "padding": null,
            "right": null,
            "top": null,
            "visibility": null,
            "width": null
          }
        },
        "a42a339957f74871af04a014bc8e96d8": {
          "model_module": "@jupyter-widgets/controls",
          "model_name": "DescriptionStyleModel",
          "model_module_version": "1.5.0",
          "state": {
            "_model_module": "@jupyter-widgets/controls",
            "_model_module_version": "1.5.0",
            "_model_name": "DescriptionStyleModel",
            "_view_count": null,
            "_view_module": "@jupyter-widgets/base",
            "_view_module_version": "1.2.0",
            "_view_name": "StyleView",
            "description_width": ""
          }
        },
        "b2f34b51452044e1a9e3387e53a979ec": {
          "model_module": "@jupyter-widgets/base",
          "model_name": "LayoutModel",
          "model_module_version": "1.2.0",
          "state": {
            "_model_module": "@jupyter-widgets/base",
            "_model_module_version": "1.2.0",
            "_model_name": "LayoutModel",
            "_view_count": null,
            "_view_module": "@jupyter-widgets/base",
            "_view_module_version": "1.2.0",
            "_view_name": "LayoutView",
            "align_content": null,
            "align_items": null,
            "align_self": null,
            "border": null,
            "bottom": null,
            "display": null,
            "flex": null,
            "flex_flow": null,
            "grid_area": null,
            "grid_auto_columns": null,
            "grid_auto_flow": null,
            "grid_auto_rows": null,
            "grid_column": null,
            "grid_gap": null,
            "grid_row": null,
            "grid_template_areas": null,
            "grid_template_columns": null,
            "grid_template_rows": null,
            "height": null,
            "justify_content": null,
            "justify_items": null,
            "left": null,
            "margin": null,
            "max_height": null,
            "max_width": null,
            "min_height": null,
            "min_width": null,
            "object_fit": null,
            "object_position": null,
            "order": null,
            "overflow": null,
            "overflow_x": null,
            "overflow_y": null,
            "padding": null,
            "right": null,
            "top": null,
            "visibility": null,
            "width": null
          }
        },
        "473523eb106543ac95bbbdbe0dcf2993": {
          "model_module": "@jupyter-widgets/controls",
          "model_name": "DescriptionStyleModel",
          "model_module_version": "1.5.0",
          "state": {
            "_model_module": "@jupyter-widgets/controls",
            "_model_module_version": "1.5.0",
            "_model_name": "DescriptionStyleModel",
            "_view_count": null,
            "_view_module": "@jupyter-widgets/base",
            "_view_module_version": "1.2.0",
            "_view_name": "StyleView",
            "description_width": ""
          }
        },
        "50f1e67cea8e450a88a8f2571c50acdd": {
          "model_module": "@jupyter-widgets/base",
          "model_name": "LayoutModel",
          "model_module_version": "1.2.0",
          "state": {
            "_model_module": "@jupyter-widgets/base",
            "_model_module_version": "1.2.0",
            "_model_name": "LayoutModel",
            "_view_count": null,
            "_view_module": "@jupyter-widgets/base",
            "_view_module_version": "1.2.0",
            "_view_name": "LayoutView",
            "align_content": null,
            "align_items": null,
            "align_self": null,
            "border": null,
            "bottom": null,
            "display": null,
            "flex": null,
            "flex_flow": null,
            "grid_area": null,
            "grid_auto_columns": null,
            "grid_auto_flow": null,
            "grid_auto_rows": null,
            "grid_column": null,
            "grid_gap": null,
            "grid_row": null,
            "grid_template_areas": null,
            "grid_template_columns": null,
            "grid_template_rows": null,
            "height": null,
            "justify_content": null,
            "justify_items": null,
            "left": null,
            "margin": null,
            "max_height": null,
            "max_width": null,
            "min_height": null,
            "min_width": null,
            "object_fit": null,
            "object_position": null,
            "order": null,
            "overflow": null,
            "overflow_x": null,
            "overflow_y": null,
            "padding": null,
            "right": null,
            "top": null,
            "visibility": null,
            "width": null
          }
        },
        "c65df2422b74431fa856d7c948849baa": {
          "model_module": "@jupyter-widgets/controls",
          "model_name": "DescriptionStyleModel",
          "model_module_version": "1.5.0",
          "state": {
            "_model_module": "@jupyter-widgets/controls",
            "_model_module_version": "1.5.0",
            "_model_name": "DescriptionStyleModel",
            "_view_count": null,
            "_view_module": "@jupyter-widgets/base",
            "_view_module_version": "1.2.0",
            "_view_name": "StyleView",
            "description_width": ""
          }
        }
      }
    }
  },
  "cells": [
    {
      "cell_type": "markdown",
      "source": [
        "# **Resumo de Podcast para Ouvintes Ocupados**\n",
        "\n",
        "Bem-vindo ao projeto que faz parte da masterclass - **Do Conceito à Realidade: Crie seus próprios produtos de IA com ChatGPT** oferecida pelo Dr. Jorge Valverde-Rebaza (detalhes [AQUI](https://visibilia.net.br/masterclass-ia-generativa-crie-produtos-genai-chatgpt/)). Neste projeto, você criará um aplicativo LLM que resume um episódio de podcast, identifica convidados do podcast, identifica os principais destaques analisando o conteúdo do mesmo, e muito mais!\n",
        "\n",
        "## **Problema**\n",
        "\n",
        "Sou um grande fã de podcasts e adoro podcasts por serem uma forma de obter *insights* profundos sobre diferentes tópicos, incluindo negócios, tecnologia, e inclusive saúde. Os podcasts ajudam a aprender com a experiência vivida de pessoas em todo o mundo. Mas o tempo é limitado e acabo ouvindo apenas alguns deles! Estou inscrito em vários podcasts interessantes que lançam 1-2 episódios por semana e o problema é que é difícil identificar um episódio que me agrade. Embora muitos episódios forneçam notas de apresentação, links adicionais e carimbos de data/hora, tais informações terminam sendo pouco úteis para realmente entender os aspectos únicos do podcast e determinar se vou querer ouvi-los! Como posso tornar esse processo de descoberta mais interessante e eficiente?"
      ],
      "metadata": {
        "id": "-MhyTdHC67_9"
      }
    },
    {
      "cell_type": "markdown",
      "source": [
        "## **Solução**\n",
        "\n",
        "Pode-se gerar um boletim informativo personalizado toda semana que resuma cada episódio de podcast lançado naquela semana. Incluiria informações sobre o convidado no episódio, os principais tópicos discutidos, bem como alguns destaques. Para fazer isso possível, deve-se coletar uma lista de feeds RSS do usuário e, periodicamente, processar os episódios mais recentes para gerar o boletim informativo. Isso funciona como um resumo da semana, fornecendo ao usuário o nível certo de detalhes que lhe permitira decidir quais episódios são atraentes e devem ser ouvidos."
      ],
      "metadata": {
        "id": "msDgOt908urp"
      }
    },
    {
      "cell_type": "markdown",
      "source": [
        "## **Abordagem**\n",
        "\n",
        "Dividiremos a abordagem para construir este produto em três partes -\n",
        "\n",
        "- **Parte 1:** usar um modelo de Speech to Text da OpenAI chamado Whisper para transcrever o podcast.\n",
        "\n",
        "- **Parte 2:** usar um LLM da OpenAI para construir a funcionalidade de extração de informações para obter insights do podcast.\n",
        "\n",
        "- **Parte 3:** usar o chatGPT da OpenAI como seu assistente de codificação para criar e implantar um front-end que permita aos usuários experimentar a funcionalidade de ponta a ponta\n",
        "\n",
        "Por meio deste projeto, nosso objetivo é entender como podemos abordar a construção e a implantação de aplicativos LLM que agregam valor aos usuários. Também forneceremos ideias para extensões interessantes e funcionalidades adicionais em várias partes do projeto."
      ],
      "metadata": {
        "id": "L3RLwDzDdjEa"
      }
    },
    {
      "cell_type": "code",
      "execution_count": 1,
      "metadata": {
        "colab": {
          "base_uri": "https://localhost:8080/"
        },
        "id": "yJgXaX4r66dB",
        "outputId": "39f7de37-296b-4408-9cd9-b0dfdbb8d1f2"
      },
      "outputs": [
        {
          "output_type": "stream",
          "name": "stdout",
          "text": [
            "Found existing installation: typing_extensions 4.12.2\n",
            "Uninstalling typing_extensions-4.12.2:\n",
            "  Successfully uninstalled typing_extensions-4.12.2\n",
            "Found existing installation: gradio 4.36.1\n",
            "Uninstalling gradio-4.36.1:\n",
            "  Successfully uninstalled gradio-4.36.1\n",
            "Collecting typing_extensions==4.7.1\n",
            "  Using cached typing_extensions-4.7.1-py3-none-any.whl (33 kB)\n",
            "Installing collected packages: typing_extensions\n",
            "\u001b[31mERROR: pip's dependency resolver does not currently take into account all the packages that are installed. This behaviour is the source of the following dependency conflicts.\n",
            "fastapi 0.111.0 requires typing-extensions>=4.8.0, but you have typing-extensions 4.7.1 which is incompatible.\n",
            "torch 2.3.0+cu121 requires typing-extensions>=4.8.0, but you have typing-extensions 4.7.1 which is incompatible.\u001b[0m\u001b[31m\n",
            "\u001b[0mSuccessfully installed typing_extensions-4.7.1\n",
            "Collecting gradio\n",
            "  Using cached gradio-4.36.1-py3-none-any.whl (12.3 MB)\n",
            "Requirement already satisfied: aiofiles<24.0,>=22.0 in /usr/local/lib/python3.10/dist-packages (from gradio) (23.2.1)\n",
            "Requirement already satisfied: altair<6.0,>=4.2.0 in /usr/local/lib/python3.10/dist-packages (from gradio) (4.2.2)\n",
            "Requirement already satisfied: fastapi in /usr/local/lib/python3.10/dist-packages (from gradio) (0.111.0)\n",
            "Requirement already satisfied: ffmpy in /usr/local/lib/python3.10/dist-packages (from gradio) (0.3.2)\n",
            "Requirement already satisfied: gradio-client==1.0.1 in /usr/local/lib/python3.10/dist-packages (from gradio) (1.0.1)\n",
            "Requirement already satisfied: httpx>=0.24.1 in /usr/local/lib/python3.10/dist-packages (from gradio) (0.27.0)\n",
            "Requirement already satisfied: huggingface-hub>=0.19.3 in /usr/local/lib/python3.10/dist-packages (from gradio) (0.23.4)\n",
            "Requirement already satisfied: importlib-resources<7.0,>=1.3 in /usr/local/lib/python3.10/dist-packages (from gradio) (6.4.0)\n",
            "Requirement already satisfied: jinja2<4.0 in /usr/local/lib/python3.10/dist-packages (from gradio) (3.1.4)\n",
            "Requirement already satisfied: markupsafe~=2.0 in /usr/local/lib/python3.10/dist-packages (from gradio) (2.1.5)\n",
            "Requirement already satisfied: matplotlib~=3.0 in /usr/local/lib/python3.10/dist-packages (from gradio) (3.7.1)\n",
            "Requirement already satisfied: numpy<3.0,>=1.0 in /usr/local/lib/python3.10/dist-packages (from gradio) (1.25.2)\n",
            "Requirement already satisfied: orjson~=3.0 in /usr/local/lib/python3.10/dist-packages (from gradio) (3.10.5)\n",
            "Requirement already satisfied: packaging in /usr/local/lib/python3.10/dist-packages (from gradio) (24.1)\n",
            "Requirement already satisfied: pandas<3.0,>=1.0 in /usr/local/lib/python3.10/dist-packages (from gradio) (2.0.3)\n",
            "Requirement already satisfied: pillow<11.0,>=8.0 in /usr/local/lib/python3.10/dist-packages (from gradio) (9.4.0)\n",
            "Requirement already satisfied: pydantic>=2.0 in /usr/local/lib/python3.10/dist-packages (from gradio) (2.7.4)\n",
            "Requirement already satisfied: pydub in /usr/local/lib/python3.10/dist-packages (from gradio) (0.25.1)\n",
            "Requirement already satisfied: python-multipart>=0.0.9 in /usr/local/lib/python3.10/dist-packages (from gradio) (0.0.9)\n",
            "Requirement already satisfied: pyyaml<7.0,>=5.0 in /usr/local/lib/python3.10/dist-packages (from gradio) (6.0.1)\n",
            "Requirement already satisfied: ruff>=0.2.2 in /usr/local/lib/python3.10/dist-packages (from gradio) (0.4.9)\n",
            "Requirement already satisfied: semantic-version~=2.0 in /usr/local/lib/python3.10/dist-packages (from gradio) (2.10.0)\n",
            "Requirement already satisfied: tomlkit==0.12.0 in /usr/local/lib/python3.10/dist-packages (from gradio) (0.12.0)\n",
            "Requirement already satisfied: typer<1.0,>=0.12 in /usr/local/lib/python3.10/dist-packages (from gradio) (0.12.3)\n",
            "Requirement already satisfied: typing-extensions~=4.0 in /usr/local/lib/python3.10/dist-packages (from gradio) (4.7.1)\n",
            "Requirement already satisfied: urllib3~=2.0 in /usr/local/lib/python3.10/dist-packages (from gradio) (2.0.7)\n",
            "Requirement already satisfied: uvicorn>=0.14.0 in /usr/local/lib/python3.10/dist-packages (from gradio) (0.30.1)\n",
            "Requirement already satisfied: fsspec in /usr/local/lib/python3.10/dist-packages (from gradio-client==1.0.1->gradio) (2023.6.0)\n",
            "Requirement already satisfied: websockets<12.0,>=10.0 in /usr/local/lib/python3.10/dist-packages (from gradio-client==1.0.1->gradio) (11.0.3)\n",
            "Requirement already satisfied: entrypoints in /usr/local/lib/python3.10/dist-packages (from altair<6.0,>=4.2.0->gradio) (0.4)\n",
            "Requirement already satisfied: jsonschema>=3.0 in /usr/local/lib/python3.10/dist-packages (from altair<6.0,>=4.2.0->gradio) (4.19.2)\n",
            "Requirement already satisfied: toolz in /usr/local/lib/python3.10/dist-packages (from altair<6.0,>=4.2.0->gradio) (0.12.1)\n",
            "Requirement already satisfied: anyio in /usr/local/lib/python3.10/dist-packages (from httpx>=0.24.1->gradio) (3.7.1)\n",
            "Requirement already satisfied: certifi in /usr/local/lib/python3.10/dist-packages (from httpx>=0.24.1->gradio) (2024.6.2)\n",
            "Requirement already satisfied: httpcore==1.* in /usr/local/lib/python3.10/dist-packages (from httpx>=0.24.1->gradio) (1.0.5)\n",
            "Requirement already satisfied: idna in /usr/local/lib/python3.10/dist-packages (from httpx>=0.24.1->gradio) (3.7)\n",
            "Requirement already satisfied: sniffio in /usr/local/lib/python3.10/dist-packages (from httpx>=0.24.1->gradio) (1.3.1)\n",
            "Requirement already satisfied: h11<0.15,>=0.13 in /usr/local/lib/python3.10/dist-packages (from httpcore==1.*->httpx>=0.24.1->gradio) (0.14.0)\n",
            "Requirement already satisfied: filelock in /usr/local/lib/python3.10/dist-packages (from huggingface-hub>=0.19.3->gradio) (3.15.1)\n",
            "Requirement already satisfied: requests in /usr/local/lib/python3.10/dist-packages (from huggingface-hub>=0.19.3->gradio) (2.31.0)\n",
            "Requirement already satisfied: tqdm>=4.42.1 in /usr/local/lib/python3.10/dist-packages (from huggingface-hub>=0.19.3->gradio) (4.66.4)\n",
            "Requirement already satisfied: contourpy>=1.0.1 in /usr/local/lib/python3.10/dist-packages (from matplotlib~=3.0->gradio) (1.2.1)\n",
            "Requirement already satisfied: cycler>=0.10 in /usr/local/lib/python3.10/dist-packages (from matplotlib~=3.0->gradio) (0.12.1)\n",
            "Requirement already satisfied: fonttools>=4.22.0 in /usr/local/lib/python3.10/dist-packages (from matplotlib~=3.0->gradio) (4.53.0)\n",
            "Requirement already satisfied: kiwisolver>=1.0.1 in /usr/local/lib/python3.10/dist-packages (from matplotlib~=3.0->gradio) (1.4.5)\n",
            "Requirement already satisfied: pyparsing>=2.3.1 in /usr/local/lib/python3.10/dist-packages (from matplotlib~=3.0->gradio) (3.1.2)\n",
            "Requirement already satisfied: python-dateutil>=2.7 in /usr/local/lib/python3.10/dist-packages (from matplotlib~=3.0->gradio) (2.8.2)\n",
            "Requirement already satisfied: pytz>=2020.1 in /usr/local/lib/python3.10/dist-packages (from pandas<3.0,>=1.0->gradio) (2023.4)\n",
            "Requirement already satisfied: tzdata>=2022.1 in /usr/local/lib/python3.10/dist-packages (from pandas<3.0,>=1.0->gradio) (2024.1)\n",
            "Requirement already satisfied: annotated-types>=0.4.0 in /usr/local/lib/python3.10/dist-packages (from pydantic>=2.0->gradio) (0.7.0)\n",
            "Requirement already satisfied: pydantic-core==2.18.4 in /usr/local/lib/python3.10/dist-packages (from pydantic>=2.0->gradio) (2.18.4)\n",
            "Requirement already satisfied: click>=8.0.0 in /usr/local/lib/python3.10/dist-packages (from typer<1.0,>=0.12->gradio) (8.1.7)\n",
            "Requirement already satisfied: shellingham>=1.3.0 in /usr/local/lib/python3.10/dist-packages (from typer<1.0,>=0.12->gradio) (1.5.4)\n",
            "Requirement already satisfied: rich>=10.11.0 in /usr/local/lib/python3.10/dist-packages (from typer<1.0,>=0.12->gradio) (13.7.1)\n",
            "Requirement already satisfied: starlette<0.38.0,>=0.37.2 in /usr/local/lib/python3.10/dist-packages (from fastapi->gradio) (0.37.2)\n",
            "Collecting typing-extensions~=4.0 (from gradio)\n",
            "  Using cached typing_extensions-4.12.2-py3-none-any.whl (37 kB)\n",
            "Requirement already satisfied: fastapi-cli>=0.0.2 in /usr/local/lib/python3.10/dist-packages (from fastapi->gradio) (0.0.4)\n",
            "Requirement already satisfied: ujson!=4.0.2,!=4.1.0,!=4.2.0,!=4.3.0,!=5.0.0,!=5.1.0,>=4.0.1 in /usr/local/lib/python3.10/dist-packages (from fastapi->gradio) (5.10.0)\n",
            "Requirement already satisfied: email_validator>=2.0.0 in /usr/local/lib/python3.10/dist-packages (from fastapi->gradio) (2.2.0)\n",
            "Requirement already satisfied: dnspython>=2.0.0 in /usr/local/lib/python3.10/dist-packages (from email_validator>=2.0.0->fastapi->gradio) (2.6.1)\n",
            "Requirement already satisfied: attrs>=22.2.0 in /usr/local/lib/python3.10/dist-packages (from jsonschema>=3.0->altair<6.0,>=4.2.0->gradio) (23.2.0)\n",
            "Requirement already satisfied: jsonschema-specifications>=2023.03.6 in /usr/local/lib/python3.10/dist-packages (from jsonschema>=3.0->altair<6.0,>=4.2.0->gradio) (2023.12.1)\n",
            "Requirement already satisfied: referencing>=0.28.4 in /usr/local/lib/python3.10/dist-packages (from jsonschema>=3.0->altair<6.0,>=4.2.0->gradio) (0.35.1)\n",
            "Requirement already satisfied: rpds-py>=0.7.1 in /usr/local/lib/python3.10/dist-packages (from jsonschema>=3.0->altair<6.0,>=4.2.0->gradio) (0.18.1)\n",
            "Requirement already satisfied: six>=1.5 in /usr/local/lib/python3.10/dist-packages (from python-dateutil>=2.7->matplotlib~=3.0->gradio) (1.16.0)\n",
            "Requirement already satisfied: markdown-it-py>=2.2.0 in /usr/local/lib/python3.10/dist-packages (from rich>=10.11.0->typer<1.0,>=0.12->gradio) (3.0.0)\n",
            "Requirement already satisfied: pygments<3.0.0,>=2.13.0 in /usr/local/lib/python3.10/dist-packages (from rich>=10.11.0->typer<1.0,>=0.12->gradio) (2.16.1)\n",
            "Requirement already satisfied: exceptiongroup in /usr/local/lib/python3.10/dist-packages (from anyio->httpx>=0.24.1->gradio) (1.2.1)\n",
            "Requirement already satisfied: httptools>=0.5.0 in /usr/local/lib/python3.10/dist-packages (from uvicorn>=0.14.0->gradio) (0.6.1)\n",
            "Requirement already satisfied: python-dotenv>=0.13 in /usr/local/lib/python3.10/dist-packages (from uvicorn>=0.14.0->gradio) (1.0.1)\n",
            "Requirement already satisfied: uvloop!=0.15.0,!=0.15.1,>=0.14.0 in /usr/local/lib/python3.10/dist-packages (from uvicorn>=0.14.0->gradio) (0.19.0)\n",
            "Requirement already satisfied: watchfiles>=0.13 in /usr/local/lib/python3.10/dist-packages (from uvicorn>=0.14.0->gradio) (0.22.0)\n",
            "Requirement already satisfied: charset-normalizer<4,>=2 in /usr/local/lib/python3.10/dist-packages (from requests->huggingface-hub>=0.19.3->gradio) (3.3.2)\n",
            "Requirement already satisfied: mdurl~=0.1 in /usr/local/lib/python3.10/dist-packages (from markdown-it-py>=2.2.0->rich>=10.11.0->typer<1.0,>=0.12->gradio) (0.1.2)\n",
            "Installing collected packages: typing-extensions, gradio\n",
            "  Attempting uninstall: typing-extensions\n",
            "    Found existing installation: typing_extensions 4.7.1\n",
            "    Uninstalling typing_extensions-4.7.1:\n",
            "      Successfully uninstalled typing_extensions-4.7.1\n",
            "Successfully installed gradio-4.36.1 typing-extensions-4.12.2\n",
            "Requirement already satisfied: feedparser in /usr/local/lib/python3.10/dist-packages (6.0.11)\n",
            "Requirement already satisfied: sgmllib3k in /usr/local/lib/python3.10/dist-packages (from feedparser) (1.0.0)\n",
            "Requirement already satisfied: transformers in /usr/local/lib/python3.10/dist-packages (4.41.2)\n",
            "Requirement already satisfied: accelerate in /usr/local/lib/python3.10/dist-packages (0.31.0)\n",
            "Requirement already satisfied: filelock in /usr/local/lib/python3.10/dist-packages (from transformers) (3.15.1)\n",
            "Requirement already satisfied: huggingface-hub<1.0,>=0.23.0 in /usr/local/lib/python3.10/dist-packages (from transformers) (0.23.4)\n",
            "Requirement already satisfied: numpy>=1.17 in /usr/local/lib/python3.10/dist-packages (from transformers) (1.25.2)\n",
            "Requirement already satisfied: packaging>=20.0 in /usr/local/lib/python3.10/dist-packages (from transformers) (24.1)\n",
            "Requirement already satisfied: pyyaml>=5.1 in /usr/local/lib/python3.10/dist-packages (from transformers) (6.0.1)\n",
            "Requirement already satisfied: regex!=2019.12.17 in /usr/local/lib/python3.10/dist-packages (from transformers) (2024.5.15)\n",
            "Requirement already satisfied: requests in /usr/local/lib/python3.10/dist-packages (from transformers) (2.31.0)\n",
            "Requirement already satisfied: tokenizers<0.20,>=0.19 in /usr/local/lib/python3.10/dist-packages (from transformers) (0.19.1)\n",
            "Requirement already satisfied: safetensors>=0.4.1 in /usr/local/lib/python3.10/dist-packages (from transformers) (0.4.3)\n",
            "Requirement already satisfied: tqdm>=4.27 in /usr/local/lib/python3.10/dist-packages (from transformers) (4.66.4)\n",
            "Requirement already satisfied: psutil in /usr/local/lib/python3.10/dist-packages (from accelerate) (5.9.5)\n",
            "Requirement already satisfied: torch>=1.10.0 in /usr/local/lib/python3.10/dist-packages (from accelerate) (2.3.0+cu121)\n",
            "Requirement already satisfied: fsspec>=2023.5.0 in /usr/local/lib/python3.10/dist-packages (from huggingface-hub<1.0,>=0.23.0->transformers) (2023.6.0)\n",
            "Requirement already satisfied: typing-extensions>=3.7.4.3 in /usr/local/lib/python3.10/dist-packages (from huggingface-hub<1.0,>=0.23.0->transformers) (4.12.2)\n",
            "Requirement already satisfied: sympy in /usr/local/lib/python3.10/dist-packages (from torch>=1.10.0->accelerate) (1.12.1)\n",
            "Requirement already satisfied: networkx in /usr/local/lib/python3.10/dist-packages (from torch>=1.10.0->accelerate) (3.3)\n",
            "Requirement already satisfied: jinja2 in /usr/local/lib/python3.10/dist-packages (from torch>=1.10.0->accelerate) (3.1.4)\n",
            "Requirement already satisfied: nvidia-cuda-nvrtc-cu12==12.1.105 in /usr/local/lib/python3.10/dist-packages (from torch>=1.10.0->accelerate) (12.1.105)\n",
            "Requirement already satisfied: nvidia-cuda-runtime-cu12==12.1.105 in /usr/local/lib/python3.10/dist-packages (from torch>=1.10.0->accelerate) (12.1.105)\n",
            "Requirement already satisfied: nvidia-cuda-cupti-cu12==12.1.105 in /usr/local/lib/python3.10/dist-packages (from torch>=1.10.0->accelerate) (12.1.105)\n",
            "Requirement already satisfied: nvidia-cudnn-cu12==8.9.2.26 in /usr/local/lib/python3.10/dist-packages (from torch>=1.10.0->accelerate) (8.9.2.26)\n",
            "Requirement already satisfied: nvidia-cublas-cu12==12.1.3.1 in /usr/local/lib/python3.10/dist-packages (from torch>=1.10.0->accelerate) (12.1.3.1)\n",
            "Requirement already satisfied: nvidia-cufft-cu12==11.0.2.54 in /usr/local/lib/python3.10/dist-packages (from torch>=1.10.0->accelerate) (11.0.2.54)\n",
            "Requirement already satisfied: nvidia-curand-cu12==10.3.2.106 in /usr/local/lib/python3.10/dist-packages (from torch>=1.10.0->accelerate) (10.3.2.106)\n",
            "Requirement already satisfied: nvidia-cusolver-cu12==11.4.5.107 in /usr/local/lib/python3.10/dist-packages (from torch>=1.10.0->accelerate) (11.4.5.107)\n",
            "Requirement already satisfied: nvidia-cusparse-cu12==12.1.0.106 in /usr/local/lib/python3.10/dist-packages (from torch>=1.10.0->accelerate) (12.1.0.106)\n",
            "Requirement already satisfied: nvidia-nccl-cu12==2.20.5 in /usr/local/lib/python3.10/dist-packages (from torch>=1.10.0->accelerate) (2.20.5)\n",
            "Requirement already satisfied: nvidia-nvtx-cu12==12.1.105 in /usr/local/lib/python3.10/dist-packages (from torch>=1.10.0->accelerate) (12.1.105)\n",
            "Requirement already satisfied: triton==2.3.0 in /usr/local/lib/python3.10/dist-packages (from torch>=1.10.0->accelerate) (2.3.0)\n",
            "Requirement already satisfied: nvidia-nvjitlink-cu12 in /usr/local/lib/python3.10/dist-packages (from nvidia-cusolver-cu12==11.4.5.107->torch>=1.10.0->accelerate) (12.5.40)\n",
            "Requirement already satisfied: charset-normalizer<4,>=2 in /usr/local/lib/python3.10/dist-packages (from requests->transformers) (3.3.2)\n",
            "Requirement already satisfied: idna<4,>=2.5 in /usr/local/lib/python3.10/dist-packages (from requests->transformers) (3.7)\n",
            "Requirement already satisfied: urllib3<3,>=1.21.1 in /usr/local/lib/python3.10/dist-packages (from requests->transformers) (2.0.7)\n",
            "Requirement already satisfied: certifi>=2017.4.17 in /usr/local/lib/python3.10/dist-packages (from requests->transformers) (2024.6.2)\n",
            "Requirement already satisfied: MarkupSafe>=2.0 in /usr/local/lib/python3.10/dist-packages (from jinja2->torch>=1.10.0->accelerate) (2.1.5)\n",
            "Requirement already satisfied: mpmath<1.4.0,>=1.1.0 in /usr/local/lib/python3.10/dist-packages (from sympy->torch>=1.10.0->accelerate) (1.3.0)\n",
            "Requirement already satisfied: openai in /usr/local/lib/python3.10/dist-packages (1.35.1)\n",
            "Requirement already satisfied: anyio<5,>=3.5.0 in /usr/local/lib/python3.10/dist-packages (from openai) (3.7.1)\n",
            "Requirement already satisfied: distro<2,>=1.7.0 in /usr/lib/python3/dist-packages (from openai) (1.7.0)\n",
            "Requirement already satisfied: httpx<1,>=0.23.0 in /usr/local/lib/python3.10/dist-packages (from openai) (0.27.0)\n",
            "Requirement already satisfied: pydantic<3,>=1.9.0 in /usr/local/lib/python3.10/dist-packages (from openai) (2.7.4)\n",
            "Requirement already satisfied: sniffio in /usr/local/lib/python3.10/dist-packages (from openai) (1.3.1)\n",
            "Requirement already satisfied: tqdm>4 in /usr/local/lib/python3.10/dist-packages (from openai) (4.66.4)\n",
            "Requirement already satisfied: typing-extensions<5,>=4.7 in /usr/local/lib/python3.10/dist-packages (from openai) (4.12.2)\n",
            "Requirement already satisfied: idna>=2.8 in /usr/local/lib/python3.10/dist-packages (from anyio<5,>=3.5.0->openai) (3.7)\n",
            "Requirement already satisfied: exceptiongroup in /usr/local/lib/python3.10/dist-packages (from anyio<5,>=3.5.0->openai) (1.2.1)\n",
            "Requirement already satisfied: certifi in /usr/local/lib/python3.10/dist-packages (from httpx<1,>=0.23.0->openai) (2024.6.2)\n",
            "Requirement already satisfied: httpcore==1.* in /usr/local/lib/python3.10/dist-packages (from httpx<1,>=0.23.0->openai) (1.0.5)\n",
            "Requirement already satisfied: h11<0.15,>=0.13 in /usr/local/lib/python3.10/dist-packages (from httpcore==1.*->httpx<1,>=0.23.0->openai) (0.14.0)\n",
            "Requirement already satisfied: annotated-types>=0.4.0 in /usr/local/lib/python3.10/dist-packages (from pydantic<3,>=1.9.0->openai) (0.7.0)\n",
            "Requirement already satisfied: pydantic-core==2.18.4 in /usr/local/lib/python3.10/dist-packages (from pydantic<3,>=1.9.0->openai) (2.18.4)\n",
            "Requirement already satisfied: tiktoken in /usr/local/lib/python3.10/dist-packages (0.7.0)\n",
            "Requirement already satisfied: regex>=2022.1.18 in /usr/local/lib/python3.10/dist-packages (from tiktoken) (2024.5.15)\n",
            "Requirement already satisfied: requests>=2.26.0 in /usr/local/lib/python3.10/dist-packages (from tiktoken) (2.31.0)\n",
            "Requirement already satisfied: charset-normalizer<4,>=2 in /usr/local/lib/python3.10/dist-packages (from requests>=2.26.0->tiktoken) (3.3.2)\n",
            "Requirement already satisfied: idna<4,>=2.5 in /usr/local/lib/python3.10/dist-packages (from requests>=2.26.0->tiktoken) (3.7)\n",
            "Requirement already satisfied: urllib3<3,>=1.21.1 in /usr/local/lib/python3.10/dist-packages (from requests>=2.26.0->tiktoken) (2.0.7)\n",
            "Requirement already satisfied: certifi>=2017.4.17 in /usr/local/lib/python3.10/dist-packages (from requests>=2.26.0->tiktoken) (2024.6.2)\n",
            "Requirement already satisfied: wikipedia in /usr/local/lib/python3.10/dist-packages (1.4.0)\n",
            "Requirement already satisfied: beautifulsoup4 in /usr/local/lib/python3.10/dist-packages (from wikipedia) (4.12.3)\n",
            "Requirement already satisfied: requests<3.0.0,>=2.0.0 in /usr/local/lib/python3.10/dist-packages (from wikipedia) (2.31.0)\n",
            "Requirement already satisfied: charset-normalizer<4,>=2 in /usr/local/lib/python3.10/dist-packages (from requests<3.0.0,>=2.0.0->wikipedia) (3.3.2)\n",
            "Requirement already satisfied: idna<4,>=2.5 in /usr/local/lib/python3.10/dist-packages (from requests<3.0.0,>=2.0.0->wikipedia) (3.7)\n",
            "Requirement already satisfied: urllib3<3,>=1.21.1 in /usr/local/lib/python3.10/dist-packages (from requests<3.0.0,>=2.0.0->wikipedia) (2.0.7)\n",
            "Requirement already satisfied: certifi>=2017.4.17 in /usr/local/lib/python3.10/dist-packages (from requests<3.0.0,>=2.0.0->wikipedia) (2024.6.2)\n",
            "Requirement already satisfied: soupsieve>1.2 in /usr/local/lib/python3.10/dist-packages (from beautifulsoup4->wikipedia) (2.5)\n"
          ]
        }
      ],
      "source": [
        "#installing libraries\n",
        "!pip uninstall typing-extensions -y\n",
        "!pip uninstall gradio -y\n",
        "!pip install typing_extensions==4.7.1\n",
        "!pip install gradio\n",
        "!pip install feedparser\n",
        "!pip install transformers accelerate\n",
        "!pip install openai\n",
        "!pip install tiktoken\n",
        "!pip install wikipedia"
      ]
    },
    {
      "cell_type": "markdown",
      "source": [],
      "metadata": {
        "id": "rozKXKFe9NJH"
      }
    },
    {
      "cell_type": "code",
      "source": [
        "#calling packages\n",
        "\n",
        "import feedparser\n",
        "import tiktoken\n",
        "import json\n",
        "import os\n",
        "import wikipedia\n",
        "import torch\n",
        "from transformers import AutoModelForSpeechSeq2Seq, AutoProcessor, pipeline\n",
        "from openai import OpenAI\n",
        "from google.colab import userdata\n",
        "from huggingface_hub import notebook_login\n",
        "import gradio as gr"
      ],
      "metadata": {
        "id": "ga7itDKKed6M"
      },
      "execution_count": 2,
      "outputs": []
    },
    {
      "cell_type": "markdown",
      "source": [
        "# **I. Podcast Transcription**\n",
        "\n"
      ],
      "metadata": {
        "id": "UGPYDHWWf38S"
      }
    },
    {
      "cell_type": "markdown",
      "source": [
        "## **1.1 Collecting Audio Data File**\n",
        "\n",
        "O primeiro passo é obter os dados dos podcast do nosso interesse e coletar tais dados. Uma maneira eficaz para fazermos isso é:\n",
        "\n",
        "\n",
        "1.   Acessar o *feed RSS* do podcast do nosso interesse\n",
        "2.   Identificar o episódio de interesse\n",
        "3.   Recuperar o arquivo de áudio (normalmente no formato MP3).\n",
        "\n",
        "Um dos sites mais comuns para encontrar informações sobre podcasts é o [ListenNotes](https://www.listennotes.com/). Você pode pesquisar qualquer podcast que goste e clicar no ícone RSS para recuperar o feed RSS. Por exemplo, The Economist publica um podcast diário de resumo de notícias chamado [The Intelligence](https://www.listennotes.com/podcasts/the-intelligence-from-the-economist-the-stZlS3fr8KO/) que é bem conciso e informativo. Vamos usar o feed RSS deste podcast.\n",
        "\n",
        "<br>\n"
      ],
      "metadata": {
        "id": "f1vUywuQq2IM"
      }
    },
    {
      "cell_type": "markdown",
      "source": [
        "\n",
        "---\n",
        "\n",
        "\n",
        "\n",
        "\n",
        "**Considerações importantes**\n",
        "\n",
        "Devido a que trabalharemos com recursos computacionais limitados, devemos ter em conta que:\n",
        "\n",
        "*   Trabalharemos com podcasts que tenham duração máxima de 25 a 30 minutos\n",
        "\n",
        "Para trabalhar com podcasts de tamanho maior, é possível que além de precisar do uso de GPUs, haja também um consumo maior na API de OpenAI bem como a necessidade do uso de estratégias para o particionamento do tamanho do token de entraa/saída em múltiplas chamadas à API de OpenAI.\n",
        "<br>\n",
        "\n",
        "\n",
        "---\n",
        "\n"
      ],
      "metadata": {
        "id": "00t-FMVcqwLk"
      }
    },
    {
      "cell_type": "markdown",
      "source": [
        "Começamos por acessar o podcast por completo"
      ],
      "metadata": {
        "id": "cacXvkyckAPH"
      }
    },
    {
      "cell_type": "code",
      "source": [
        "podcast_url = \"https://access.acast.com/rss/d556eb54-6160-4c85-95f4-47d9f5216c49\"\n",
        "podcast_feed = feedparser.parse(podcast_url)\n",
        "print (\"The number of podcast entries is \", len(podcast_feed.entries))"
      ],
      "metadata": {
        "colab": {
          "base_uri": "https://localhost:8080/"
        },
        "id": "bsJtDkQlizBY",
        "outputId": "373894ab-b7c6-4aca-ba24-2a6556da3c1b"
      },
      "execution_count": 3,
      "outputs": [
        {
          "output_type": "stream",
          "name": "stdout",
          "text": [
            "The number of podcast entries is  1412\n"
          ]
        }
      ]
    },
    {
      "cell_type": "code",
      "source": [
        "podcast_title = podcast_feed['feed']['title']\n",
        "print(\"The podcast tiles is \", podcast_title)"
      ],
      "metadata": {
        "colab": {
          "base_uri": "https://localhost:8080/"
        },
        "id": "6QoeHHK-diy-",
        "outputId": "d19b7c0e-1a34-4142-9500-555612700d9b"
      },
      "execution_count": 4,
      "outputs": [
        {
          "output_type": "stream",
          "name": "stdout",
          "text": [
            "The podcast tiles is  The Intelligence from The Economist\n"
          ]
        }
      ]
    },
    {
      "cell_type": "code",
      "source": [
        "episode_title = podcast_feed.entries[0]['title']\n",
        "print(\"The title of podcast episode is \", episode_title)\n"
      ],
      "metadata": {
        "colab": {
          "base_uri": "https://localhost:8080/"
        },
        "id": "9XNNMT9zd9Ih",
        "outputId": "194df8d6-9ccf-4285-af5a-29faf9d04567"
      },
      "execution_count": 5,
      "outputs": [
        {
          "output_type": "stream",
          "name": "stdout",
          "text": [
            "The title of podcast episode is  Empire of the sun: a solar power revolution\n"
          ]
        }
      ]
    },
    {
      "cell_type": "code",
      "source": [
        "episode_image = podcast_feed['feed']['image'].href\n",
        "print(\"The url of episode image is: \", episode_image)"
      ],
      "metadata": {
        "colab": {
          "base_uri": "https://localhost:8080/"
        },
        "id": "BiqKG0HrePg_",
        "outputId": "3f7053c0-9ef9-4c18-9b59-4de2f613cb2b"
      },
      "execution_count": 6,
      "outputs": [
        {
          "output_type": "stream",
          "name": "stdout",
          "text": [
            "The url of episode image is:  https://assets.pippa.io/shows/62e286a934d4d93d6587424a/1708532528162-b9341a1e28f72ef144e53cf135fce49e.jpeg\n"
          ]
        }
      ]
    },
    {
      "cell_type": "markdown",
      "source": [
        "Vamos obter a URL do episódio da nossa preferência. No nosso caso, ficaremos com a entrada mais recente do feed.\n",
        "\n",
        "Logo, faremos o download do arquivo MP3 correspondente e o salvaremos no próprio Google Colab com o nome `my_favourite_podcast.mp3`"
      ],
      "metadata": {
        "id": "uv_kQHUEj6_M"
      }
    },
    {
      "cell_type": "code",
      "source": [
        "for item in podcast_feed.entries[0].links:\n",
        "  if (item['type'] == 'audio/mpeg'):\n",
        "    my_episode = item.href\n",
        "!wget -O 'my_favourite_podcast.mp3' {my_episode}"
      ],
      "metadata": {
        "colab": {
          "base_uri": "https://localhost:8080/"
        },
        "id": "adIsZ3-akjBn",
        "outputId": "72681f9f-3333-4dcb-ecc9-f33a7f167743"
      },
      "execution_count": 7,
      "outputs": [
        {
          "output_type": "stream",
          "name": "stdout",
          "text": [
            "--2024-06-20 18:17:49--  https://sphinx.acast.com/p/acast/s/theintelligencepodcast/e/6674023ffcc9a9001331f5ee/media.mp3?tk=eyJ0ayI6ImRlZmF1bHQiLCJhZHMiOnRydWUsInNwb25zIjp0cnVlLCJzdGF0dXMiOiJwdWJsaWMifQ==\n",
            "Resolving sphinx.acast.com (sphinx.acast.com)... 13.226.210.97, 13.226.210.118, 13.226.210.122, ...\n",
            "Connecting to sphinx.acast.com (sphinx.acast.com)|13.226.210.97|:443... connected.\n",
            "HTTP request sent, awaiting response... 302 Found\n",
            "Location: https://stitcher2.acast.com/livestitches/4b568a517f3221d7302f0fb9b178f578.mp3?aid=6674023ffcc9a9001331f5ee&chid=d556eb54-6160-4c85-95f4-47d9f5216c49&ci=spxpu10QI2KVj_s8OD3JH_hVYr_FDSsS7oVPkWxv72Lbf3DoPI6ElQ%3D%3D&pf=rss&sv=sphinx%401.208.0&uid=96e73331586fd8e61ce2ace636960b2a&Expires=1718919169864&Key-Pair-Id=K38CTQXUSD0VVB&Signature=LizO2G589VLcGNyrtuXtq6mJoLYTySrDlw-~xlddIblwgeeSUEzIO6MXV-G7VzSM7x9WCpZG7usooAOaAGEttnN1G6QK5t9g1jK7ZGjhaDDGpmnTMRmN5yrKrINrv~MCv87lh6RM3WIz2SS-HH9jtk5pZVgGmUX73lr7CrirfG3Z1CPJ71Dye8qt-Ohtl76~YR9TwRPiTM7sK9k7IoRrgsnnqteBOP-D6BPC-zz9Xg2SUrf~U57ppWF1W1IgLC5kBAAktFTrB0tHgDWhcz06QR7x9WWUJPh~aJ5FlvK8378ysy5YxLsmNAdV5gRRaWh4SlAUR~6ACXchdwUUhVwwiw__ [following]\n",
            "--2024-06-20 18:17:50--  https://stitcher2.acast.com/livestitches/4b568a517f3221d7302f0fb9b178f578.mp3?aid=6674023ffcc9a9001331f5ee&chid=d556eb54-6160-4c85-95f4-47d9f5216c49&ci=spxpu10QI2KVj_s8OD3JH_hVYr_FDSsS7oVPkWxv72Lbf3DoPI6ElQ%3D%3D&pf=rss&sv=sphinx%401.208.0&uid=96e73331586fd8e61ce2ace636960b2a&Expires=1718919169864&Key-Pair-Id=K38CTQXUSD0VVB&Signature=LizO2G589VLcGNyrtuXtq6mJoLYTySrDlw-~xlddIblwgeeSUEzIO6MXV-G7VzSM7x9WCpZG7usooAOaAGEttnN1G6QK5t9g1jK7ZGjhaDDGpmnTMRmN5yrKrINrv~MCv87lh6RM3WIz2SS-HH9jtk5pZVgGmUX73lr7CrirfG3Z1CPJ71Dye8qt-Ohtl76~YR9TwRPiTM7sK9k7IoRrgsnnqteBOP-D6BPC-zz9Xg2SUrf~U57ppWF1W1IgLC5kBAAktFTrB0tHgDWhcz06QR7x9WWUJPh~aJ5FlvK8378ysy5YxLsmNAdV5gRRaWh4SlAUR~6ACXchdwUUhVwwiw__\n",
            "Resolving stitcher2.acast.com (stitcher2.acast.com)... 18.154.144.38, 18.154.144.73, 18.154.144.123, ...\n",
            "Connecting to stitcher2.acast.com (stitcher2.acast.com)|18.154.144.38|:443... connected.\n",
            "HTTP request sent, awaiting response... 200 OK\n",
            "Length: 25962594 (25M) [audio/mpeg]\n",
            "Saving to: ‘my_favourite_podcast.mp3’\n",
            "\n",
            "my_favourite_podcas 100%[===================>]  24.76M  11.8MB/s    in 2.1s    \n",
            "\n",
            "2024-06-20 18:17:53 (11.8 MB/s) - ‘my_favourite_podcast.mp3’ saved [25962594/25962594]\n",
            "\n"
          ]
        }
      ]
    },
    {
      "cell_type": "markdown",
      "source": [
        "Para confirmar se o episódio do podcast foi baixado com sucesso, você pode usar o painel de navegação esquerdo no Google Colab para navegar até a seção de pastas e verificar."
      ],
      "metadata": {
        "id": "NqK7AdzPlduZ"
      }
    },
    {
      "cell_type": "markdown",
      "source": [
        "## **1.2 Transcribe the Audio File**\n",
        "\n",
        "Usaremos [Distill Whisper](https://huggingface.co/distil-whisper/distil-medium.en) como nosso modelo de fala para texto. O modelo original foi disponibilizado pela OpenAI e esta versão foi destilada (compactada) usando ajustes finos adicionais para que funcione mais rápido. Há uma ligeira queda na precisão, mas para nosso caso de uso isso não terá um grande impacto.\n",
        "\n",
        "Para usar o HuggingFace, é necessário primeiro criar uma [conta](https://huggingface.co/) e concordar com os Termos e Condições. Depois que isso for concluído, execute a célula abaixo que fornecerá um link para sua conta HuggingFace, onde você pode copiar o token. Depois de copiá-lo e colá-lo aqui, você poderá extrair e usar muitos dos modelos hospedados no hub HuggingFace.\n"
      ],
      "metadata": {
        "id": "u-U3EneVlmm_"
      }
    },
    {
      "cell_type": "code",
      "source": [
        "notebook_login()"
      ],
      "metadata": {
        "colab": {
          "base_uri": "https://localhost:8080/",
          "height": 162,
          "referenced_widgets": [
            "9e27c47cd3484fc18213937b0e80d445",
            "987a24b5228f4b238dbe1422205d86c3",
            "3dcec886cc0c4028b5fde19767d3b119",
            "e0eabb19f2a04136b82937e2265e989f",
            "02d6e90eb4994cddb95b7a77a07d4440",
            "7d90a29a1267442d8cdc3f674e30ea0d",
            "ab038f429b2643abaed32b3e2508adb9",
            "f11d799faec8473eb519be9110c060ce",
            "2c7af412b8e947a98df414c00dd72b6a",
            "1817f890fe374cfc9008f4902f6486f2",
            "3f7d9fa430bc4e6c9d01a557cee80212",
            "9f4fb67633334f62ad7dc2402daa3381",
            "c9cc0b6642aa4b9fb28210dbf17bc4f4",
            "8612ab8e02ed42cfaaa4dd5101fa8d53",
            "8541c617b2984f719dd77cd0dc8ec5dc",
            "2b30cb4ef03f4bc08659f74855e04b4c",
            "bd9ff3be64b34c61829f454e72b09aec",
            "200185e4d2da4f74acfec9ad65e9e851",
            "6fb40a91b062451baeaa47bee1b403ca",
            "9e3f8f0ca64441068dd39f696be44173",
            "76f400e3f99b4c699f161f68c09636a8",
            "57fc85ed79e04595b254929d7f7370ba",
            "b1167b0e63964053b1396d8fa51cd0d8",
            "2f3fa8af218f4a3995edf0a6be499d89",
            "25c0c552de7943f1a694f8777a6daa28",
            "7eaa5565aa054f9b86b097ddf467b0fa",
            "67327a0e762b467490d7d545eda0d197",
            "a42a339957f74871af04a014bc8e96d8",
            "b2f34b51452044e1a9e3387e53a979ec",
            "473523eb106543ac95bbbdbe0dcf2993",
            "50f1e67cea8e450a88a8f2571c50acdd",
            "c65df2422b74431fa856d7c948849baa"
          ]
        },
        "id": "I-Ism9AYnjF1",
        "outputId": "94c33476-184f-4850-9f22-cc1686c7e0fc"
      },
      "execution_count": 8,
      "outputs": [
        {
          "output_type": "display_data",
          "data": {
            "text/plain": [
              "VBox(children=(HTML(value='<center> <img\\nsrc=https://huggingface.co/front/assets/huggingface_logo-noborder.sv…"
            ],
            "application/vnd.jupyter.widget-view+json": {
              "version_major": 2,
              "version_minor": 0,
              "model_id": "9e27c47cd3484fc18213937b0e80d445"
            }
          },
          "metadata": {}
        }
      ]
    },
    {
      "cell_type": "code",
      "source": [
        "%%time\n",
        "\n",
        "device = \"cuda:0\" if torch.cuda.is_available() else \"cpu\"\n",
        "torch_dtype = torch.float16 if torch.cuda.is_available() else torch.float32\n",
        "\n",
        "model_id = \"distil-whisper/distil-medium.en\"\n",
        "\n",
        "model = AutoModelForSpeechSeq2Seq.from_pretrained(\n",
        "    model_id, torch_dtype=torch_dtype, low_cpu_mem_usage=True, use_safetensors=True\n",
        ")\n",
        "model.to(device)\n",
        "\n",
        "processor = AutoProcessor.from_pretrained(model_id)\n",
        "\n",
        "pipe = pipeline(\n",
        "    \"automatic-speech-recognition\",\n",
        "    model=model,\n",
        "    tokenizer=processor.tokenizer,\n",
        "    feature_extractor=processor.feature_extractor,\n",
        "    max_new_tokens=128,\n",
        "    chunk_length_s=15,\n",
        "    batch_size=16,\n",
        "    torch_dtype=torch_dtype,\n",
        "    device=device,\n",
        ")"
      ],
      "metadata": {
        "colab": {
          "base_uri": "https://localhost:8080/"
        },
        "id": "cfMvQ7F_n7LX",
        "outputId": "13e8ae96-075b-4745-afff-3ed47e051cb3"
      },
      "execution_count": 12,
      "outputs": [
        {
          "output_type": "stream",
          "name": "stderr",
          "text": [
            "Special tokens have been added in the vocabulary, make sure the associated word embeddings are fine-tuned or trained.\n"
          ]
        },
        {
          "output_type": "stream",
          "name": "stdout",
          "text": [
            "CPU times: user 1.11 s, sys: 72 ms, total: 1.18 s\n",
            "Wall time: 3.05 s\n"
          ]
        }
      ]
    },
    {
      "cell_type": "markdown",
      "source": [
        "Agora precisamos enviar o arquivo do podcast baixado para obter sua transcrição.\n",
        "\n",
        "O que esse modelo faz é dividir o áudio em pedaços de 15 segundos e, em seguida, processar 16 desses pedaços em um lote. Isso acelera o processo significativamente em comparação com a implementação original do Whisper V2. Isso nos permite transcrever um podcast de 27 minutos em menos de 1 minuto!\n",
        "\n",
        "\n",
        "\n",
        "---\n",
        "\n",
        "\n",
        "\n",
        "**NOTA**:\n",
        "- Esta etapa provavelmente levará mais tempo para ser concluída, dependendo da duração do episódio do podcast.\n",
        "- Criamos este notebook com o tempo de execução da GPU habilitado e isso já vai acelerar as coisas. Na versão gratuita do Google Colab, o notebook provavelmente receberá uma GPU T4, que leva menos de um minuto para transcrever um episódio de 30 minutos.\n",
        "- Se você tiver uma versão paga do Google Colab, poderá escolher uma GPU diferente, como V100 ou A100, para acelerar o trabalho.\n",
        "\n",
        "\n",
        "\n",
        "---\n",
        "\n"
      ],
      "metadata": {
        "id": "Wm3m59Rmou-Y"
      }
    },
    {
      "cell_type": "code",
      "source": [
        "%%time\n",
        "\n",
        "podcast_transcript = pipe(\"/content/my_favourite_podcast.mp3\")\n",
        "print(podcast_transcript[\"text\"])"
      ],
      "metadata": {
        "colab": {
          "base_uri": "https://localhost:8080/"
        },
        "id": "-3dVNAbbpU-N",
        "outputId": "f07dc00a-5b10-4e30-e37b-348777dd8b34"
      },
      "execution_count": 13,
      "outputs": [
        {
          "output_type": "stream",
          "name": "stdout",
          "text": [
            " What does it take to move the needle on the world's toughest problems? On better heroes, we've sourced the globe for passionate individuals and visionary companies who are all on a mission to solve humanity's most urgent challenges. Like, can AI make the world a better place? How can we change our consumption habits to better serve the environment and what can we do to make our financial systems work for all? This series will convince you that humanity can save itself and our planet. Better Heroes is by EY and produced by human group media. Listen now, wherever you get your podcasts. The Economist. Hello and welcome to the Intelligence from The Economist. I'm your host Rosie Bloor. Every weekday we provide a fresh perspective on the event shaping your world. Champagne may be the drink of celebration, but wine collectors have long sniffed at the bubbly stuff. Now the global market is growing and Sotheby's is staging its first champagne-only auction. The market is looking rather sparkly. And are you an early bird or a night owl? I'm sure you know which of those you are, but you might not know how that affects your career prospects. Our correspondent got up with the larks to share his conclusions. But first. This This evening thousands of people will descend on Stonehenge at sunset. Druids, pagans, tourists are all united by one thing, the desire to see the solstice, the longest day in the northern hemisphere, and the event this prehistoric monument was built for, when the sun's rays shine into the heart of the ancient stone circle. But you don't have to be dressed in druidids robes to appreciate the awesome power of the sun. And I really do mean power. These days we channel the sun's rays less through stone formations than via silicon panels. These solar cells increasingly help to power our greedy planet. Solar accounted for about 6% of electricity consumption worldwide last year, a humble but important share and one that is growing extremely fast. The ancients really were on to something. A revolution in solar energy is just on the horizon. The rate at which we use an energy source and the cost of that energy source are coupled. And what that means is that as we use more solar power, the cost of it is going down incredibly quickly. Hal Hodson is the Economist's America's editor and also writes about technology. But this ultimately means is that humanity has a whole new relationship with energy and the way that we use energy is going to be completely transformed the next few decades. Hal, you say we've got a whole new relationship with energy. It sounds incredible. Just how fast does the increase been? So in 2004 the world installed about two and a half million solar panels. These are the black panels you see on roofs increasingly around you. And this year the world world is uncours to install 1.4 billion solar panels. Solar is growing so fast now that it's on track to generate more electricity than the world's nuclear power plants by 2026, its wind turbines by 2027, all of the hydroelectric dams by 2028, then it'll overtake electricity generated by gas in 2030 and coal in 2032. And at that point it will be the biggest source of electricity on the planet. The biggest source of electricity on the planet that's just stunning. What's powering this solar revolution? So the thing that is making all of this happen in truth is a giant manufacturing ecosystem in the harsh of industrial China, but there's slightly more to it than that. The real thing that's making solar go so fast is the nature of the technology itself. Solar cells, those are the chunks of silicon that make up a solar panel, are essentially identical, and whether you need 10 solar cells or 10 billion solar cells you're going to use the same manufacturing ecosystem and what that means is that solar much more than any other, can benefit from returns to scale. If you know that the world is going to use more and more of these things, you can build really, really gigantic factories to make the solar cells, to make the inputs to those solar cells. And you build this feedback loop between supply and demand that keeps driving the price down. And to date, the price has come down since 1974 by 99.9%. It used to be $100 a watt, now it's 11 cents per watt, and it is still going. Hal, I keep expecting you to come in with a butt here. You're telling me that prices are going. Hal, I keep expecting you to come in with a butt here. You're telling me that prices are going down and rates are going up. Can this extraordinary rate of growth really continue? Well, there is a big butt that should be familiar to most humans on the planet, which is that the sun only shines during the day and solar panels only generate electricity when the sun is shining on them. So that seems like an absolutely enormous but. But to that but there are numerous ways around it and the key thing to bear in mind is that all that matters is that you keep expanding the amount of solar panels installed on the planet and keep growing the rate at which they are produced and that's going to keep driving your costs down. So yes the sun only shines during the day but the vast majority of countries have not installed a large amount of solar panels yet and even though the sun only shines during the day we have other technologies which allow you to take the energy generated from the panels when the sun shines during the day and use it later in the evening. These are batteries and very fortunately for solar panels and for humans really in general. The rate at which batteries are getting cheaper looks very similar to the rate of which batteries are getting cheaper, it looks very similar to the rate of which solar panels are getting cheaper. So if we're finding ways to make sunshine power us even through the night, what could this explosion of renewable energy mean for climate change? This is definitely good news for climate change. There's no way to cautiously say that it's not good news. If you look at European emissions, even just since the Ukraine war, they're down and the reason they're down is largely because a massive amount of solar panels have been installed on the grid. The butt here is because solar doesn't directly provide energy during the night and because you need batteries and other things to help you do that, that becomes a bit more expensive. If you are a poor country looking at this, you're just going to say, oh well, I'm going to run a bunch of coal power plants and a bunch of solar plants. And so it comes down to the cost, right? The two cheapest forms of energy on the planet are solar and coal and only one of them can go through the night without adding on other bits of technology that make the whole thing more expensive. Now it's possible that solar and batteries is a combination gets so cheap so fast that even countries that are thinking we're going to build massive coal plants say oh no actually it doesn't make any sense anymore it's just cheaper to do it using these technologies. But that's not guaranteed at all. You've also got to consider just the political implications of shutting down your coal mining industry, which probably employs a couple million people if you're a large country like India. So there are both technological and political considerations that mitigate against solar sort of miraculous price declines completely solving climate change. It's almost certainly going to remain a problem over the next few decades. Hal, it's incredibly rare to hear such a good news story that continues all the way through to the end to be a good news story. Just tell me what does very cheap solar energy mean for the global economy as a whole? If you think about it, energy is probably one of the only things that is an input into all products. The entire economy runs on energy even to a much greater extent than it runs on, say, information processing. So the first way to answer your question is just everything gets cheaper. A more speculative way of thinking about what does this do? What does it mean to have such cheap energy coming from solar? Is what could you do with how much solar panel and the scale of this energy source and the fact that you can just buy a bunch of them and put them in a field and do something with them makes you start to think rather wackly. You think about doing things like using solar panels to treat all of the drinking water in the world so that you would eliminate waterborne diseases. That's going to require an amount of solar roughly that the Chinese ecosystem makes in a year. Yeah, you've got to install this and all of these finicky things. But just thinking about how much energy is required to do what job, we're now in a world where a single country produces a machine that makes enough energy to do that job every year to give humans drinking water that doesn't kill them. You could also think about just making all of the fuels that we need instead of digging them out of the ground sucking them out of the ground you could just make them using water and carbon dioxide. Again energy needs to be very very very cheap for that to any sense. But that's the whole point of this story. Energy's getting very, very, very cheap. And the geopolitical impact of all of this? I think it's quite clear that it's going to be geopolitically stabilising to have a machine, thousands, millions, billions of which exist in every country that just produces energy by being pointed at the sky. That's completely different to the flows of oil and gas that currently cause so much geopolitical strife. But there is another consideration which is that everyone's a bit worried about the Chinese producing so many of these machines, these solar panels that are going to provide all of this energy. The way that the world responds to that, it matters quite a lot because if the world responds in such a way that it says we're not going to even allow Chinese companies to set up factories in our country we're going to completely ignore everything they've done and we're going to try and build our own versions of this. Then you might break this wonderful scaling effect whereby you make more you learn to make it more cheaply and the cost of solar goes down if the West tries to go its own way and doesn't learn from China it might have to start at the top of that process again and that would be really bad for the world. Then you'd have much higher priced solar panels and you would break the whole cycle of deploying more, having more demand, producing more, reducing the cost of the solar energy. So that's a sort of geopolitical worry that I have. But even if that does happen in the West totally turns its back on China and forges its own path. There's no reason to think that the same exact process can't happen. Because what we're really talking about here is a very simple, very easy to make machine that produces 30 years of energy just by being pointed at the sun. The world really has not woken up to the consequences of having thousands, millions, billions of those machines all over the world on every house on every business in the field behind your house. Hal thank you so much for bringing some sun to our lives. Thanks Rosie, thank you very much for having me. And if you want to know more about the solar revolution, keep an ear out for next week's episode of Babbage, where we'll also be exploring space-based solar power. For those enlightened enough already to be subscribers to Economist Podcast Plus, thank you. For everyone else, you'll need to buy a subscription to listen. Find out more in the link in the world's toughest problems? On better heroes, we've sourced the globe for passionate individuals and visionary companies who are all on a mission to solve humanity's most urgent challenges. Like can AI make the world a better place? How can we change our consumption habits to better serve the environment and what can we do to make our financial systems work for all. This series will convince you that humanity has ever offered a single owner wine auction focused entirely on champagne. I'm not sure that this will ever come up again. Today in Paris, Southerby's is holding the first ever Champagne-only auction expected to raise around $2 million. Given how famous the French wine is, some may wonder why it's taken the auction house so long to come around to the fizzy stuff. Well, it's all about reputation. For decades, connoisseurs have been rather sniffy about bubbles, preferring reds and whites from places like Burgundy or Bordeaux. But last year, global champagne sales hit a record high of $7 billion. Now even wine collectors are waking up to the joy of celebratory sparkles. Champagne has been having a moment, but one of the interesting things is how differently people see Champagne. Alexandra Seward-Souich-Bass is culture editor of the economist. So in some ways you have some of the most famous brands in the world, the Vove Klicos, Krug, Crystal, that are incredibly well known by people and are brands that one aspires to purchase during Times' celebration. On the other hand, you have people who take wine very seriously and Champagne has not been on the top of their list when it comes to their celebrations of fine wine. Recently however that started to change. Alexandra I'm amazed to hear that people haven't been paying enough attention to Champagne. Why hasn't it captured the attention of Connoisseurs before this. I've been doing what is probably the next best thing to drinking Champagne, which is reading histories of Champagne. And Robert Walter is an Australian wine writer makes the point that Champagne has always been peddled as a bubbly drink for bubbly people. You see it in the marketing for people who are going to clubs or perhaps rapper. So I think part of it is the marketing that it's kind of a mass luxury major champagne brands are owned by Louis Vuitton Mo Wei Hennessy one of the largest luxury conglomerates in the world. And so it's a brand to aspire to, but the wine connoisseurs see that and don't think it's as artisanal, unique, and complex as some of the other wines from regions in France and elsewhere. Alexandra, I hope you've been drinking some champagne as part of your research for this piece. Tell me why that started to change. I of course take my job and research very seriously, so I did oblige. A few things have changed in terms of how wine collectors, investors, lovers have seen champagne. One was COVID and that left people with a lot of time on their hands, some extra cash for the well-heeled who were not going out to dine in restaurants as much. People found themselves with a lot more time to study champagne producers methods of blending and adding dossage, which is a mixture that includes cane sugar and sweetens champagne before bottling. I'm the third generation of Lam-Dier producer. I'm back in the estate since seven years ago taking over my parents who took from their parents and from my dad parents. That's Arthur Larmandier of Larmandier Bernier, a champagne house. They get as for wine, the industry that there is not only be brand and not only bubble, that there is wine behind the bubble. And that's... At first he thought it would take five years for champagne to bounce back from COVID, but instead demand surged and it took about six months. There's another factor driving wine aficionados to look at their champagne flutes a little bit differently. And that connects to Larmondier, which is appreciation for smaller houses that produce limited quantities of high quality bubbly. They often have really strong and unique viticultural practices and really give a sense of terwar or the place that wine is grown, so it's site specific and very unique. We've seen prices for growers' champagne skyrocket on the secondary market. People who collect it have seen prices double if not more for certain makers since the start of the pandemic. Presumably it wasn't just COVID that was responsible for this interest and surge in prices for grower Champanes. What else has been going on? The fact that Champagne has been reviewed more often I think did drive interest as well. The fact that wine aficionados were taking it more seriously in places like the wine advocate and elsewhere drove people to give it a try themselves. But I would say it's really, some call it a burgundification of champagne, which is a clunky way of saying that just like people take wines from Burgundy very seriously and think about how the different plots give you a very different experience. People are starting to do that with Champagne. Historically, Champagne has been blended, both from the grapes from different areas in Champagne, grown by different people, and also blended across different years. It's probably the most processed wine that's produced in the world. But we've started to see that change with grower Champagne and what they're doing is doing very site specific releases that really give a sense of place and I think that peaks the interest of wine enthusiasts. We have enough wines and grapes really to isolate, to choose to select and only keep the very best for concept. So very best is. I visited the offices of Laurent Perrier on the roof of Borsin-on-O-Ré to try their granciac prestige cuvet. And they told me all about the champagne-making process and also invited me to taste some. Can I have your glass? Thank you. Consumers are looking to buy products that really connect to local communities. So we see that trend in gastronomy and cuisine we are also seeing that in wine and that has given grower champagne's a real boost. And how does that interest in local growth apply to the growing global market in Champagne? It used to be that the French bought the majority of Champagne, but that changed in 2012 and it became the rest of the world. We've seen America buy more champagne, the Japanese who buy a lot of prestige cuvés, which are expensive bottles. And we see growth in the rest of Europe as well. I do think that there is a question about pricing and how much the market will tolerate how much prices have risen in recent years for some of the best champagne's. I think it is worth watching the Sotheby's auction in Paris to see how much wine collectors are seeking out new bottles of classic vintages and it will be a really interesting test of champagne being taken more seriously. Thank you so much Alexandra next time over a glass of champagne I hope. Thank you Rosie I look forward to it. My mom My mother famously said that she pitied whoever married me. That wasn't a general comment on my character. It was because I was so horrible in the morning, every morning. When it comes to hitting the snooze button, I'm a repeat offender. For me the morning of getting the kids up, bags packed and off to school, getting myself to the office and starting work is all done through bleary eyes and with a help of at least one extremely large mug of coffee. Only when the day is nearly done do I feel productive and full of energy. So as a night owl I've got a vested interest in the following question, are the early birds who get half of their to-do list done before breakfast actually going to do better in life? Does it really pay to be up with the lark instead of burning the midnight oil? You won't find many CEOs that extol the virtues of a lie in. Tom Lee Devlin is a global business correspondent and host of our sister podcast Money Talks. If you look at people like Tim Cook of Apple or Bob Iger of Disney, they're up between 4 and 5 in the morning exercising, sending off emails, getting ready for their day. Actually, two-thirds of American CEOs are up by six in the morning, which is about twice a share of average Americans. So it certainly seems like if you are aspiring to corporate greatness hitting the snooze button might not be the way to success. So Tom I need to ask you a very personal question here. I'm not going to ask you if you aspire to corporate greatness, but I do want to know are you an early bird? Are you a lark or are you an owl? I am certainly not an early bird. I have experimented with waking up early in the past and I think that the benefits are certainly real, you know, you can get ahead of all of your emails, you can squeeze in a workout, and you kind of get the smug satisfaction of arriving at your desk before all your other colleagues are in. And one thing that I found really funny whilst I was reporting for this piece is all the crazy videos out there on on Tik-Toc of people describing their incredibly elaborate morning rituals. You have people submerging themselves in ice baths and reciting affirmations and making all sorts of weird beverages in the morning. One of the most bizarre ones I came across was this guy named Chris Crone, who's a business coach in America. My destiny is formed before 9 a.m. So I'm at before a.m. From 4 to 420 I do a book on double speed so I'm listening at 420 I'm on the treadmill with my wife and we're doing an active meditation together for 40 minutes. It includes a reverie where we're basically aligning the pharmacy of the body to over dopamine the mind by gratitude, serotonin, the brain, and then we shift into Mind Palace, which is 20 minutes of co-creating our best bodies. Five o'clock we then hit the weights. Over dopamine the mind sounds intriguing but on slightly firmer ground is there actually any solid evidence that getting up earlier is better for you? There is a number of studies that suggest it and might be one piece of research from the University of Toronto in 2012 showed that early birds reported feeling happier and healthier night owls tend to get less sleep which can affect their mood and their health and also their productivity. Another study from researchers in Finland found that men who get up later make 4% less money than those who are up earlier. Night owls also tend to be fatter too, according to some research from the Chinese University of Hong Kong. And there's also a kind of general social stigma that I think night owls have to grapple with. One more piece of research by Jessica Deitch and her colleagues showed that night hours tend to be perceived as lazy, undisciplined and immature, which is not a particularly flattering description. I ask you the next question as a lazy, undisciplined and immature person. Surely the early birds don't have it all their own way. Surely it can't be all good. No, I don't think so. I think there's certainly downside to this. I mean, one of the very obvious ones is that if you're in the office early, you may just get given more work to do. Urgent tasks come up over the course of the day, which means there's a reasonably high chance that you'll just end up working as late as everyone else. It's often said that the early bird gets the worm, but I think if you're the worm, maybe the best thing to do is just stay in bed. But also a bigger problem, I think, is that being an early bird can turn you into a bit of a bore. I think we've all had the experience of a lark describing their morning routine to us and droning on about how much they got done whilst we were slumbering away, which I don't think is a particularly good way to make friends. And another downside of being an early bird is it often means you're pretty sleepy by the time it gets to the evening and we do find evidence that night hours not only drink more alcohol and take more drugs but even have more sex. Not quite sure how to follow up that last one but you know I think that Larks and owls obviously like to slug insults at each other but I'm guessing that we're kind of stuck with how we are, aren't we? Yeah, I mean certainly my experience of this is that it is very difficult to pretend to be a morning person if that's not the way you're wide. So people have a genetic chronotype as scientists call it which is the natural inclination of your body to sleep at a certain time and people talk about dimming your lights at night and buying special daylight alarm clocks to wake you up in the morning but really that's not going to make that much of a difference and frankly you know if you're going to wake up early and just spend hours staring blankly at your screen it's not going to help you all that much. Thanks so much for coming on the show Tom. Thanks for having me. That's all for this episode of The Intelligence. Let us know what you think of the show. You can get in touch at podcast at economist.com. We'll see you back here tomorrow. What does it take to move the needle on the world's toughest problems? On better heroes, we've sourced the globe for passionate individuals and visionary companies who are all on a mission to solve humanities most urgent challenges. Like can AI make the world a better place? How can we change our consumption habits to better serve the environment? And what can we do to make our financial systems work for all? This series will convince you that humanity can save itself and our planet. Better Heroes is by EY and produced by Human Group Media. Listen now, wherever you get your podcasts.\n",
            "CPU times: user 22.1 s, sys: 458 ms, total: 22.5 s\n",
            "Wall time: 29.2 s\n"
          ]
        }
      ]
    },
    {
      "cell_type": "markdown",
      "source": [
        "Para evitar a situação em que o notebook Colab encerra a sessão e você perde a variável Python que contém a transcrição, assim como para permitir testes mais rápidos de seções subsequentes, recomendamos que você crie uma variável local que contenha a transcrição do seu podcast."
      ],
      "metadata": {
        "id": "r6_Of6JLruXR"
      }
    },
    {
      "cell_type": "code",
      "source": [
        "my_transcript = podcast_transcript[\"text\"]\n",
        "my_transcript"
      ],
      "metadata": {
        "colab": {
          "base_uri": "https://localhost:8080/",
          "height": 209
        },
        "id": "KzFnFaXkr_v_",
        "outputId": "06683469-bc54-457c-dfc1-4ed22471accf"
      },
      "execution_count": 14,
      "outputs": [
        {
          "output_type": "execute_result",
          "data": {
            "text/plain": [
              "\" What does it take to move the needle on the world's toughest problems? On better heroes, we've sourced the globe for passionate individuals and visionary companies who are all on a mission to solve humanity's most urgent challenges. Like, can AI make the world a better place? How can we change our consumption habits to better serve the environment and what can we do to make our financial systems work for all? This series will convince you that humanity can save itself and our planet. Better Heroes is by EY and produced by human group media. Listen now, wherever you get your podcasts. The Economist. Hello and welcome to the Intelligence from The Economist. I'm your host Rosie Bloor. Every weekday we provide a fresh perspective on the event shaping your world. Champagne may be the drink of celebration, but wine collectors have long sniffed at the bubbly stuff. Now the global market is growing and Sotheby's is staging its first champagne-only auction. The market is looking rather sparkly. And are you an early bird or a night owl? I'm sure you know which of those you are, but you might not know how that affects your career prospects. Our correspondent got up with the larks to share his conclusions. But first. This This evening thousands of people will descend on Stonehenge at sunset. Druids, pagans, tourists are all united by one thing, the desire to see the solstice, the longest day in the northern hemisphere, and the event this prehistoric monument was built for, when the sun's rays shine into the heart of the ancient stone circle. But you don't have to be dressed in druidids robes to appreciate the awesome power of the sun. And I really do mean power. These days we channel the sun's rays less through stone formations than via silicon panels. These solar cells increasingly help to power our greedy planet. Solar accounted for about 6% of electricity consumption worldwide last year, a humble but important share and one that is growing extremely fast. The ancients really were on to something. A revolution in solar energy is just on the horizon. The rate at which we use an energy source and the cost of that energy source are coupled. And what that means is that as we use more solar power, the cost of it is going down incredibly quickly. Hal Hodson is the Economist's America's editor and also writes about technology. But this ultimately means is that humanity has a whole new relationship with energy and the way that we use energy is going to be completely transformed the next few decades. Hal, you say we've got a whole new relationship with energy. It sounds incredible. Just how fast does the increase been? So in 2004 the world installed about two and a half million solar panels. These are the black panels you see on roofs increasingly around you. And this year the world world is uncours to install 1.4 billion solar panels. Solar is growing so fast now that it's on track to generate more electricity than the world's nuclear power plants by 2026, its wind turbines by 2027, all of the hydroelectric dams by 2028, then it'll overtake electricity generated by gas in 2030 and coal in 2032. And at that point it will be the biggest source of electricity on the planet. The biggest source of electricity on the planet that's just stunning. What's powering this solar revolution? So the thing that is making all of this happen in truth is a giant manufacturing ecosystem in the harsh of industrial China, but there's slightly more to it than that. The real thing that's making solar go so fast is the nature of the technology itself. Solar cells, those are the chunks of silicon that make up a solar panel, are essentially identical, and whether you need 10 solar cells or 10 billion solar cells you're going to use the same manufacturing ecosystem and what that means is that solar much more than any other, can benefit from returns to scale. If you know that the world is going to use more and more of these things, you can build really, really gigantic factories to make the solar cells, to make the inputs to those solar cells. And you build this feedback loop between supply and demand that keeps driving the price down. And to date, the price has come down since 1974 by 99.9%. It used to be $100 a watt, now it's 11 cents per watt, and it is still going. Hal, I keep expecting you to come in with a butt here. You're telling me that prices are going. Hal, I keep expecting you to come in with a butt here. You're telling me that prices are going down and rates are going up. Can this extraordinary rate of growth really continue? Well, there is a big butt that should be familiar to most humans on the planet, which is that the sun only shines during the day and solar panels only generate electricity when the sun is shining on them. So that seems like an absolutely enormous but. But to that but there are numerous ways around it and the key thing to bear in mind is that all that matters is that you keep expanding the amount of solar panels installed on the planet and keep growing the rate at which they are produced and that's going to keep driving your costs down. So yes the sun only shines during the day but the vast majority of countries have not installed a large amount of solar panels yet and even though the sun only shines during the day we have other technologies which allow you to take the energy generated from the panels when the sun shines during the day and use it later in the evening. These are batteries and very fortunately for solar panels and for humans really in general. The rate at which batteries are getting cheaper looks very similar to the rate of which batteries are getting cheaper, it looks very similar to the rate of which solar panels are getting cheaper. So if we're finding ways to make sunshine power us even through the night, what could this explosion of renewable energy mean for climate change? This is definitely good news for climate change. There's no way to cautiously say that it's not good news. If you look at European emissions, even just since the Ukraine war, they're down and the reason they're down is largely because a massive amount of solar panels have been installed on the grid. The butt here is because solar doesn't directly provide energy during the night and because you need batteries and other things to help you do that, that becomes a bit more expensive. If you are a poor country looking at this, you're just going to say, oh well, I'm going to run a bunch of coal power plants and a bunch of solar plants. And so it comes down to the cost, right? The two cheapest forms of energy on the planet are solar and coal and only one of them can go through the night without adding on other bits of technology that make the whole thing more expensive. Now it's possible that solar and batteries is a combination gets so cheap so fast that even countries that are thinking we're going to build massive coal plants say oh no actually it doesn't make any sense anymore it's just cheaper to do it using these technologies. But that's not guaranteed at all. You've also got to consider just the political implications of shutting down your coal mining industry, which probably employs a couple million people if you're a large country like India. So there are both technological and political considerations that mitigate against solar sort of miraculous price declines completely solving climate change. It's almost certainly going to remain a problem over the next few decades. Hal, it's incredibly rare to hear such a good news story that continues all the way through to the end to be a good news story. Just tell me what does very cheap solar energy mean for the global economy as a whole? If you think about it, energy is probably one of the only things that is an input into all products. The entire economy runs on energy even to a much greater extent than it runs on, say, information processing. So the first way to answer your question is just everything gets cheaper. A more speculative way of thinking about what does this do? What does it mean to have such cheap energy coming from solar? Is what could you do with how much solar panel and the scale of this energy source and the fact that you can just buy a bunch of them and put them in a field and do something with them makes you start to think rather wackly. You think about doing things like using solar panels to treat all of the drinking water in the world so that you would eliminate waterborne diseases. That's going to require an amount of solar roughly that the Chinese ecosystem makes in a year. Yeah, you've got to install this and all of these finicky things. But just thinking about how much energy is required to do what job, we're now in a world where a single country produces a machine that makes enough energy to do that job every year to give humans drinking water that doesn't kill them. You could also think about just making all of the fuels that we need instead of digging them out of the ground sucking them out of the ground you could just make them using water and carbon dioxide. Again energy needs to be very very very cheap for that to any sense. But that's the whole point of this story. Energy's getting very, very, very cheap. And the geopolitical impact of all of this? I think it's quite clear that it's going to be geopolitically stabilising to have a machine, thousands, millions, billions of which exist in every country that just produces energy by being pointed at the sky. That's completely different to the flows of oil and gas that currently cause so much geopolitical strife. But there is another consideration which is that everyone's a bit worried about the Chinese producing so many of these machines, these solar panels that are going to provide all of this energy. The way that the world responds to that, it matters quite a lot because if the world responds in such a way that it says we're not going to even allow Chinese companies to set up factories in our country we're going to completely ignore everything they've done and we're going to try and build our own versions of this. Then you might break this wonderful scaling effect whereby you make more you learn to make it more cheaply and the cost of solar goes down if the West tries to go its own way and doesn't learn from China it might have to start at the top of that process again and that would be really bad for the world. Then you'd have much higher priced solar panels and you would break the whole cycle of deploying more, having more demand, producing more, reducing the cost of the solar energy. So that's a sort of geopolitical worry that I have. But even if that does happen in the West totally turns its back on China and forges its own path. There's no reason to think that the same exact process can't happen. Because what we're really talking about here is a very simple, very easy to make machine that produces 30 years of energy just by being pointed at the sun. The world really has not woken up to the consequences of having thousands, millions, billions of those machines all over the world on every house on every business in the field behind your house. Hal thank you so much for bringing some sun to our lives. Thanks Rosie, thank you very much for having me. And if you want to know more about the solar revolution, keep an ear out for next week's episode of Babbage, where we'll also be exploring space-based solar power. For those enlightened enough already to be subscribers to Economist Podcast Plus, thank you. For everyone else, you'll need to buy a subscription to listen. Find out more in the link in the world's toughest problems? On better heroes, we've sourced the globe for passionate individuals and visionary companies who are all on a mission to solve humanity's most urgent challenges. Like can AI make the world a better place? How can we change our consumption habits to better serve the environment and what can we do to make our financial systems work for all. This series will convince you that humanity has ever offered a single owner wine auction focused entirely on champagne. I'm not sure that this will ever come up again. Today in Paris, Southerby's is holding the first ever Champagne-only auction expected to raise around $2 million. Given how famous the French wine is, some may wonder why it's taken the auction house so long to come around to the fizzy stuff. Well, it's all about reputation. For decades, connoisseurs have been rather sniffy about bubbles, preferring reds and whites from places like Burgundy or Bordeaux. But last year, global champagne sales hit a record high of $7 billion. Now even wine collectors are waking up to the joy of celebratory sparkles. Champagne has been having a moment, but one of the interesting things is how differently people see Champagne. Alexandra Seward-Souich-Bass is culture editor of the economist. So in some ways you have some of the most famous brands in the world, the Vove Klicos, Krug, Crystal, that are incredibly well known by people and are brands that one aspires to purchase during Times' celebration. On the other hand, you have people who take wine very seriously and Champagne has not been on the top of their list when it comes to their celebrations of fine wine. Recently however that started to change. Alexandra I'm amazed to hear that people haven't been paying enough attention to Champagne. Why hasn't it captured the attention of Connoisseurs before this. I've been doing what is probably the next best thing to drinking Champagne, which is reading histories of Champagne. And Robert Walter is an Australian wine writer makes the point that Champagne has always been peddled as a bubbly drink for bubbly people. You see it in the marketing for people who are going to clubs or perhaps rapper. So I think part of it is the marketing that it's kind of a mass luxury major champagne brands are owned by Louis Vuitton Mo Wei Hennessy one of the largest luxury conglomerates in the world. And so it's a brand to aspire to, but the wine connoisseurs see that and don't think it's as artisanal, unique, and complex as some of the other wines from regions in France and elsewhere. Alexandra, I hope you've been drinking some champagne as part of your research for this piece. Tell me why that started to change. I of course take my job and research very seriously, so I did oblige. A few things have changed in terms of how wine collectors, investors, lovers have seen champagne. One was COVID and that left people with a lot of time on their hands, some extra cash for the well-heeled who were not going out to dine in restaurants as much. People found themselves with a lot more time to study champagne producers methods of blending and adding dossage, which is a mixture that includes cane sugar and sweetens champagne before bottling. I'm the third generation of Lam-Dier producer. I'm back in the estate since seven years ago taking over my parents who took from their parents and from my dad parents. That's Arthur Larmandier of Larmandier Bernier, a champagne house. They get as for wine, the industry that there is not only be brand and not only bubble, that there is wine behind the bubble. And that's... At first he thought it would take five years for champagne to bounce back from COVID, but instead demand surged and it took about six months. There's another factor driving wine aficionados to look at their champagne flutes a little bit differently. And that connects to Larmondier, which is appreciation for smaller houses that produce limited quantities of high quality bubbly. They often have really strong and unique viticultural practices and really give a sense of terwar or the place that wine is grown, so it's site specific and very unique. We've seen prices for growers' champagne skyrocket on the secondary market. People who collect it have seen prices double if not more for certain makers since the start of the pandemic. Presumably it wasn't just COVID that was responsible for this interest and surge in prices for grower Champanes. What else has been going on? The fact that Champagne has been reviewed more often I think did drive interest as well. The fact that wine aficionados were taking it more seriously in places like the wine advocate and elsewhere drove people to give it a try themselves. But I would say it's really, some call it a burgundification of champagne, which is a clunky way of saying that just like people take wines from Burgundy very seriously and think about how the different plots give you a very different experience. People are starting to do that with Champagne. Historically, Champagne has been blended, both from the grapes from different areas in Champagne, grown by different people, and also blended across different years. It's probably the most processed wine that's produced in the world. But we've started to see that change with grower Champagne and what they're doing is doing very site specific releases that really give a sense of place and I think that peaks the interest of wine enthusiasts. We have enough wines and grapes really to isolate, to choose to select and only keep the very best for concept. So very best is. I visited the offices of Laurent Perrier on the roof of Borsin-on-O-Ré to try their granciac prestige cuvet. And they told me all about the champagne-making process and also invited me to taste some. Can I have your glass? Thank you. Consumers are looking to buy products that really connect to local communities. So we see that trend in gastronomy and cuisine we are also seeing that in wine and that has given grower champagne's a real boost. And how does that interest in local growth apply to the growing global market in Champagne? It used to be that the French bought the majority of Champagne, but that changed in 2012 and it became the rest of the world. We've seen America buy more champagne, the Japanese who buy a lot of prestige cuvés, which are expensive bottles. And we see growth in the rest of Europe as well. I do think that there is a question about pricing and how much the market will tolerate how much prices have risen in recent years for some of the best champagne's. I think it is worth watching the Sotheby's auction in Paris to see how much wine collectors are seeking out new bottles of classic vintages and it will be a really interesting test of champagne being taken more seriously. Thank you so much Alexandra next time over a glass of champagne I hope. Thank you Rosie I look forward to it. My mom My mother famously said that she pitied whoever married me. That wasn't a general comment on my character. It was because I was so horrible in the morning, every morning. When it comes to hitting the snooze button, I'm a repeat offender. For me the morning of getting the kids up, bags packed and off to school, getting myself to the office and starting work is all done through bleary eyes and with a help of at least one extremely large mug of coffee. Only when the day is nearly done do I feel productive and full of energy. So as a night owl I've got a vested interest in the following question, are the early birds who get half of their to-do list done before breakfast actually going to do better in life? Does it really pay to be up with the lark instead of burning the midnight oil? You won't find many CEOs that extol the virtues of a lie in. Tom Lee Devlin is a global business correspondent and host of our sister podcast Money Talks. If you look at people like Tim Cook of Apple or Bob Iger of Disney, they're up between 4 and 5 in the morning exercising, sending off emails, getting ready for their day. Actually, two-thirds of American CEOs are up by six in the morning, which is about twice a share of average Americans. So it certainly seems like if you are aspiring to corporate greatness hitting the snooze button might not be the way to success. So Tom I need to ask you a very personal question here. I'm not going to ask you if you aspire to corporate greatness, but I do want to know are you an early bird? Are you a lark or are you an owl? I am certainly not an early bird. I have experimented with waking up early in the past and I think that the benefits are certainly real, you know, you can get ahead of all of your emails, you can squeeze in a workout, and you kind of get the smug satisfaction of arriving at your desk before all your other colleagues are in. And one thing that I found really funny whilst I was reporting for this piece is all the crazy videos out there on on Tik-Toc of people describing their incredibly elaborate morning rituals. You have people submerging themselves in ice baths and reciting affirmations and making all sorts of weird beverages in the morning. One of the most bizarre ones I came across was this guy named Chris Crone, who's a business coach in America. My destiny is formed before 9 a.m. So I'm at before a.m. From 4 to 420 I do a book on double speed so I'm listening at 420 I'm on the treadmill with my wife and we're doing an active meditation together for 40 minutes. It includes a reverie where we're basically aligning the pharmacy of the body to over dopamine the mind by gratitude, serotonin, the brain, and then we shift into Mind Palace, which is 20 minutes of co-creating our best bodies. Five o'clock we then hit the weights. Over dopamine the mind sounds intriguing but on slightly firmer ground is there actually any solid evidence that getting up earlier is better for you? There is a number of studies that suggest it and might be one piece of research from the University of Toronto in 2012 showed that early birds reported feeling happier and healthier night owls tend to get less sleep which can affect their mood and their health and also their productivity. Another study from researchers in Finland found that men who get up later make 4% less money than those who are up earlier. Night owls also tend to be fatter too, according to some research from the Chinese University of Hong Kong. And there's also a kind of general social stigma that I think night owls have to grapple with. One more piece of research by Jessica Deitch and her colleagues showed that night hours tend to be perceived as lazy, undisciplined and immature, which is not a particularly flattering description. I ask you the next question as a lazy, undisciplined and immature person. Surely the early birds don't have it all their own way. Surely it can't be all good. No, I don't think so. I think there's certainly downside to this. I mean, one of the very obvious ones is that if you're in the office early, you may just get given more work to do. Urgent tasks come up over the course of the day, which means there's a reasonably high chance that you'll just end up working as late as everyone else. It's often said that the early bird gets the worm, but I think if you're the worm, maybe the best thing to do is just stay in bed. But also a bigger problem, I think, is that being an early bird can turn you into a bit of a bore. I think we've all had the experience of a lark describing their morning routine to us and droning on about how much they got done whilst we were slumbering away, which I don't think is a particularly good way to make friends. And another downside of being an early bird is it often means you're pretty sleepy by the time it gets to the evening and we do find evidence that night hours not only drink more alcohol and take more drugs but even have more sex. Not quite sure how to follow up that last one but you know I think that Larks and owls obviously like to slug insults at each other but I'm guessing that we're kind of stuck with how we are, aren't we? Yeah, I mean certainly my experience of this is that it is very difficult to pretend to be a morning person if that's not the way you're wide. So people have a genetic chronotype as scientists call it which is the natural inclination of your body to sleep at a certain time and people talk about dimming your lights at night and buying special daylight alarm clocks to wake you up in the morning but really that's not going to make that much of a difference and frankly you know if you're going to wake up early and just spend hours staring blankly at your screen it's not going to help you all that much. Thanks so much for coming on the show Tom. Thanks for having me. That's all for this episode of The Intelligence. Let us know what you think of the show. You can get in touch at podcast at economist.com. We'll see you back here tomorrow. What does it take to move the needle on the world's toughest problems? On better heroes, we've sourced the globe for passionate individuals and visionary companies who are all on a mission to solve humanities most urgent challenges. Like can AI make the world a better place? How can we change our consumption habits to better serve the environment? And what can we do to make our financial systems work for all? This series will convince you that humanity can save itself and our planet. Better Heroes is by EY and produced by Human Group Media. Listen now, wherever you get your podcasts.\""
            ],
            "application/vnd.google.colaboratory.intrinsic+json": {
              "type": "string"
            }
          },
          "metadata": {},
          "execution_count": 14
        }
      ]
    },
    {
      "cell_type": "markdown",
      "source": [
        "**Sugestões:**\n",
        "\n",
        "1. Em vez de baixar e executar a transcrição nós mesmos, você também pode usar a versão hospedada do modelo OpenAI Whisper (pago). Para mais detalhes, você pode verificar a [documentação](https://platform.openai.com/docs/models/whisper).\n",
        "\n",
        "2. O modelo Whisper não fornece identificação do falante, mas apenas transcreve o que foi dito. Em algumas situações, seria bom identificar quando há diferentes falantes no podcast e separar seus diálogos. Existem muitas [bibliotecas](https://github.com/m-bain/whisperX) que funcionam em cima do Whisper para habilitar isso."
      ],
      "metadata": {
        "id": "mtWBvNsmsW-H"
      }
    },
    {
      "cell_type": "markdown",
      "source": [
        "# **II. Information Extraction**"
      ],
      "metadata": {
        "id": "kCMg852HsvK_"
      }
    },
    {
      "cell_type": "markdown",
      "source": [
        "## **2.1 Podcast Summary**\n",
        "\n",
        "Começaremos criando um resumo do podcast. Queremos que seja conciso, mas ainda transmita a essência do episódio e tente chamar a atenção do usuário. Usaremos o modelo OpenAI `gpt-3.5-turbo` (pode-se usar outro como o `gpt-4o` ) para gerar este resumo apartir da transcrição gerada. Estamos pedindo ao LLM para analisar toda a transcrição que fornecemos e resumi-la para nós.\n",
        "\n",
        "Precisamos usar as bibliotecas `openai` e `tiktoken`. A biblioteca openai é o pacote Python que nos permite fazer chamadas para a API. A biblioteca tiktoken nos permite determinar o número de tokens em nossa transcrição e isso nos dá uma indicação dos custos e também se precisaremos alterar o modelo que usamos para um com uma janela de contexto maior. Embora possamos usar a API e fazer chamadas diretamente, é muito mais fácil trabalhar com a biblioteca Python fornecida pela OpenAI chamada - `openai`."
      ],
      "metadata": {
        "id": "CNGyVNzfs9Ij"
      }
    },
    {
      "cell_type": "code",
      "source": [
        "client = OpenAI(api_key=userdata.get('MY_OPENAI_API_KEY'))"
      ],
      "metadata": {
        "id": "rSX_rBzBtHZo"
      },
      "execution_count": 15,
      "outputs": []
    },
    {
      "cell_type": "markdown",
      "source": [
        "**Nota: Janela de contexto**\n",
        "\n",
        "É importante entender o conceito de uma *contex window*. Este é o máximo do texto combinado que pode ser usado em uma chamada de API para os modelos de OpenAI. Não é apenas uma combinação do texto de entrada enviado ao modelo, pois também leva em conta a resposta de saída.\n",
        "\n",
        "Também tenha em mente que a janela de contexto é medida em termos de **tokens** e não de palavras. Embora pudéssemos tratá-los como análogos, tecnicamente não é o mesmo, pois uma palavra pode realmente ser dividida em vários tokens.\n",
        "\n",
        "É sempre recomendável usar o pacote tiktoken para determinar o número de tokens em seu texto."
      ],
      "metadata": {
        "id": "sabFeGyyJpZJ"
      }
    },
    {
      "cell_type": "code",
      "source": [
        "enc = tiktoken.encoding_for_model(\"gpt-3.5-turbo\")\n",
        "print (\"Number of tokens in input prompt \", len(enc.encode(my_transcript)))"
      ],
      "metadata": {
        "colab": {
          "base_uri": "https://localhost:8080/"
        },
        "id": "EUfwl97ZKMMJ",
        "outputId": "2d3e4e8f-2b3c-4c9f-ca65-742fbdb14e3c"
      },
      "execution_count": 16,
      "outputs": [
        {
          "output_type": "stream",
          "name": "stdout",
          "text": [
            "Number of tokens in input prompt  5255\n"
          ]
        }
      ]
    },
    {
      "cell_type": "markdown",
      "source": [
        "Como podemos ver no caso do episódio do podcast selecionado, o número de tokens é maior do que os 4096 tokens aceitos pelo padrão [modelo GPT-3.5-turbo](https://platform.openai.com/docs/models/gpt-3-5). O que isso significa é que temos que fazer uso do modelo de maior capacidade `gpt-3.5-turbo-16k` que tem um tamanho de contexto de 16.384 tokens. Vamos usar esse modelo para gerar o resumo do nosso podcast."
      ],
      "metadata": {
        "id": "fP7fAZZvKreO"
      }
    },
    {
      "cell_type": "code",
      "source": [
        "#montamos o nosso prompt\n",
        "\n",
        "instructPrompt = \"\"\"You are an expert copywriter responsible for publishing a newsletter with thousands of subscribers.\n",
        "                    You listened to a great podcast and want to share a summary of it.\n",
        "                    Please write the summary of this podcast, making sure to cover the  important topics in a concise way.\n",
        "                    The transcript of the podcast is provided below: \"\"\"\n",
        "\n",
        "my_summary_prompt = instructPrompt + \"\"\"****\"\"\" + my_transcript\n",
        "my_summary_prompt"
      ],
      "metadata": {
        "colab": {
          "base_uri": "https://localhost:8080/",
          "height": 209
        },
        "id": "MZHQYC-MLCAp",
        "outputId": "10cf32f2-acfe-4ff7-955d-b1baa47c6e0f"
      },
      "execution_count": 17,
      "outputs": [
        {
          "output_type": "execute_result",
          "data": {
            "text/plain": [
              "\"You are an expert copywriter responsible for publishing a newsletter with thousands of subscribers.\\n                    You listened to a great podcast and want to share a summary of it.\\n                    Please write the summary of this podcast, making sure to cover the  important topics in a concise way.\\n                    The transcript of the podcast is provided below: **** What does it take to move the needle on the world's toughest problems? On better heroes, we've sourced the globe for passionate individuals and visionary companies who are all on a mission to solve humanity's most urgent challenges. Like, can AI make the world a better place? How can we change our consumption habits to better serve the environment and what can we do to make our financial systems work for all? This series will convince you that humanity can save itself and our planet. Better Heroes is by EY and produced by human group media. Listen now, wherever you get your podcasts. The Economist. Hello and welcome to the Intelligence from The Economist. I'm your host Rosie Bloor. Every weekday we provide a fresh perspective on the event shaping your world. Champagne may be the drink of celebration, but wine collectors have long sniffed at the bubbly stuff. Now the global market is growing and Sotheby's is staging its first champagne-only auction. The market is looking rather sparkly. And are you an early bird or a night owl? I'm sure you know which of those you are, but you might not know how that affects your career prospects. Our correspondent got up with the larks to share his conclusions. But first. This This evening thousands of people will descend on Stonehenge at sunset. Druids, pagans, tourists are all united by one thing, the desire to see the solstice, the longest day in the northern hemisphere, and the event this prehistoric monument was built for, when the sun's rays shine into the heart of the ancient stone circle. But you don't have to be dressed in druidids robes to appreciate the awesome power of the sun. And I really do mean power. These days we channel the sun's rays less through stone formations than via silicon panels. These solar cells increasingly help to power our greedy planet. Solar accounted for about 6% of electricity consumption worldwide last year, a humble but important share and one that is growing extremely fast. The ancients really were on to something. A revolution in solar energy is just on the horizon. The rate at which we use an energy source and the cost of that energy source are coupled. And what that means is that as we use more solar power, the cost of it is going down incredibly quickly. Hal Hodson is the Economist's America's editor and also writes about technology. But this ultimately means is that humanity has a whole new relationship with energy and the way that we use energy is going to be completely transformed the next few decades. Hal, you say we've got a whole new relationship with energy. It sounds incredible. Just how fast does the increase been? So in 2004 the world installed about two and a half million solar panels. These are the black panels you see on roofs increasingly around you. And this year the world world is uncours to install 1.4 billion solar panels. Solar is growing so fast now that it's on track to generate more electricity than the world's nuclear power plants by 2026, its wind turbines by 2027, all of the hydroelectric dams by 2028, then it'll overtake electricity generated by gas in 2030 and coal in 2032. And at that point it will be the biggest source of electricity on the planet. The biggest source of electricity on the planet that's just stunning. What's powering this solar revolution? So the thing that is making all of this happen in truth is a giant manufacturing ecosystem in the harsh of industrial China, but there's slightly more to it than that. The real thing that's making solar go so fast is the nature of the technology itself. Solar cells, those are the chunks of silicon that make up a solar panel, are essentially identical, and whether you need 10 solar cells or 10 billion solar cells you're going to use the same manufacturing ecosystem and what that means is that solar much more than any other, can benefit from returns to scale. If you know that the world is going to use more and more of these things, you can build really, really gigantic factories to make the solar cells, to make the inputs to those solar cells. And you build this feedback loop between supply and demand that keeps driving the price down. And to date, the price has come down since 1974 by 99.9%. It used to be $100 a watt, now it's 11 cents per watt, and it is still going. Hal, I keep expecting you to come in with a butt here. You're telling me that prices are going. Hal, I keep expecting you to come in with a butt here. You're telling me that prices are going down and rates are going up. Can this extraordinary rate of growth really continue? Well, there is a big butt that should be familiar to most humans on the planet, which is that the sun only shines during the day and solar panels only generate electricity when the sun is shining on them. So that seems like an absolutely enormous but. But to that but there are numerous ways around it and the key thing to bear in mind is that all that matters is that you keep expanding the amount of solar panels installed on the planet and keep growing the rate at which they are produced and that's going to keep driving your costs down. So yes the sun only shines during the day but the vast majority of countries have not installed a large amount of solar panels yet and even though the sun only shines during the day we have other technologies which allow you to take the energy generated from the panels when the sun shines during the day and use it later in the evening. These are batteries and very fortunately for solar panels and for humans really in general. The rate at which batteries are getting cheaper looks very similar to the rate of which batteries are getting cheaper, it looks very similar to the rate of which solar panels are getting cheaper. So if we're finding ways to make sunshine power us even through the night, what could this explosion of renewable energy mean for climate change? This is definitely good news for climate change. There's no way to cautiously say that it's not good news. If you look at European emissions, even just since the Ukraine war, they're down and the reason they're down is largely because a massive amount of solar panels have been installed on the grid. The butt here is because solar doesn't directly provide energy during the night and because you need batteries and other things to help you do that, that becomes a bit more expensive. If you are a poor country looking at this, you're just going to say, oh well, I'm going to run a bunch of coal power plants and a bunch of solar plants. And so it comes down to the cost, right? The two cheapest forms of energy on the planet are solar and coal and only one of them can go through the night without adding on other bits of technology that make the whole thing more expensive. Now it's possible that solar and batteries is a combination gets so cheap so fast that even countries that are thinking we're going to build massive coal plants say oh no actually it doesn't make any sense anymore it's just cheaper to do it using these technologies. But that's not guaranteed at all. You've also got to consider just the political implications of shutting down your coal mining industry, which probably employs a couple million people if you're a large country like India. So there are both technological and political considerations that mitigate against solar sort of miraculous price declines completely solving climate change. It's almost certainly going to remain a problem over the next few decades. Hal, it's incredibly rare to hear such a good news story that continues all the way through to the end to be a good news story. Just tell me what does very cheap solar energy mean for the global economy as a whole? If you think about it, energy is probably one of the only things that is an input into all products. The entire economy runs on energy even to a much greater extent than it runs on, say, information processing. So the first way to answer your question is just everything gets cheaper. A more speculative way of thinking about what does this do? What does it mean to have such cheap energy coming from solar? Is what could you do with how much solar panel and the scale of this energy source and the fact that you can just buy a bunch of them and put them in a field and do something with them makes you start to think rather wackly. You think about doing things like using solar panels to treat all of the drinking water in the world so that you would eliminate waterborne diseases. That's going to require an amount of solar roughly that the Chinese ecosystem makes in a year. Yeah, you've got to install this and all of these finicky things. But just thinking about how much energy is required to do what job, we're now in a world where a single country produces a machine that makes enough energy to do that job every year to give humans drinking water that doesn't kill them. You could also think about just making all of the fuels that we need instead of digging them out of the ground sucking them out of the ground you could just make them using water and carbon dioxide. Again energy needs to be very very very cheap for that to any sense. But that's the whole point of this story. Energy's getting very, very, very cheap. And the geopolitical impact of all of this? I think it's quite clear that it's going to be geopolitically stabilising to have a machine, thousands, millions, billions of which exist in every country that just produces energy by being pointed at the sky. That's completely different to the flows of oil and gas that currently cause so much geopolitical strife. But there is another consideration which is that everyone's a bit worried about the Chinese producing so many of these machines, these solar panels that are going to provide all of this energy. The way that the world responds to that, it matters quite a lot because if the world responds in such a way that it says we're not going to even allow Chinese companies to set up factories in our country we're going to completely ignore everything they've done and we're going to try and build our own versions of this. Then you might break this wonderful scaling effect whereby you make more you learn to make it more cheaply and the cost of solar goes down if the West tries to go its own way and doesn't learn from China it might have to start at the top of that process again and that would be really bad for the world. Then you'd have much higher priced solar panels and you would break the whole cycle of deploying more, having more demand, producing more, reducing the cost of the solar energy. So that's a sort of geopolitical worry that I have. But even if that does happen in the West totally turns its back on China and forges its own path. There's no reason to think that the same exact process can't happen. Because what we're really talking about here is a very simple, very easy to make machine that produces 30 years of energy just by being pointed at the sun. The world really has not woken up to the consequences of having thousands, millions, billions of those machines all over the world on every house on every business in the field behind your house. Hal thank you so much for bringing some sun to our lives. Thanks Rosie, thank you very much for having me. And if you want to know more about the solar revolution, keep an ear out for next week's episode of Babbage, where we'll also be exploring space-based solar power. For those enlightened enough already to be subscribers to Economist Podcast Plus, thank you. For everyone else, you'll need to buy a subscription to listen. Find out more in the link in the world's toughest problems? On better heroes, we've sourced the globe for passionate individuals and visionary companies who are all on a mission to solve humanity's most urgent challenges. Like can AI make the world a better place? How can we change our consumption habits to better serve the environment and what can we do to make our financial systems work for all. This series will convince you that humanity has ever offered a single owner wine auction focused entirely on champagne. I'm not sure that this will ever come up again. Today in Paris, Southerby's is holding the first ever Champagne-only auction expected to raise around $2 million. Given how famous the French wine is, some may wonder why it's taken the auction house so long to come around to the fizzy stuff. Well, it's all about reputation. For decades, connoisseurs have been rather sniffy about bubbles, preferring reds and whites from places like Burgundy or Bordeaux. But last year, global champagne sales hit a record high of $7 billion. Now even wine collectors are waking up to the joy of celebratory sparkles. Champagne has been having a moment, but one of the interesting things is how differently people see Champagne. Alexandra Seward-Souich-Bass is culture editor of the economist. So in some ways you have some of the most famous brands in the world, the Vove Klicos, Krug, Crystal, that are incredibly well known by people and are brands that one aspires to purchase during Times' celebration. On the other hand, you have people who take wine very seriously and Champagne has not been on the top of their list when it comes to their celebrations of fine wine. Recently however that started to change. Alexandra I'm amazed to hear that people haven't been paying enough attention to Champagne. Why hasn't it captured the attention of Connoisseurs before this. I've been doing what is probably the next best thing to drinking Champagne, which is reading histories of Champagne. And Robert Walter is an Australian wine writer makes the point that Champagne has always been peddled as a bubbly drink for bubbly people. You see it in the marketing for people who are going to clubs or perhaps rapper. So I think part of it is the marketing that it's kind of a mass luxury major champagne brands are owned by Louis Vuitton Mo Wei Hennessy one of the largest luxury conglomerates in the world. And so it's a brand to aspire to, but the wine connoisseurs see that and don't think it's as artisanal, unique, and complex as some of the other wines from regions in France and elsewhere. Alexandra, I hope you've been drinking some champagne as part of your research for this piece. Tell me why that started to change. I of course take my job and research very seriously, so I did oblige. A few things have changed in terms of how wine collectors, investors, lovers have seen champagne. One was COVID and that left people with a lot of time on their hands, some extra cash for the well-heeled who were not going out to dine in restaurants as much. People found themselves with a lot more time to study champagne producers methods of blending and adding dossage, which is a mixture that includes cane sugar and sweetens champagne before bottling. I'm the third generation of Lam-Dier producer. I'm back in the estate since seven years ago taking over my parents who took from their parents and from my dad parents. That's Arthur Larmandier of Larmandier Bernier, a champagne house. They get as for wine, the industry that there is not only be brand and not only bubble, that there is wine behind the bubble. And that's... At first he thought it would take five years for champagne to bounce back from COVID, but instead demand surged and it took about six months. There's another factor driving wine aficionados to look at their champagne flutes a little bit differently. And that connects to Larmondier, which is appreciation for smaller houses that produce limited quantities of high quality bubbly. They often have really strong and unique viticultural practices and really give a sense of terwar or the place that wine is grown, so it's site specific and very unique. We've seen prices for growers' champagne skyrocket on the secondary market. People who collect it have seen prices double if not more for certain makers since the start of the pandemic. Presumably it wasn't just COVID that was responsible for this interest and surge in prices for grower Champanes. What else has been going on? The fact that Champagne has been reviewed more often I think did drive interest as well. The fact that wine aficionados were taking it more seriously in places like the wine advocate and elsewhere drove people to give it a try themselves. But I would say it's really, some call it a burgundification of champagne, which is a clunky way of saying that just like people take wines from Burgundy very seriously and think about how the different plots give you a very different experience. People are starting to do that with Champagne. Historically, Champagne has been blended, both from the grapes from different areas in Champagne, grown by different people, and also blended across different years. It's probably the most processed wine that's produced in the world. But we've started to see that change with grower Champagne and what they're doing is doing very site specific releases that really give a sense of place and I think that peaks the interest of wine enthusiasts. We have enough wines and grapes really to isolate, to choose to select and only keep the very best for concept. So very best is. I visited the offices of Laurent Perrier on the roof of Borsin-on-O-Ré to try their granciac prestige cuvet. And they told me all about the champagne-making process and also invited me to taste some. Can I have your glass? Thank you. Consumers are looking to buy products that really connect to local communities. So we see that trend in gastronomy and cuisine we are also seeing that in wine and that has given grower champagne's a real boost. And how does that interest in local growth apply to the growing global market in Champagne? It used to be that the French bought the majority of Champagne, but that changed in 2012 and it became the rest of the world. We've seen America buy more champagne, the Japanese who buy a lot of prestige cuvés, which are expensive bottles. And we see growth in the rest of Europe as well. I do think that there is a question about pricing and how much the market will tolerate how much prices have risen in recent years for some of the best champagne's. I think it is worth watching the Sotheby's auction in Paris to see how much wine collectors are seeking out new bottles of classic vintages and it will be a really interesting test of champagne being taken more seriously. Thank you so much Alexandra next time over a glass of champagne I hope. Thank you Rosie I look forward to it. My mom My mother famously said that she pitied whoever married me. That wasn't a general comment on my character. It was because I was so horrible in the morning, every morning. When it comes to hitting the snooze button, I'm a repeat offender. For me the morning of getting the kids up, bags packed and off to school, getting myself to the office and starting work is all done through bleary eyes and with a help of at least one extremely large mug of coffee. Only when the day is nearly done do I feel productive and full of energy. So as a night owl I've got a vested interest in the following question, are the early birds who get half of their to-do list done before breakfast actually going to do better in life? Does it really pay to be up with the lark instead of burning the midnight oil? You won't find many CEOs that extol the virtues of a lie in. Tom Lee Devlin is a global business correspondent and host of our sister podcast Money Talks. If you look at people like Tim Cook of Apple or Bob Iger of Disney, they're up between 4 and 5 in the morning exercising, sending off emails, getting ready for their day. Actually, two-thirds of American CEOs are up by six in the morning, which is about twice a share of average Americans. So it certainly seems like if you are aspiring to corporate greatness hitting the snooze button might not be the way to success. So Tom I need to ask you a very personal question here. I'm not going to ask you if you aspire to corporate greatness, but I do want to know are you an early bird? Are you a lark or are you an owl? I am certainly not an early bird. I have experimented with waking up early in the past and I think that the benefits are certainly real, you know, you can get ahead of all of your emails, you can squeeze in a workout, and you kind of get the smug satisfaction of arriving at your desk before all your other colleagues are in. And one thing that I found really funny whilst I was reporting for this piece is all the crazy videos out there on on Tik-Toc of people describing their incredibly elaborate morning rituals. You have people submerging themselves in ice baths and reciting affirmations and making all sorts of weird beverages in the morning. One of the most bizarre ones I came across was this guy named Chris Crone, who's a business coach in America. My destiny is formed before 9 a.m. So I'm at before a.m. From 4 to 420 I do a book on double speed so I'm listening at 420 I'm on the treadmill with my wife and we're doing an active meditation together for 40 minutes. It includes a reverie where we're basically aligning the pharmacy of the body to over dopamine the mind by gratitude, serotonin, the brain, and then we shift into Mind Palace, which is 20 minutes of co-creating our best bodies. Five o'clock we then hit the weights. Over dopamine the mind sounds intriguing but on slightly firmer ground is there actually any solid evidence that getting up earlier is better for you? There is a number of studies that suggest it and might be one piece of research from the University of Toronto in 2012 showed that early birds reported feeling happier and healthier night owls tend to get less sleep which can affect their mood and their health and also their productivity. Another study from researchers in Finland found that men who get up later make 4% less money than those who are up earlier. Night owls also tend to be fatter too, according to some research from the Chinese University of Hong Kong. And there's also a kind of general social stigma that I think night owls have to grapple with. One more piece of research by Jessica Deitch and her colleagues showed that night hours tend to be perceived as lazy, undisciplined and immature, which is not a particularly flattering description. I ask you the next question as a lazy, undisciplined and immature person. Surely the early birds don't have it all their own way. Surely it can't be all good. No, I don't think so. I think there's certainly downside to this. I mean, one of the very obvious ones is that if you're in the office early, you may just get given more work to do. Urgent tasks come up over the course of the day, which means there's a reasonably high chance that you'll just end up working as late as everyone else. It's often said that the early bird gets the worm, but I think if you're the worm, maybe the best thing to do is just stay in bed. But also a bigger problem, I think, is that being an early bird can turn you into a bit of a bore. I think we've all had the experience of a lark describing their morning routine to us and droning on about how much they got done whilst we were slumbering away, which I don't think is a particularly good way to make friends. And another downside of being an early bird is it often means you're pretty sleepy by the time it gets to the evening and we do find evidence that night hours not only drink more alcohol and take more drugs but even have more sex. Not quite sure how to follow up that last one but you know I think that Larks and owls obviously like to slug insults at each other but I'm guessing that we're kind of stuck with how we are, aren't we? Yeah, I mean certainly my experience of this is that it is very difficult to pretend to be a morning person if that's not the way you're wide. So people have a genetic chronotype as scientists call it which is the natural inclination of your body to sleep at a certain time and people talk about dimming your lights at night and buying special daylight alarm clocks to wake you up in the morning but really that's not going to make that much of a difference and frankly you know if you're going to wake up early and just spend hours staring blankly at your screen it's not going to help you all that much. Thanks so much for coming on the show Tom. Thanks for having me. That's all for this episode of The Intelligence. Let us know what you think of the show. You can get in touch at podcast at economist.com. We'll see you back here tomorrow. What does it take to move the needle on the world's toughest problems? On better heroes, we've sourced the globe for passionate individuals and visionary companies who are all on a mission to solve humanities most urgent challenges. Like can AI make the world a better place? How can we change our consumption habits to better serve the environment? And what can we do to make our financial systems work for all? This series will convince you that humanity can save itself and our planet. Better Heroes is by EY and produced by Human Group Media. Listen now, wherever you get your podcasts.\""
            ],
            "application/vnd.google.colaboratory.intrinsic+json": {
              "type": "string"
            }
          },
          "metadata": {},
          "execution_count": 17
        }
      ]
    },
    {
      "cell_type": "code",
      "source": [
        "chatOutput = client.chat.completions.create(model=\"gpt-3.5-turbo-16k\",\n",
        "                                            messages=[{\"role\": \"system\", \"content\": \"You are a helpful assistant.\"},\n",
        "                                                      {\"role\": \"user\", \"content\": my_summary_prompt}\n",
        "                                                      ]\n",
        "                                            )"
      ],
      "metadata": {
        "id": "tTcBPXCgMMrZ"
      },
      "execution_count": 18,
      "outputs": []
    },
    {
      "cell_type": "code",
      "source": [
        "podcastSummary = chatOutput.choices[0].message.content\n",
        "podcastSummary"
      ],
      "metadata": {
        "colab": {
          "base_uri": "https://localhost:8080/",
          "height": 209
        },
        "id": "zi9mM0cdMd_R",
        "outputId": "05585b9e-bc0f-4d20-c7ac-79761e66f12a"
      },
      "execution_count": 19,
      "outputs": [
        {
          "output_type": "execute_result",
          "data": {
            "text/plain": [
              "'Summary: The podcast discusses two main topics. \\n\\nThe first topic is the solar revolution and its impact on the global energy landscape. The podcast highlights that solar energy is growing rapidly and is on track to become the biggest source of electricity on the planet. The decreasing cost of solar power is a key factor driving its growth, with solar panels becoming increasingly affordable over time. The podcast emphasizes that the decline in solar panel prices has been significant, dropping from $100 per watt in 1974 to 11 cents per watt in recent years. However, limitations such as the intermittent nature of sunlight and the need for additional technology, like batteries, to store energy for use during non-sunny periods are mentioned.\\n\\nThe second topic revolves around the changing perception of champagne and its rising popularity among connoisseurs. The podcast mentions that champagne was historically perceived as a mass luxury product rather than a fine wine. However, the interest in champagne has been growing, particularly among wine collectors who appreciate the unique qualities and limited production of smaller champagne houses. The COVID-19 pandemic also contributed to increased demand for champagne, as people had more time to study and appreciate the production methods and distinct flavors of different champagnes.\\n\\nAdditionally, the podcast explores the debate between early birds and night owls and the possible advantages and disadvantages of waking up early. It mentions that early risers, including many CEOs, often report feeling happier, healthier, and more productive. However, night owls may have their own strengths, such as being more creative or having higher energy levels in the evenings. The social stigma associated with being a night owl is also mentioned. The podcast concludes that individuals have innate genetic preferences for their sleep patterns, and attempting to change those patterns may not be fruitful.'"
            ],
            "application/vnd.google.colaboratory.intrinsic+json": {
              "type": "string"
            }
          },
          "metadata": {},
          "execution_count": 19
        }
      ]
    },
    {
      "cell_type": "markdown",
      "source": [
        "## **2.2 Podcast Highlight**"
      ],
      "metadata": {
        "id": "3XxKr8GiY9eb"
      }
    },
    {
      "cell_type": "code",
      "source": [
        "instructPrompt = \"\"\"\n",
        "  You are a podcast editor and producer. You are provided with the transcript of a podcast episode and have to identify the 5 most significant moments in the podcast as highlights.\n",
        "  - Each highlight needs to be a statement by one of the podcast guests\n",
        "  - Each highlight has to be impactful and an important takeaway from this podcast episode\n",
        "  - Each highlight must be concise and make listeners want to hear more about why the podcast guest said that\n",
        "  - The highlights that you pick must be spread out throughout the episode\n",
        "\n",
        "  Provide only the highlights and nothing else. Provide the full sentence of the highlight and format it as follows -\n",
        "\n",
        "  - Highlight 1 of the podcast\n",
        "  - Highlight 2 of the podcast\n",
        "  - Highlight 3 of the podcast\n",
        "  \"\"\"\n",
        "\n",
        "my_highlight_prompt = instructPrompt + \"\"\"****\"\"\" + my_transcript\n",
        "my_highlight_prompt"
      ],
      "metadata": {
        "colab": {
          "base_uri": "https://localhost:8080/",
          "height": 209
        },
        "id": "r1mnEjkVY4vn",
        "outputId": "fc7e72bd-3cf1-4a31-e4f2-b147cdcb2f83"
      },
      "execution_count": 20,
      "outputs": [
        {
          "output_type": "execute_result",
          "data": {
            "text/plain": [
              "\"\\n  You are a podcast editor and producer. You are provided with the transcript of a podcast episode and have to identify the 5 most significant moments in the podcast as highlights.\\n  - Each highlight needs to be a statement by one of the podcast guests\\n  - Each highlight has to be impactful and an important takeaway from this podcast episode\\n  - Each highlight must be concise and make listeners want to hear more about why the podcast guest said that\\n  - The highlights that you pick must be spread out throughout the episode\\n\\n  Provide only the highlights and nothing else. Provide the full sentence of the highlight and format it as follows -\\n\\n  - Highlight 1 of the podcast\\n  - Highlight 2 of the podcast\\n  - Highlight 3 of the podcast\\n  **** What does it take to move the needle on the world's toughest problems? On better heroes, we've sourced the globe for passionate individuals and visionary companies who are all on a mission to solve humanity's most urgent challenges. Like, can AI make the world a better place? How can we change our consumption habits to better serve the environment and what can we do to make our financial systems work for all? This series will convince you that humanity can save itself and our planet. Better Heroes is by EY and produced by human group media. Listen now, wherever you get your podcasts. The Economist. Hello and welcome to the Intelligence from The Economist. I'm your host Rosie Bloor. Every weekday we provide a fresh perspective on the event shaping your world. Champagne may be the drink of celebration, but wine collectors have long sniffed at the bubbly stuff. Now the global market is growing and Sotheby's is staging its first champagne-only auction. The market is looking rather sparkly. And are you an early bird or a night owl? I'm sure you know which of those you are, but you might not know how that affects your career prospects. Our correspondent got up with the larks to share his conclusions. But first. This This evening thousands of people will descend on Stonehenge at sunset. Druids, pagans, tourists are all united by one thing, the desire to see the solstice, the longest day in the northern hemisphere, and the event this prehistoric monument was built for, when the sun's rays shine into the heart of the ancient stone circle. But you don't have to be dressed in druidids robes to appreciate the awesome power of the sun. And I really do mean power. These days we channel the sun's rays less through stone formations than via silicon panels. These solar cells increasingly help to power our greedy planet. Solar accounted for about 6% of electricity consumption worldwide last year, a humble but important share and one that is growing extremely fast. The ancients really were on to something. A revolution in solar energy is just on the horizon. The rate at which we use an energy source and the cost of that energy source are coupled. And what that means is that as we use more solar power, the cost of it is going down incredibly quickly. Hal Hodson is the Economist's America's editor and also writes about technology. But this ultimately means is that humanity has a whole new relationship with energy and the way that we use energy is going to be completely transformed the next few decades. Hal, you say we've got a whole new relationship with energy. It sounds incredible. Just how fast does the increase been? So in 2004 the world installed about two and a half million solar panels. These are the black panels you see on roofs increasingly around you. And this year the world world is uncours to install 1.4 billion solar panels. Solar is growing so fast now that it's on track to generate more electricity than the world's nuclear power plants by 2026, its wind turbines by 2027, all of the hydroelectric dams by 2028, then it'll overtake electricity generated by gas in 2030 and coal in 2032. And at that point it will be the biggest source of electricity on the planet. The biggest source of electricity on the planet that's just stunning. What's powering this solar revolution? So the thing that is making all of this happen in truth is a giant manufacturing ecosystem in the harsh of industrial China, but there's slightly more to it than that. The real thing that's making solar go so fast is the nature of the technology itself. Solar cells, those are the chunks of silicon that make up a solar panel, are essentially identical, and whether you need 10 solar cells or 10 billion solar cells you're going to use the same manufacturing ecosystem and what that means is that solar much more than any other, can benefit from returns to scale. If you know that the world is going to use more and more of these things, you can build really, really gigantic factories to make the solar cells, to make the inputs to those solar cells. And you build this feedback loop between supply and demand that keeps driving the price down. And to date, the price has come down since 1974 by 99.9%. It used to be $100 a watt, now it's 11 cents per watt, and it is still going. Hal, I keep expecting you to come in with a butt here. You're telling me that prices are going. Hal, I keep expecting you to come in with a butt here. You're telling me that prices are going down and rates are going up. Can this extraordinary rate of growth really continue? Well, there is a big butt that should be familiar to most humans on the planet, which is that the sun only shines during the day and solar panels only generate electricity when the sun is shining on them. So that seems like an absolutely enormous but. But to that but there are numerous ways around it and the key thing to bear in mind is that all that matters is that you keep expanding the amount of solar panels installed on the planet and keep growing the rate at which they are produced and that's going to keep driving your costs down. So yes the sun only shines during the day but the vast majority of countries have not installed a large amount of solar panels yet and even though the sun only shines during the day we have other technologies which allow you to take the energy generated from the panels when the sun shines during the day and use it later in the evening. These are batteries and very fortunately for solar panels and for humans really in general. The rate at which batteries are getting cheaper looks very similar to the rate of which batteries are getting cheaper, it looks very similar to the rate of which solar panels are getting cheaper. So if we're finding ways to make sunshine power us even through the night, what could this explosion of renewable energy mean for climate change? This is definitely good news for climate change. There's no way to cautiously say that it's not good news. If you look at European emissions, even just since the Ukraine war, they're down and the reason they're down is largely because a massive amount of solar panels have been installed on the grid. The butt here is because solar doesn't directly provide energy during the night and because you need batteries and other things to help you do that, that becomes a bit more expensive. If you are a poor country looking at this, you're just going to say, oh well, I'm going to run a bunch of coal power plants and a bunch of solar plants. And so it comes down to the cost, right? The two cheapest forms of energy on the planet are solar and coal and only one of them can go through the night without adding on other bits of technology that make the whole thing more expensive. Now it's possible that solar and batteries is a combination gets so cheap so fast that even countries that are thinking we're going to build massive coal plants say oh no actually it doesn't make any sense anymore it's just cheaper to do it using these technologies. But that's not guaranteed at all. You've also got to consider just the political implications of shutting down your coal mining industry, which probably employs a couple million people if you're a large country like India. So there are both technological and political considerations that mitigate against solar sort of miraculous price declines completely solving climate change. It's almost certainly going to remain a problem over the next few decades. Hal, it's incredibly rare to hear such a good news story that continues all the way through to the end to be a good news story. Just tell me what does very cheap solar energy mean for the global economy as a whole? If you think about it, energy is probably one of the only things that is an input into all products. The entire economy runs on energy even to a much greater extent than it runs on, say, information processing. So the first way to answer your question is just everything gets cheaper. A more speculative way of thinking about what does this do? What does it mean to have such cheap energy coming from solar? Is what could you do with how much solar panel and the scale of this energy source and the fact that you can just buy a bunch of them and put them in a field and do something with them makes you start to think rather wackly. You think about doing things like using solar panels to treat all of the drinking water in the world so that you would eliminate waterborne diseases. That's going to require an amount of solar roughly that the Chinese ecosystem makes in a year. Yeah, you've got to install this and all of these finicky things. But just thinking about how much energy is required to do what job, we're now in a world where a single country produces a machine that makes enough energy to do that job every year to give humans drinking water that doesn't kill them. You could also think about just making all of the fuels that we need instead of digging them out of the ground sucking them out of the ground you could just make them using water and carbon dioxide. Again energy needs to be very very very cheap for that to any sense. But that's the whole point of this story. Energy's getting very, very, very cheap. And the geopolitical impact of all of this? I think it's quite clear that it's going to be geopolitically stabilising to have a machine, thousands, millions, billions of which exist in every country that just produces energy by being pointed at the sky. That's completely different to the flows of oil and gas that currently cause so much geopolitical strife. But there is another consideration which is that everyone's a bit worried about the Chinese producing so many of these machines, these solar panels that are going to provide all of this energy. The way that the world responds to that, it matters quite a lot because if the world responds in such a way that it says we're not going to even allow Chinese companies to set up factories in our country we're going to completely ignore everything they've done and we're going to try and build our own versions of this. Then you might break this wonderful scaling effect whereby you make more you learn to make it more cheaply and the cost of solar goes down if the West tries to go its own way and doesn't learn from China it might have to start at the top of that process again and that would be really bad for the world. Then you'd have much higher priced solar panels and you would break the whole cycle of deploying more, having more demand, producing more, reducing the cost of the solar energy. So that's a sort of geopolitical worry that I have. But even if that does happen in the West totally turns its back on China and forges its own path. There's no reason to think that the same exact process can't happen. Because what we're really talking about here is a very simple, very easy to make machine that produces 30 years of energy just by being pointed at the sun. The world really has not woken up to the consequences of having thousands, millions, billions of those machines all over the world on every house on every business in the field behind your house. Hal thank you so much for bringing some sun to our lives. Thanks Rosie, thank you very much for having me. And if you want to know more about the solar revolution, keep an ear out for next week's episode of Babbage, where we'll also be exploring space-based solar power. For those enlightened enough already to be subscribers to Economist Podcast Plus, thank you. For everyone else, you'll need to buy a subscription to listen. Find out more in the link in the world's toughest problems? On better heroes, we've sourced the globe for passionate individuals and visionary companies who are all on a mission to solve humanity's most urgent challenges. Like can AI make the world a better place? How can we change our consumption habits to better serve the environment and what can we do to make our financial systems work for all. This series will convince you that humanity has ever offered a single owner wine auction focused entirely on champagne. I'm not sure that this will ever come up again. Today in Paris, Southerby's is holding the first ever Champagne-only auction expected to raise around $2 million. Given how famous the French wine is, some may wonder why it's taken the auction house so long to come around to the fizzy stuff. Well, it's all about reputation. For decades, connoisseurs have been rather sniffy about bubbles, preferring reds and whites from places like Burgundy or Bordeaux. But last year, global champagne sales hit a record high of $7 billion. Now even wine collectors are waking up to the joy of celebratory sparkles. Champagne has been having a moment, but one of the interesting things is how differently people see Champagne. Alexandra Seward-Souich-Bass is culture editor of the economist. So in some ways you have some of the most famous brands in the world, the Vove Klicos, Krug, Crystal, that are incredibly well known by people and are brands that one aspires to purchase during Times' celebration. On the other hand, you have people who take wine very seriously and Champagne has not been on the top of their list when it comes to their celebrations of fine wine. Recently however that started to change. Alexandra I'm amazed to hear that people haven't been paying enough attention to Champagne. Why hasn't it captured the attention of Connoisseurs before this. I've been doing what is probably the next best thing to drinking Champagne, which is reading histories of Champagne. And Robert Walter is an Australian wine writer makes the point that Champagne has always been peddled as a bubbly drink for bubbly people. You see it in the marketing for people who are going to clubs or perhaps rapper. So I think part of it is the marketing that it's kind of a mass luxury major champagne brands are owned by Louis Vuitton Mo Wei Hennessy one of the largest luxury conglomerates in the world. And so it's a brand to aspire to, but the wine connoisseurs see that and don't think it's as artisanal, unique, and complex as some of the other wines from regions in France and elsewhere. Alexandra, I hope you've been drinking some champagne as part of your research for this piece. Tell me why that started to change. I of course take my job and research very seriously, so I did oblige. A few things have changed in terms of how wine collectors, investors, lovers have seen champagne. One was COVID and that left people with a lot of time on their hands, some extra cash for the well-heeled who were not going out to dine in restaurants as much. People found themselves with a lot more time to study champagne producers methods of blending and adding dossage, which is a mixture that includes cane sugar and sweetens champagne before bottling. I'm the third generation of Lam-Dier producer. I'm back in the estate since seven years ago taking over my parents who took from their parents and from my dad parents. That's Arthur Larmandier of Larmandier Bernier, a champagne house. They get as for wine, the industry that there is not only be brand and not only bubble, that there is wine behind the bubble. And that's... At first he thought it would take five years for champagne to bounce back from COVID, but instead demand surged and it took about six months. There's another factor driving wine aficionados to look at their champagne flutes a little bit differently. And that connects to Larmondier, which is appreciation for smaller houses that produce limited quantities of high quality bubbly. They often have really strong and unique viticultural practices and really give a sense of terwar or the place that wine is grown, so it's site specific and very unique. We've seen prices for growers' champagne skyrocket on the secondary market. People who collect it have seen prices double if not more for certain makers since the start of the pandemic. Presumably it wasn't just COVID that was responsible for this interest and surge in prices for grower Champanes. What else has been going on? The fact that Champagne has been reviewed more often I think did drive interest as well. The fact that wine aficionados were taking it more seriously in places like the wine advocate and elsewhere drove people to give it a try themselves. But I would say it's really, some call it a burgundification of champagne, which is a clunky way of saying that just like people take wines from Burgundy very seriously and think about how the different plots give you a very different experience. People are starting to do that with Champagne. Historically, Champagne has been blended, both from the grapes from different areas in Champagne, grown by different people, and also blended across different years. It's probably the most processed wine that's produced in the world. But we've started to see that change with grower Champagne and what they're doing is doing very site specific releases that really give a sense of place and I think that peaks the interest of wine enthusiasts. We have enough wines and grapes really to isolate, to choose to select and only keep the very best for concept. So very best is. I visited the offices of Laurent Perrier on the roof of Borsin-on-O-Ré to try their granciac prestige cuvet. And they told me all about the champagne-making process and also invited me to taste some. Can I have your glass? Thank you. Consumers are looking to buy products that really connect to local communities. So we see that trend in gastronomy and cuisine we are also seeing that in wine and that has given grower champagne's a real boost. And how does that interest in local growth apply to the growing global market in Champagne? It used to be that the French bought the majority of Champagne, but that changed in 2012 and it became the rest of the world. We've seen America buy more champagne, the Japanese who buy a lot of prestige cuvés, which are expensive bottles. And we see growth in the rest of Europe as well. I do think that there is a question about pricing and how much the market will tolerate how much prices have risen in recent years for some of the best champagne's. I think it is worth watching the Sotheby's auction in Paris to see how much wine collectors are seeking out new bottles of classic vintages and it will be a really interesting test of champagne being taken more seriously. Thank you so much Alexandra next time over a glass of champagne I hope. Thank you Rosie I look forward to it. My mom My mother famously said that she pitied whoever married me. That wasn't a general comment on my character. It was because I was so horrible in the morning, every morning. When it comes to hitting the snooze button, I'm a repeat offender. For me the morning of getting the kids up, bags packed and off to school, getting myself to the office and starting work is all done through bleary eyes and with a help of at least one extremely large mug of coffee. Only when the day is nearly done do I feel productive and full of energy. So as a night owl I've got a vested interest in the following question, are the early birds who get half of their to-do list done before breakfast actually going to do better in life? Does it really pay to be up with the lark instead of burning the midnight oil? You won't find many CEOs that extol the virtues of a lie in. Tom Lee Devlin is a global business correspondent and host of our sister podcast Money Talks. If you look at people like Tim Cook of Apple or Bob Iger of Disney, they're up between 4 and 5 in the morning exercising, sending off emails, getting ready for their day. Actually, two-thirds of American CEOs are up by six in the morning, which is about twice a share of average Americans. So it certainly seems like if you are aspiring to corporate greatness hitting the snooze button might not be the way to success. So Tom I need to ask you a very personal question here. I'm not going to ask you if you aspire to corporate greatness, but I do want to know are you an early bird? Are you a lark or are you an owl? I am certainly not an early bird. I have experimented with waking up early in the past and I think that the benefits are certainly real, you know, you can get ahead of all of your emails, you can squeeze in a workout, and you kind of get the smug satisfaction of arriving at your desk before all your other colleagues are in. And one thing that I found really funny whilst I was reporting for this piece is all the crazy videos out there on on Tik-Toc of people describing their incredibly elaborate morning rituals. You have people submerging themselves in ice baths and reciting affirmations and making all sorts of weird beverages in the morning. One of the most bizarre ones I came across was this guy named Chris Crone, who's a business coach in America. My destiny is formed before 9 a.m. So I'm at before a.m. From 4 to 420 I do a book on double speed so I'm listening at 420 I'm on the treadmill with my wife and we're doing an active meditation together for 40 minutes. It includes a reverie where we're basically aligning the pharmacy of the body to over dopamine the mind by gratitude, serotonin, the brain, and then we shift into Mind Palace, which is 20 minutes of co-creating our best bodies. Five o'clock we then hit the weights. Over dopamine the mind sounds intriguing but on slightly firmer ground is there actually any solid evidence that getting up earlier is better for you? There is a number of studies that suggest it and might be one piece of research from the University of Toronto in 2012 showed that early birds reported feeling happier and healthier night owls tend to get less sleep which can affect their mood and their health and also their productivity. Another study from researchers in Finland found that men who get up later make 4% less money than those who are up earlier. Night owls also tend to be fatter too, according to some research from the Chinese University of Hong Kong. And there's also a kind of general social stigma that I think night owls have to grapple with. One more piece of research by Jessica Deitch and her colleagues showed that night hours tend to be perceived as lazy, undisciplined and immature, which is not a particularly flattering description. I ask you the next question as a lazy, undisciplined and immature person. Surely the early birds don't have it all their own way. Surely it can't be all good. No, I don't think so. I think there's certainly downside to this. I mean, one of the very obvious ones is that if you're in the office early, you may just get given more work to do. Urgent tasks come up over the course of the day, which means there's a reasonably high chance that you'll just end up working as late as everyone else. It's often said that the early bird gets the worm, but I think if you're the worm, maybe the best thing to do is just stay in bed. But also a bigger problem, I think, is that being an early bird can turn you into a bit of a bore. I think we've all had the experience of a lark describing their morning routine to us and droning on about how much they got done whilst we were slumbering away, which I don't think is a particularly good way to make friends. And another downside of being an early bird is it often means you're pretty sleepy by the time it gets to the evening and we do find evidence that night hours not only drink more alcohol and take more drugs but even have more sex. Not quite sure how to follow up that last one but you know I think that Larks and owls obviously like to slug insults at each other but I'm guessing that we're kind of stuck with how we are, aren't we? Yeah, I mean certainly my experience of this is that it is very difficult to pretend to be a morning person if that's not the way you're wide. So people have a genetic chronotype as scientists call it which is the natural inclination of your body to sleep at a certain time and people talk about dimming your lights at night and buying special daylight alarm clocks to wake you up in the morning but really that's not going to make that much of a difference and frankly you know if you're going to wake up early and just spend hours staring blankly at your screen it's not going to help you all that much. Thanks so much for coming on the show Tom. Thanks for having me. That's all for this episode of The Intelligence. Let us know what you think of the show. You can get in touch at podcast at economist.com. We'll see you back here tomorrow. What does it take to move the needle on the world's toughest problems? On better heroes, we've sourced the globe for passionate individuals and visionary companies who are all on a mission to solve humanities most urgent challenges. Like can AI make the world a better place? How can we change our consumption habits to better serve the environment? And what can we do to make our financial systems work for all? This series will convince you that humanity can save itself and our planet. Better Heroes is by EY and produced by Human Group Media. Listen now, wherever you get your podcasts.\""
            ],
            "application/vnd.google.colaboratory.intrinsic+json": {
              "type": "string"
            }
          },
          "metadata": {},
          "execution_count": 20
        }
      ]
    },
    {
      "cell_type": "code",
      "source": [
        "chatOutput = client.chat.completions.create(model=\"gpt-3.5-turbo-16k\",\n",
        "                                            messages=[{\"role\": \"system\", \"content\": \"You are a helpful assistant.\"},\n",
        "                                                      {\"role\": \"user\", \"content\": my_highlight_prompt}\n",
        "                                                      ]\n",
        "                                            )\n",
        "podcastHighlights = chatOutput.choices[0].message.content\n",
        "podcastHighlights"
      ],
      "metadata": {
        "colab": {
          "base_uri": "https://localhost:8080/",
          "height": 209
        },
        "id": "S2K67JADe3T8",
        "outputId": "624e1793-857e-4a79-9a15-c3e9317e1057"
      },
      "execution_count": 21,
      "outputs": [
        {
          "output_type": "execute_result",
          "data": {
            "text/plain": [
              "'- Highlight 1 of the podcast: \"Solar is growing so fast now that it\\'s on track to generate more electricity than the world\\'s nuclear power plants by 2026, its wind turbines by 2027, all of the hydroelectric dams by 2028, then it\\'ll overtake electricity generated by gas in 2030 and coal in 2032. And at that point it will be the biggest source of electricity on the planet.\"\\n- Highlight 2 of the podcast: \"So the thing that is making all of this happen in truth is a giant manufacturing ecosystem in the harsh of industrial China, but there\\'s slightly more to it than that. The real thing that\\'s making solar go so fast is the nature of the technology itself.\"\\n- Highlight 3 of the podcast: \"These are batteries and very fortunately for solar panels and for humans really in general. The rate at which batteries are getting cheaper looks very similar to the rate of which batteries are getting cheaper, it looks very similar to the rate of which solar panels are getting cheaper. So if we\\'re finding ways to make sunshine power us even through the night, what could this explosion of renewable energy mean for climate change?\"\\n- Highlight 4 of the podcast: \"This is definitely good news for climate change. There\\'s no way to cautiously say that it\\'s not good news. If you look at European emissions, even just since the Ukraine war, they\\'re down and the reason they\\'re down is largely because a massive amount of solar panels have been installed on the grid.\"\\n- Highlight 5 of the podcast: \"If you think about it, energy is probably one of the only things that is an input into all products. The entire economy runs on energy even to a much greater extent than it runs on, say, information processing. So the first way to answer your question is just everything gets cheaper.\"'"
            ],
            "application/vnd.google.colaboratory.intrinsic+json": {
              "type": "string"
            }
          },
          "metadata": {},
          "execution_count": 21
        }
      ]
    },
    {
      "cell_type": "markdown",
      "source": [
        "## **2.3 Podcast Sentiment Analysis**"
      ],
      "metadata": {
        "id": "hW6DqLq4fu5o"
      }
    },
    {
      "cell_type": "code",
      "source": [
        "instructPrompt = \"\"\"\n",
        "  You are an experiment consultor of sentiment analysis. You are provided with the transcript of a podcast episode and have to identify if the\n",
        "  text has in a global way positive, negative or neutral sentiments.\n",
        "\n",
        "  Provide only the final sentiment label as well as the justification for this. Provide the answer formated as follows -\n",
        "\n",
        "  - Sentiment of the podcast\n",
        "  - Justification of sentiment label\n",
        "\n",
        "  \"\"\"\n",
        "\n",
        "my_sentiment_prompt = instructPrompt + \"\"\"****\"\"\" + my_transcript\n",
        "my_sentiment_prompt"
      ],
      "metadata": {
        "colab": {
          "base_uri": "https://localhost:8080/",
          "height": 209
        },
        "id": "PwGIeWXgf4K2",
        "outputId": "aa58ba98-2633-4742-be4b-763bd8e25954"
      },
      "execution_count": 22,
      "outputs": [
        {
          "output_type": "execute_result",
          "data": {
            "text/plain": [
              "\"\\n  You are an experiment consultor of sentiment analysis. You are provided with the transcript of a podcast episode and have to identify if the\\n  text has in a global way positive, negative or neutral sentiments.\\n\\n  Provide only the final sentiment label as well as the justification for this. Provide the answer formated as follows -\\n\\n  - Sentiment of the podcast\\n  - Justification of sentiment label\\n\\n  **** What does it take to move the needle on the world's toughest problems? On better heroes, we've sourced the globe for passionate individuals and visionary companies who are all on a mission to solve humanity's most urgent challenges. Like, can AI make the world a better place? How can we change our consumption habits to better serve the environment and what can we do to make our financial systems work for all? This series will convince you that humanity can save itself and our planet. Better Heroes is by EY and produced by human group media. Listen now, wherever you get your podcasts. The Economist. Hello and welcome to the Intelligence from The Economist. I'm your host Rosie Bloor. Every weekday we provide a fresh perspective on the event shaping your world. Champagne may be the drink of celebration, but wine collectors have long sniffed at the bubbly stuff. Now the global market is growing and Sotheby's is staging its first champagne-only auction. The market is looking rather sparkly. And are you an early bird or a night owl? I'm sure you know which of those you are, but you might not know how that affects your career prospects. Our correspondent got up with the larks to share his conclusions. But first. This This evening thousands of people will descend on Stonehenge at sunset. Druids, pagans, tourists are all united by one thing, the desire to see the solstice, the longest day in the northern hemisphere, and the event this prehistoric monument was built for, when the sun's rays shine into the heart of the ancient stone circle. But you don't have to be dressed in druidids robes to appreciate the awesome power of the sun. And I really do mean power. These days we channel the sun's rays less through stone formations than via silicon panels. These solar cells increasingly help to power our greedy planet. Solar accounted for about 6% of electricity consumption worldwide last year, a humble but important share and one that is growing extremely fast. The ancients really were on to something. A revolution in solar energy is just on the horizon. The rate at which we use an energy source and the cost of that energy source are coupled. And what that means is that as we use more solar power, the cost of it is going down incredibly quickly. Hal Hodson is the Economist's America's editor and also writes about technology. But this ultimately means is that humanity has a whole new relationship with energy and the way that we use energy is going to be completely transformed the next few decades. Hal, you say we've got a whole new relationship with energy. It sounds incredible. Just how fast does the increase been? So in 2004 the world installed about two and a half million solar panels. These are the black panels you see on roofs increasingly around you. And this year the world world is uncours to install 1.4 billion solar panels. Solar is growing so fast now that it's on track to generate more electricity than the world's nuclear power plants by 2026, its wind turbines by 2027, all of the hydroelectric dams by 2028, then it'll overtake electricity generated by gas in 2030 and coal in 2032. And at that point it will be the biggest source of electricity on the planet. The biggest source of electricity on the planet that's just stunning. What's powering this solar revolution? So the thing that is making all of this happen in truth is a giant manufacturing ecosystem in the harsh of industrial China, but there's slightly more to it than that. The real thing that's making solar go so fast is the nature of the technology itself. Solar cells, those are the chunks of silicon that make up a solar panel, are essentially identical, and whether you need 10 solar cells or 10 billion solar cells you're going to use the same manufacturing ecosystem and what that means is that solar much more than any other, can benefit from returns to scale. If you know that the world is going to use more and more of these things, you can build really, really gigantic factories to make the solar cells, to make the inputs to those solar cells. And you build this feedback loop between supply and demand that keeps driving the price down. And to date, the price has come down since 1974 by 99.9%. It used to be $100 a watt, now it's 11 cents per watt, and it is still going. Hal, I keep expecting you to come in with a butt here. You're telling me that prices are going. Hal, I keep expecting you to come in with a butt here. You're telling me that prices are going down and rates are going up. Can this extraordinary rate of growth really continue? Well, there is a big butt that should be familiar to most humans on the planet, which is that the sun only shines during the day and solar panels only generate electricity when the sun is shining on them. So that seems like an absolutely enormous but. But to that but there are numerous ways around it and the key thing to bear in mind is that all that matters is that you keep expanding the amount of solar panels installed on the planet and keep growing the rate at which they are produced and that's going to keep driving your costs down. So yes the sun only shines during the day but the vast majority of countries have not installed a large amount of solar panels yet and even though the sun only shines during the day we have other technologies which allow you to take the energy generated from the panels when the sun shines during the day and use it later in the evening. These are batteries and very fortunately for solar panels and for humans really in general. The rate at which batteries are getting cheaper looks very similar to the rate of which batteries are getting cheaper, it looks very similar to the rate of which solar panels are getting cheaper. So if we're finding ways to make sunshine power us even through the night, what could this explosion of renewable energy mean for climate change? This is definitely good news for climate change. There's no way to cautiously say that it's not good news. If you look at European emissions, even just since the Ukraine war, they're down and the reason they're down is largely because a massive amount of solar panels have been installed on the grid. The butt here is because solar doesn't directly provide energy during the night and because you need batteries and other things to help you do that, that becomes a bit more expensive. If you are a poor country looking at this, you're just going to say, oh well, I'm going to run a bunch of coal power plants and a bunch of solar plants. And so it comes down to the cost, right? The two cheapest forms of energy on the planet are solar and coal and only one of them can go through the night without adding on other bits of technology that make the whole thing more expensive. Now it's possible that solar and batteries is a combination gets so cheap so fast that even countries that are thinking we're going to build massive coal plants say oh no actually it doesn't make any sense anymore it's just cheaper to do it using these technologies. But that's not guaranteed at all. You've also got to consider just the political implications of shutting down your coal mining industry, which probably employs a couple million people if you're a large country like India. So there are both technological and political considerations that mitigate against solar sort of miraculous price declines completely solving climate change. It's almost certainly going to remain a problem over the next few decades. Hal, it's incredibly rare to hear such a good news story that continues all the way through to the end to be a good news story. Just tell me what does very cheap solar energy mean for the global economy as a whole? If you think about it, energy is probably one of the only things that is an input into all products. The entire economy runs on energy even to a much greater extent than it runs on, say, information processing. So the first way to answer your question is just everything gets cheaper. A more speculative way of thinking about what does this do? What does it mean to have such cheap energy coming from solar? Is what could you do with how much solar panel and the scale of this energy source and the fact that you can just buy a bunch of them and put them in a field and do something with them makes you start to think rather wackly. You think about doing things like using solar panels to treat all of the drinking water in the world so that you would eliminate waterborne diseases. That's going to require an amount of solar roughly that the Chinese ecosystem makes in a year. Yeah, you've got to install this and all of these finicky things. But just thinking about how much energy is required to do what job, we're now in a world where a single country produces a machine that makes enough energy to do that job every year to give humans drinking water that doesn't kill them. You could also think about just making all of the fuels that we need instead of digging them out of the ground sucking them out of the ground you could just make them using water and carbon dioxide. Again energy needs to be very very very cheap for that to any sense. But that's the whole point of this story. Energy's getting very, very, very cheap. And the geopolitical impact of all of this? I think it's quite clear that it's going to be geopolitically stabilising to have a machine, thousands, millions, billions of which exist in every country that just produces energy by being pointed at the sky. That's completely different to the flows of oil and gas that currently cause so much geopolitical strife. But there is another consideration which is that everyone's a bit worried about the Chinese producing so many of these machines, these solar panels that are going to provide all of this energy. The way that the world responds to that, it matters quite a lot because if the world responds in such a way that it says we're not going to even allow Chinese companies to set up factories in our country we're going to completely ignore everything they've done and we're going to try and build our own versions of this. Then you might break this wonderful scaling effect whereby you make more you learn to make it more cheaply and the cost of solar goes down if the West tries to go its own way and doesn't learn from China it might have to start at the top of that process again and that would be really bad for the world. Then you'd have much higher priced solar panels and you would break the whole cycle of deploying more, having more demand, producing more, reducing the cost of the solar energy. So that's a sort of geopolitical worry that I have. But even if that does happen in the West totally turns its back on China and forges its own path. There's no reason to think that the same exact process can't happen. Because what we're really talking about here is a very simple, very easy to make machine that produces 30 years of energy just by being pointed at the sun. The world really has not woken up to the consequences of having thousands, millions, billions of those machines all over the world on every house on every business in the field behind your house. Hal thank you so much for bringing some sun to our lives. Thanks Rosie, thank you very much for having me. And if you want to know more about the solar revolution, keep an ear out for next week's episode of Babbage, where we'll also be exploring space-based solar power. For those enlightened enough already to be subscribers to Economist Podcast Plus, thank you. For everyone else, you'll need to buy a subscription to listen. Find out more in the link in the world's toughest problems? On better heroes, we've sourced the globe for passionate individuals and visionary companies who are all on a mission to solve humanity's most urgent challenges. Like can AI make the world a better place? How can we change our consumption habits to better serve the environment and what can we do to make our financial systems work for all. This series will convince you that humanity has ever offered a single owner wine auction focused entirely on champagne. I'm not sure that this will ever come up again. Today in Paris, Southerby's is holding the first ever Champagne-only auction expected to raise around $2 million. Given how famous the French wine is, some may wonder why it's taken the auction house so long to come around to the fizzy stuff. Well, it's all about reputation. For decades, connoisseurs have been rather sniffy about bubbles, preferring reds and whites from places like Burgundy or Bordeaux. But last year, global champagne sales hit a record high of $7 billion. Now even wine collectors are waking up to the joy of celebratory sparkles. Champagne has been having a moment, but one of the interesting things is how differently people see Champagne. Alexandra Seward-Souich-Bass is culture editor of the economist. So in some ways you have some of the most famous brands in the world, the Vove Klicos, Krug, Crystal, that are incredibly well known by people and are brands that one aspires to purchase during Times' celebration. On the other hand, you have people who take wine very seriously and Champagne has not been on the top of their list when it comes to their celebrations of fine wine. Recently however that started to change. Alexandra I'm amazed to hear that people haven't been paying enough attention to Champagne. Why hasn't it captured the attention of Connoisseurs before this. I've been doing what is probably the next best thing to drinking Champagne, which is reading histories of Champagne. And Robert Walter is an Australian wine writer makes the point that Champagne has always been peddled as a bubbly drink for bubbly people. You see it in the marketing for people who are going to clubs or perhaps rapper. So I think part of it is the marketing that it's kind of a mass luxury major champagne brands are owned by Louis Vuitton Mo Wei Hennessy one of the largest luxury conglomerates in the world. And so it's a brand to aspire to, but the wine connoisseurs see that and don't think it's as artisanal, unique, and complex as some of the other wines from regions in France and elsewhere. Alexandra, I hope you've been drinking some champagne as part of your research for this piece. Tell me why that started to change. I of course take my job and research very seriously, so I did oblige. A few things have changed in terms of how wine collectors, investors, lovers have seen champagne. One was COVID and that left people with a lot of time on their hands, some extra cash for the well-heeled who were not going out to dine in restaurants as much. People found themselves with a lot more time to study champagne producers methods of blending and adding dossage, which is a mixture that includes cane sugar and sweetens champagne before bottling. I'm the third generation of Lam-Dier producer. I'm back in the estate since seven years ago taking over my parents who took from their parents and from my dad parents. That's Arthur Larmandier of Larmandier Bernier, a champagne house. They get as for wine, the industry that there is not only be brand and not only bubble, that there is wine behind the bubble. And that's... At first he thought it would take five years for champagne to bounce back from COVID, but instead demand surged and it took about six months. There's another factor driving wine aficionados to look at their champagne flutes a little bit differently. And that connects to Larmondier, which is appreciation for smaller houses that produce limited quantities of high quality bubbly. They often have really strong and unique viticultural practices and really give a sense of terwar or the place that wine is grown, so it's site specific and very unique. We've seen prices for growers' champagne skyrocket on the secondary market. People who collect it have seen prices double if not more for certain makers since the start of the pandemic. Presumably it wasn't just COVID that was responsible for this interest and surge in prices for grower Champanes. What else has been going on? The fact that Champagne has been reviewed more often I think did drive interest as well. The fact that wine aficionados were taking it more seriously in places like the wine advocate and elsewhere drove people to give it a try themselves. But I would say it's really, some call it a burgundification of champagne, which is a clunky way of saying that just like people take wines from Burgundy very seriously and think about how the different plots give you a very different experience. People are starting to do that with Champagne. Historically, Champagne has been blended, both from the grapes from different areas in Champagne, grown by different people, and also blended across different years. It's probably the most processed wine that's produced in the world. But we've started to see that change with grower Champagne and what they're doing is doing very site specific releases that really give a sense of place and I think that peaks the interest of wine enthusiasts. We have enough wines and grapes really to isolate, to choose to select and only keep the very best for concept. So very best is. I visited the offices of Laurent Perrier on the roof of Borsin-on-O-Ré to try their granciac prestige cuvet. And they told me all about the champagne-making process and also invited me to taste some. Can I have your glass? Thank you. Consumers are looking to buy products that really connect to local communities. So we see that trend in gastronomy and cuisine we are also seeing that in wine and that has given grower champagne's a real boost. And how does that interest in local growth apply to the growing global market in Champagne? It used to be that the French bought the majority of Champagne, but that changed in 2012 and it became the rest of the world. We've seen America buy more champagne, the Japanese who buy a lot of prestige cuvés, which are expensive bottles. And we see growth in the rest of Europe as well. I do think that there is a question about pricing and how much the market will tolerate how much prices have risen in recent years for some of the best champagne's. I think it is worth watching the Sotheby's auction in Paris to see how much wine collectors are seeking out new bottles of classic vintages and it will be a really interesting test of champagne being taken more seriously. Thank you so much Alexandra next time over a glass of champagne I hope. Thank you Rosie I look forward to it. My mom My mother famously said that she pitied whoever married me. That wasn't a general comment on my character. It was because I was so horrible in the morning, every morning. When it comes to hitting the snooze button, I'm a repeat offender. For me the morning of getting the kids up, bags packed and off to school, getting myself to the office and starting work is all done through bleary eyes and with a help of at least one extremely large mug of coffee. Only when the day is nearly done do I feel productive and full of energy. So as a night owl I've got a vested interest in the following question, are the early birds who get half of their to-do list done before breakfast actually going to do better in life? Does it really pay to be up with the lark instead of burning the midnight oil? You won't find many CEOs that extol the virtues of a lie in. Tom Lee Devlin is a global business correspondent and host of our sister podcast Money Talks. If you look at people like Tim Cook of Apple or Bob Iger of Disney, they're up between 4 and 5 in the morning exercising, sending off emails, getting ready for their day. Actually, two-thirds of American CEOs are up by six in the morning, which is about twice a share of average Americans. So it certainly seems like if you are aspiring to corporate greatness hitting the snooze button might not be the way to success. So Tom I need to ask you a very personal question here. I'm not going to ask you if you aspire to corporate greatness, but I do want to know are you an early bird? Are you a lark or are you an owl? I am certainly not an early bird. I have experimented with waking up early in the past and I think that the benefits are certainly real, you know, you can get ahead of all of your emails, you can squeeze in a workout, and you kind of get the smug satisfaction of arriving at your desk before all your other colleagues are in. And one thing that I found really funny whilst I was reporting for this piece is all the crazy videos out there on on Tik-Toc of people describing their incredibly elaborate morning rituals. You have people submerging themselves in ice baths and reciting affirmations and making all sorts of weird beverages in the morning. One of the most bizarre ones I came across was this guy named Chris Crone, who's a business coach in America. My destiny is formed before 9 a.m. So I'm at before a.m. From 4 to 420 I do a book on double speed so I'm listening at 420 I'm on the treadmill with my wife and we're doing an active meditation together for 40 minutes. It includes a reverie where we're basically aligning the pharmacy of the body to over dopamine the mind by gratitude, serotonin, the brain, and then we shift into Mind Palace, which is 20 minutes of co-creating our best bodies. Five o'clock we then hit the weights. Over dopamine the mind sounds intriguing but on slightly firmer ground is there actually any solid evidence that getting up earlier is better for you? There is a number of studies that suggest it and might be one piece of research from the University of Toronto in 2012 showed that early birds reported feeling happier and healthier night owls tend to get less sleep which can affect their mood and their health and also their productivity. Another study from researchers in Finland found that men who get up later make 4% less money than those who are up earlier. Night owls also tend to be fatter too, according to some research from the Chinese University of Hong Kong. And there's also a kind of general social stigma that I think night owls have to grapple with. One more piece of research by Jessica Deitch and her colleagues showed that night hours tend to be perceived as lazy, undisciplined and immature, which is not a particularly flattering description. I ask you the next question as a lazy, undisciplined and immature person. Surely the early birds don't have it all their own way. Surely it can't be all good. No, I don't think so. I think there's certainly downside to this. I mean, one of the very obvious ones is that if you're in the office early, you may just get given more work to do. Urgent tasks come up over the course of the day, which means there's a reasonably high chance that you'll just end up working as late as everyone else. It's often said that the early bird gets the worm, but I think if you're the worm, maybe the best thing to do is just stay in bed. But also a bigger problem, I think, is that being an early bird can turn you into a bit of a bore. I think we've all had the experience of a lark describing their morning routine to us and droning on about how much they got done whilst we were slumbering away, which I don't think is a particularly good way to make friends. And another downside of being an early bird is it often means you're pretty sleepy by the time it gets to the evening and we do find evidence that night hours not only drink more alcohol and take more drugs but even have more sex. Not quite sure how to follow up that last one but you know I think that Larks and owls obviously like to slug insults at each other but I'm guessing that we're kind of stuck with how we are, aren't we? Yeah, I mean certainly my experience of this is that it is very difficult to pretend to be a morning person if that's not the way you're wide. So people have a genetic chronotype as scientists call it which is the natural inclination of your body to sleep at a certain time and people talk about dimming your lights at night and buying special daylight alarm clocks to wake you up in the morning but really that's not going to make that much of a difference and frankly you know if you're going to wake up early and just spend hours staring blankly at your screen it's not going to help you all that much. Thanks so much for coming on the show Tom. Thanks for having me. That's all for this episode of The Intelligence. Let us know what you think of the show. You can get in touch at podcast at economist.com. We'll see you back here tomorrow. What does it take to move the needle on the world's toughest problems? On better heroes, we've sourced the globe for passionate individuals and visionary companies who are all on a mission to solve humanities most urgent challenges. Like can AI make the world a better place? How can we change our consumption habits to better serve the environment? And what can we do to make our financial systems work for all? This series will convince you that humanity can save itself and our planet. Better Heroes is by EY and produced by Human Group Media. Listen now, wherever you get your podcasts.\""
            ],
            "application/vnd.google.colaboratory.intrinsic+json": {
              "type": "string"
            }
          },
          "metadata": {},
          "execution_count": 22
        }
      ]
    },
    {
      "cell_type": "code",
      "source": [
        "chatOutput = client.chat.completions.create(model=\"gpt-3.5-turbo-16k\",\n",
        "                                            messages=[{\"role\": \"system\", \"content\": \"You are a helpful assistant.\"},\n",
        "                                                      {\"role\": \"user\", \"content\": my_sentiment_prompt}\n",
        "                                                      ]\n",
        "                                            )\n",
        "podcastSentiment = chatOutput.choices[0].message.content\n",
        "podcastSentiment"
      ],
      "metadata": {
        "colab": {
          "base_uri": "https://localhost:8080/",
          "height": 139
        },
        "id": "RgYO-jnWgu8W",
        "outputId": "a9b554b7-bdfa-44e0-d48d-d40b2bfb5749"
      },
      "execution_count": 23,
      "outputs": [
        {
          "output_type": "execute_result",
          "data": {
            "text/plain": [
              "\"- Sentiment of the podcast: Positive\\n- Justification of sentiment label: The overall sentiment of the podcast is positive because it discusses solutions to humanity's urgent challenges, such as using AI for good, changing consumption habits for the environment, and transforming financial systems. The podcast highlights the positive impact of solar energy and the potential for renewable energy to combat climate change. It also mentions the growing interest in champagne and the increasing recognition of its quality. Although there are brief mentions of potential challenges and limitations, the overall tone is optimistic and hopeful.\""
            ],
            "application/vnd.google.colaboratory.intrinsic+json": {
              "type": "string"
            }
          },
          "metadata": {},
          "execution_count": 23
        }
      ]
    },
    {
      "cell_type": "markdown",
      "source": [
        "## **2.4 Formatting responses**\n",
        "\n",
        "To better show our result, we format this as a JSON file"
      ],
      "metadata": {
        "id": "Se9m75kKhAT0"
      }
    },
    {
      "cell_type": "code",
      "source": [
        "def process_podcast(url):\n",
        "  output = {}\n",
        "  output['podcast_url'] = podcast_url\n",
        "  output['podcast_title'] = podcast_title\n",
        "  output['episode_title'] = episode_title\n",
        "  output['episode_image'] = episode_image\n",
        "  output['episode_transcription'] = my_transcript\n",
        "  output['episode_summary'] = podcastSummary\n",
        "  output['episode_highlights'] = podcastHighlights\n",
        "  output['episode_sentiment'] = podcastSentiment\n",
        "\n",
        "  return output"
      ],
      "metadata": {
        "id": "fHOZ9fscg_l3"
      },
      "execution_count": 24,
      "outputs": []
    },
    {
      "cell_type": "markdown",
      "source": [
        "# **III. Front-end App**\n",
        "\n",
        "Nesta etapa final, usaremos o ChatGPT (a versão gratuita da web) como um assistente de programação para o desenvolvimento de uma interface simples mas funcional.\n",
        "\n",
        "Abrimos um novo chat no ChatGPT e podemos colocar o seguinte prompt:\n",
        "\n",
        "\n",
        "\n",
        "> Vamos trabalhar como parte de uma equipe de programação. Você é um renomado Software Engineer especialista em programação em Python e eu sou um Product Manager com forte background em desenvolvimento de software. Eu vou conferir cada linha de código que você for produzir e te ofereceei feedback para criar versões melhoradas de código e, assim, chegarmos a cumprir os requerimentos. Eu te oferecerei os requerimentos de maneira detalhada e, caso necessario, você pode solicitar as aclarações que considere necessarias. Quando você me ofereça código, por favor, além de comentarios preciso que você me explique o que você fez. Me confirme se minha instrução ficou clara respondendo apenas \"Aguardando requerimentos, pronto para começar!\"\n",
        "\n",
        "\n",
        "\n"
      ],
      "metadata": {
        "id": "wqQ7CP9Wj4oJ"
      }
    },
    {
      "cell_type": "markdown",
      "source": [
        "Agora, podemos pedir a ChatGPT para criar uma página web de alto impacto em que se mostrem  os elementos que temos em JSON.\n",
        "\n",
        "> Eu tenho um arquivo JSON com as seguintes informações: output['podcast_url'], output['podcast_title'], output['episode_title'], output['episode_image'],\n",
        "output['episode_transcription'], output['episode_summary'], output['episode_highlights'], output['episode_sentiment']. Crie uma página web em formato HTML que apresente ao usuario final essas informações. Preciso que cada elemento JSON seja lido como uma variavel e logo seja montado o HTML. O referido HTML deve ser salvo como um string de uma variavel que logo será usado como componentes de uma app de gradio em Python."
      ],
      "metadata": {
        "id": "v8jqwhs8nXHL"
      }
    },
    {
      "cell_type": "code",
      "source": [
        "def generate_html(podcast):\n",
        "    # Extract data from JSON\n",
        "    podcast_url = podcast.get('podcast_url', '')\n",
        "    podcast_title = podcast.get('podcast_title', '')\n",
        "    episode_title = podcast.get('episode_title', '')\n",
        "    episode_image = podcast.get('episode_image', '')\n",
        "    episode_transcription = podcast.get('episode_transcription', '')\n",
        "    episode_summary = podcast.get('episode_summary', '')\n",
        "    episode_highlights = podcast.get('episode_highlights', [])\n",
        "    episode_sentiment = podcast.get('episode_sentiment', '')\n",
        "\n",
        "    # Generate HTML string\n",
        "    html_string = f\"\"\"\n",
        "    <!DOCTYPE html>\n",
        "    <html lang=\"en\">\n",
        "    <head>\n",
        "        <meta charset=\"UTF-8\">\n",
        "        <meta name=\"viewport\" content=\"width=device-width, initial-scale=1.0\">\n",
        "        <title>{podcast_title}</title>\n",
        "        <style>\n",
        "            body {{\n",
        "                font-family: Arial, sans-serif;\n",
        "                line-height: 1.6;\n",
        "                margin: 0;\n",
        "                padding: 0;\n",
        "                background-color: #f4f4f4;\n",
        "            }}\n",
        "            .container {{\n",
        "                max-width: 800px;\n",
        "                margin: 20px auto;\n",
        "                background: #fff;\n",
        "                padding: 20px;\n",
        "                box-shadow: 0 0 10px rgba(0,0,0,0.1);\n",
        "                margin-bottom: 20px;\n",
        "            }}\n",
        "            h1, h2 {{\n",
        "                color: #333;\n",
        "            }}\n",
        "            .episode-image {{\n",
        "                max-width: 100%;\n",
        "                height: auto;\n",
        "            }}\n",
        "            .podcast-url {{\n",
        "                text-decoration: none;\n",
        "                color: #007BFF;\n",
        "            }}\n",
        "            .podcast-url:hover {{\n",
        "                text-decoration: underline;\n",
        "            }}\n",
        "        </style>\n",
        "    </head>\n",
        "    <body>\n",
        "        <div class=\"container\">\n",
        "            <h1>{podcast_title}</h1>\n",
        "            <a href=\"{podcast_url}\" class=\"podcast-url\" target=\"_blank\">Listen to the Podcast</a>\n",
        "            <h2>{episode_title}</h2>\n",
        "            <img src=\"{episode_image}\" class=\"episode-image\" alt=\"Episode Image\">\n",
        "\n",
        "            <h3>Full Transcription</h3>\n",
        "            <p>{episode_transcription}</p>\n",
        "\n",
        "            <h3>Summary</h3>\n",
        "            <p>{episode_summary}</p>\n",
        "\n",
        "            <h3>Highlights</h3>\n",
        "             <p>{episode_highlights}</p>\n",
        "\n",
        "            <h3>Sentiment Analysis</h3>\n",
        "            <p>{episode_sentiment}</p>\n",
        "        </div>\n",
        "    </body>\n",
        "    </html>\n",
        "    \"\"\"\n",
        "    return html_string\n",
        "\n"
      ],
      "metadata": {
        "id": "MwlNiNfszv2m"
      },
      "execution_count": 25,
      "outputs": []
    },
    {
      "cell_type": "markdown",
      "source": [
        "Agora, obtemos a informação desde o diretorio em que estamos salvando os JSON de nosso episodio do podcast. Aqui podemos ter um ou varios episodios descarregados."
      ],
      "metadata": {
        "id": "1a_wuImn08Ba"
      }
    },
    {
      "cell_type": "code",
      "source": [
        "def create_dict_from_json_files(folder_path):\n",
        "    json_files = [f for f in os.listdir(folder_path) if f.endswith('.json')]\n",
        "    data_dict = {}\n",
        "\n",
        "    for file_name in json_files:\n",
        "        file_path = os.path.join(folder_path, file_name)\n",
        "        with open(file_path, 'r') as file:\n",
        "            podcast_info = json.load(file)\n",
        "            podcast_name = podcast_info['podcast_title']\n",
        "            # Process the file data as needed\n",
        "            data_dict[podcast_name] = podcast_info\n",
        "\n",
        "    return data_dict\n",
        "\n",
        "available_podcast_info = create_dict_from_json_files('/content/')\n",
        "available_podcast_info"
      ],
      "metadata": {
        "colab": {
          "base_uri": "https://localhost:8080/"
        },
        "id": "B2BQa0cC0mfV",
        "outputId": "004b4575-6acc-4cfb-c16f-52d2bc8fc17d"
      },
      "execution_count": 27,
      "outputs": [
        {
          "output_type": "execute_result",
          "data": {
            "text/plain": [
              "{'The Intelligence from The Economist': {'podcast_url': 'https://access.acast.com/rss/d556eb54-6160-4c85-95f4-47d9f5216c49',\n",
              "  'podcast_title': 'The Intelligence from The Economist',\n",
              "  'episode_title': 'Empire of the sun: a solar power revolution',\n",
              "  'episode_image': 'https://assets.pippa.io/shows/62e286a934d4d93d6587424a/1708532528162-b9341a1e28f72ef144e53cf135fce49e.jpeg',\n",
              "  'episode_transcription': \" What does it take to move the needle on the world's toughest problems? On better heroes, we've sourced the globe for passionate individuals and visionary companies who are all on a mission to solve humanity's most urgent challenges. Like, can AI make the world a better place? How can we change our consumption habits to better serve the environment and what can we do to make our financial systems work for all? This series will convince you that humanity can save itself and our planet. Better Heroes is by EY and produced by human group media. Listen now, wherever you get your podcasts. The Economist. Hello and welcome to the Intelligence from The Economist. I'm your host Rosie Bloor. Every weekday we provide a fresh perspective on the event shaping your world. Champagne may be the drink of celebration, but wine collectors have long sniffed at the bubbly stuff. Now the global market is growing and Sotheby's is staging its first champagne-only auction. The market is looking rather sparkly. And are you an early bird or a night owl? I'm sure you know which of those you are, but you might not know how that affects your career prospects. Our correspondent got up with the larks to share his conclusions. But first. This This evening thousands of people will descend on Stonehenge at sunset. Druids, pagans, tourists are all united by one thing, the desire to see the solstice, the longest day in the northern hemisphere, and the event this prehistoric monument was built for, when the sun's rays shine into the heart of the ancient stone circle. But you don't have to be dressed in druidids robes to appreciate the awesome power of the sun. And I really do mean power. These days we channel the sun's rays less through stone formations than via silicon panels. These solar cells increasingly help to power our greedy planet. Solar accounted for about 6% of electricity consumption worldwide last year, a humble but important share and one that is growing extremely fast. The ancients really were on to something. A revolution in solar energy is just on the horizon. The rate at which we use an energy source and the cost of that energy source are coupled. And what that means is that as we use more solar power, the cost of it is going down incredibly quickly. Hal Hodson is the Economist's America's editor and also writes about technology. But this ultimately means is that humanity has a whole new relationship with energy and the way that we use energy is going to be completely transformed the next few decades. Hal, you say we've got a whole new relationship with energy. It sounds incredible. Just how fast does the increase been? So in 2004 the world installed about two and a half million solar panels. These are the black panels you see on roofs increasingly around you. And this year the world world is uncours to install 1.4 billion solar panels. Solar is growing so fast now that it's on track to generate more electricity than the world's nuclear power plants by 2026, its wind turbines by 2027, all of the hydroelectric dams by 2028, then it'll overtake electricity generated by gas in 2030 and coal in 2032. And at that point it will be the biggest source of electricity on the planet. The biggest source of electricity on the planet that's just stunning. What's powering this solar revolution? So the thing that is making all of this happen in truth is a giant manufacturing ecosystem in the harsh of industrial China, but there's slightly more to it than that. The real thing that's making solar go so fast is the nature of the technology itself. Solar cells, those are the chunks of silicon that make up a solar panel, are essentially identical, and whether you need 10 solar cells or 10 billion solar cells you're going to use the same manufacturing ecosystem and what that means is that solar much more than any other, can benefit from returns to scale. If you know that the world is going to use more and more of these things, you can build really, really gigantic factories to make the solar cells, to make the inputs to those solar cells. And you build this feedback loop between supply and demand that keeps driving the price down. And to date, the price has come down since 1974 by 99.9%. It used to be $100 a watt, now it's 11 cents per watt, and it is still going. Hal, I keep expecting you to come in with a butt here. You're telling me that prices are going. Hal, I keep expecting you to come in with a butt here. You're telling me that prices are going down and rates are going up. Can this extraordinary rate of growth really continue? Well, there is a big butt that should be familiar to most humans on the planet, which is that the sun only shines during the day and solar panels only generate electricity when the sun is shining on them. So that seems like an absolutely enormous but. But to that but there are numerous ways around it and the key thing to bear in mind is that all that matters is that you keep expanding the amount of solar panels installed on the planet and keep growing the rate at which they are produced and that's going to keep driving your costs down. So yes the sun only shines during the day but the vast majority of countries have not installed a large amount of solar panels yet and even though the sun only shines during the day we have other technologies which allow you to take the energy generated from the panels when the sun shines during the day and use it later in the evening. These are batteries and very fortunately for solar panels and for humans really in general. The rate at which batteries are getting cheaper looks very similar to the rate of which batteries are getting cheaper, it looks very similar to the rate of which solar panels are getting cheaper. So if we're finding ways to make sunshine power us even through the night, what could this explosion of renewable energy mean for climate change? This is definitely good news for climate change. There's no way to cautiously say that it's not good news. If you look at European emissions, even just since the Ukraine war, they're down and the reason they're down is largely because a massive amount of solar panels have been installed on the grid. The butt here is because solar doesn't directly provide energy during the night and because you need batteries and other things to help you do that, that becomes a bit more expensive. If you are a poor country looking at this, you're just going to say, oh well, I'm going to run a bunch of coal power plants and a bunch of solar plants. And so it comes down to the cost, right? The two cheapest forms of energy on the planet are solar and coal and only one of them can go through the night without adding on other bits of technology that make the whole thing more expensive. Now it's possible that solar and batteries is a combination gets so cheap so fast that even countries that are thinking we're going to build massive coal plants say oh no actually it doesn't make any sense anymore it's just cheaper to do it using these technologies. But that's not guaranteed at all. You've also got to consider just the political implications of shutting down your coal mining industry, which probably employs a couple million people if you're a large country like India. So there are both technological and political considerations that mitigate against solar sort of miraculous price declines completely solving climate change. It's almost certainly going to remain a problem over the next few decades. Hal, it's incredibly rare to hear such a good news story that continues all the way through to the end to be a good news story. Just tell me what does very cheap solar energy mean for the global economy as a whole? If you think about it, energy is probably one of the only things that is an input into all products. The entire economy runs on energy even to a much greater extent than it runs on, say, information processing. So the first way to answer your question is just everything gets cheaper. A more speculative way of thinking about what does this do? What does it mean to have such cheap energy coming from solar? Is what could you do with how much solar panel and the scale of this energy source and the fact that you can just buy a bunch of them and put them in a field and do something with them makes you start to think rather wackly. You think about doing things like using solar panels to treat all of the drinking water in the world so that you would eliminate waterborne diseases. That's going to require an amount of solar roughly that the Chinese ecosystem makes in a year. Yeah, you've got to install this and all of these finicky things. But just thinking about how much energy is required to do what job, we're now in a world where a single country produces a machine that makes enough energy to do that job every year to give humans drinking water that doesn't kill them. You could also think about just making all of the fuels that we need instead of digging them out of the ground sucking them out of the ground you could just make them using water and carbon dioxide. Again energy needs to be very very very cheap for that to any sense. But that's the whole point of this story. Energy's getting very, very, very cheap. And the geopolitical impact of all of this? I think it's quite clear that it's going to be geopolitically stabilising to have a machine, thousands, millions, billions of which exist in every country that just produces energy by being pointed at the sky. That's completely different to the flows of oil and gas that currently cause so much geopolitical strife. But there is another consideration which is that everyone's a bit worried about the Chinese producing so many of these machines, these solar panels that are going to provide all of this energy. The way that the world responds to that, it matters quite a lot because if the world responds in such a way that it says we're not going to even allow Chinese companies to set up factories in our country we're going to completely ignore everything they've done and we're going to try and build our own versions of this. Then you might break this wonderful scaling effect whereby you make more you learn to make it more cheaply and the cost of solar goes down if the West tries to go its own way and doesn't learn from China it might have to start at the top of that process again and that would be really bad for the world. Then you'd have much higher priced solar panels and you would break the whole cycle of deploying more, having more demand, producing more, reducing the cost of the solar energy. So that's a sort of geopolitical worry that I have. But even if that does happen in the West totally turns its back on China and forges its own path. There's no reason to think that the same exact process can't happen. Because what we're really talking about here is a very simple, very easy to make machine that produces 30 years of energy just by being pointed at the sun. The world really has not woken up to the consequences of having thousands, millions, billions of those machines all over the world on every house on every business in the field behind your house. Hal thank you so much for bringing some sun to our lives. Thanks Rosie, thank you very much for having me. And if you want to know more about the solar revolution, keep an ear out for next week's episode of Babbage, where we'll also be exploring space-based solar power. For those enlightened enough already to be subscribers to Economist Podcast Plus, thank you. For everyone else, you'll need to buy a subscription to listen. Find out more in the link in the world's toughest problems? On better heroes, we've sourced the globe for passionate individuals and visionary companies who are all on a mission to solve humanity's most urgent challenges. Like can AI make the world a better place? How can we change our consumption habits to better serve the environment and what can we do to make our financial systems work for all. This series will convince you that humanity has ever offered a single owner wine auction focused entirely on champagne. I'm not sure that this will ever come up again. Today in Paris, Southerby's is holding the first ever Champagne-only auction expected to raise around $2 million. Given how famous the French wine is, some may wonder why it's taken the auction house so long to come around to the fizzy stuff. Well, it's all about reputation. For decades, connoisseurs have been rather sniffy about bubbles, preferring reds and whites from places like Burgundy or Bordeaux. But last year, global champagne sales hit a record high of $7 billion. Now even wine collectors are waking up to the joy of celebratory sparkles. Champagne has been having a moment, but one of the interesting things is how differently people see Champagne. Alexandra Seward-Souich-Bass is culture editor of the economist. So in some ways you have some of the most famous brands in the world, the Vove Klicos, Krug, Crystal, that are incredibly well known by people and are brands that one aspires to purchase during Times' celebration. On the other hand, you have people who take wine very seriously and Champagne has not been on the top of their list when it comes to their celebrations of fine wine. Recently however that started to change. Alexandra I'm amazed to hear that people haven't been paying enough attention to Champagne. Why hasn't it captured the attention of Connoisseurs before this. I've been doing what is probably the next best thing to drinking Champagne, which is reading histories of Champagne. And Robert Walter is an Australian wine writer makes the point that Champagne has always been peddled as a bubbly drink for bubbly people. You see it in the marketing for people who are going to clubs or perhaps rapper. So I think part of it is the marketing that it's kind of a mass luxury major champagne brands are owned by Louis Vuitton Mo Wei Hennessy one of the largest luxury conglomerates in the world. And so it's a brand to aspire to, but the wine connoisseurs see that and don't think it's as artisanal, unique, and complex as some of the other wines from regions in France and elsewhere. Alexandra, I hope you've been drinking some champagne as part of your research for this piece. Tell me why that started to change. I of course take my job and research very seriously, so I did oblige. A few things have changed in terms of how wine collectors, investors, lovers have seen champagne. One was COVID and that left people with a lot of time on their hands, some extra cash for the well-heeled who were not going out to dine in restaurants as much. People found themselves with a lot more time to study champagne producers methods of blending and adding dossage, which is a mixture that includes cane sugar and sweetens champagne before bottling. I'm the third generation of Lam-Dier producer. I'm back in the estate since seven years ago taking over my parents who took from their parents and from my dad parents. That's Arthur Larmandier of Larmandier Bernier, a champagne house. They get as for wine, the industry that there is not only be brand and not only bubble, that there is wine behind the bubble. And that's... At first he thought it would take five years for champagne to bounce back from COVID, but instead demand surged and it took about six months. There's another factor driving wine aficionados to look at their champagne flutes a little bit differently. And that connects to Larmondier, which is appreciation for smaller houses that produce limited quantities of high quality bubbly. They often have really strong and unique viticultural practices and really give a sense of terwar or the place that wine is grown, so it's site specific and very unique. We've seen prices for growers' champagne skyrocket on the secondary market. People who collect it have seen prices double if not more for certain makers since the start of the pandemic. Presumably it wasn't just COVID that was responsible for this interest and surge in prices for grower Champanes. What else has been going on? The fact that Champagne has been reviewed more often I think did drive interest as well. The fact that wine aficionados were taking it more seriously in places like the wine advocate and elsewhere drove people to give it a try themselves. But I would say it's really, some call it a burgundification of champagne, which is a clunky way of saying that just like people take wines from Burgundy very seriously and think about how the different plots give you a very different experience. People are starting to do that with Champagne. Historically, Champagne has been blended, both from the grapes from different areas in Champagne, grown by different people, and also blended across different years. It's probably the most processed wine that's produced in the world. But we've started to see that change with grower Champagne and what they're doing is doing very site specific releases that really give a sense of place and I think that peaks the interest of wine enthusiasts. We have enough wines and grapes really to isolate, to choose to select and only keep the very best for concept. So very best is. I visited the offices of Laurent Perrier on the roof of Borsin-on-O-Ré to try their granciac prestige cuvet. And they told me all about the champagne-making process and also invited me to taste some. Can I have your glass? Thank you. Consumers are looking to buy products that really connect to local communities. So we see that trend in gastronomy and cuisine we are also seeing that in wine and that has given grower champagne's a real boost. And how does that interest in local growth apply to the growing global market in Champagne? It used to be that the French bought the majority of Champagne, but that changed in 2012 and it became the rest of the world. We've seen America buy more champagne, the Japanese who buy a lot of prestige cuvés, which are expensive bottles. And we see growth in the rest of Europe as well. I do think that there is a question about pricing and how much the market will tolerate how much prices have risen in recent years for some of the best champagne's. I think it is worth watching the Sotheby's auction in Paris to see how much wine collectors are seeking out new bottles of classic vintages and it will be a really interesting test of champagne being taken more seriously. Thank you so much Alexandra next time over a glass of champagne I hope. Thank you Rosie I look forward to it. My mom My mother famously said that she pitied whoever married me. That wasn't a general comment on my character. It was because I was so horrible in the morning, every morning. When it comes to hitting the snooze button, I'm a repeat offender. For me the morning of getting the kids up, bags packed and off to school, getting myself to the office and starting work is all done through bleary eyes and with a help of at least one extremely large mug of coffee. Only when the day is nearly done do I feel productive and full of energy. So as a night owl I've got a vested interest in the following question, are the early birds who get half of their to-do list done before breakfast actually going to do better in life? Does it really pay to be up with the lark instead of burning the midnight oil? You won't find many CEOs that extol the virtues of a lie in. Tom Lee Devlin is a global business correspondent and host of our sister podcast Money Talks. If you look at people like Tim Cook of Apple or Bob Iger of Disney, they're up between 4 and 5 in the morning exercising, sending off emails, getting ready for their day. Actually, two-thirds of American CEOs are up by six in the morning, which is about twice a share of average Americans. So it certainly seems like if you are aspiring to corporate greatness hitting the snooze button might not be the way to success. So Tom I need to ask you a very personal question here. I'm not going to ask you if you aspire to corporate greatness, but I do want to know are you an early bird? Are you a lark or are you an owl? I am certainly not an early bird. I have experimented with waking up early in the past and I think that the benefits are certainly real, you know, you can get ahead of all of your emails, you can squeeze in a workout, and you kind of get the smug satisfaction of arriving at your desk before all your other colleagues are in. And one thing that I found really funny whilst I was reporting for this piece is all the crazy videos out there on on Tik-Toc of people describing their incredibly elaborate morning rituals. You have people submerging themselves in ice baths and reciting affirmations and making all sorts of weird beverages in the morning. One of the most bizarre ones I came across was this guy named Chris Crone, who's a business coach in America. My destiny is formed before 9 a.m. So I'm at before a.m. From 4 to 420 I do a book on double speed so I'm listening at 420 I'm on the treadmill with my wife and we're doing an active meditation together for 40 minutes. It includes a reverie where we're basically aligning the pharmacy of the body to over dopamine the mind by gratitude, serotonin, the brain, and then we shift into Mind Palace, which is 20 minutes of co-creating our best bodies. Five o'clock we then hit the weights. Over dopamine the mind sounds intriguing but on slightly firmer ground is there actually any solid evidence that getting up earlier is better for you? There is a number of studies that suggest it and might be one piece of research from the University of Toronto in 2012 showed that early birds reported feeling happier and healthier night owls tend to get less sleep which can affect their mood and their health and also their productivity. Another study from researchers in Finland found that men who get up later make 4% less money than those who are up earlier. Night owls also tend to be fatter too, according to some research from the Chinese University of Hong Kong. And there's also a kind of general social stigma that I think night owls have to grapple with. One more piece of research by Jessica Deitch and her colleagues showed that night hours tend to be perceived as lazy, undisciplined and immature, which is not a particularly flattering description. I ask you the next question as a lazy, undisciplined and immature person. Surely the early birds don't have it all their own way. Surely it can't be all good. No, I don't think so. I think there's certainly downside to this. I mean, one of the very obvious ones is that if you're in the office early, you may just get given more work to do. Urgent tasks come up over the course of the day, which means there's a reasonably high chance that you'll just end up working as late as everyone else. It's often said that the early bird gets the worm, but I think if you're the worm, maybe the best thing to do is just stay in bed. But also a bigger problem, I think, is that being an early bird can turn you into a bit of a bore. I think we've all had the experience of a lark describing their morning routine to us and droning on about how much they got done whilst we were slumbering away, which I don't think is a particularly good way to make friends. And another downside of being an early bird is it often means you're pretty sleepy by the time it gets to the evening and we do find evidence that night hours not only drink more alcohol and take more drugs but even have more sex. Not quite sure how to follow up that last one but you know I think that Larks and owls obviously like to slug insults at each other but I'm guessing that we're kind of stuck with how we are, aren't we? Yeah, I mean certainly my experience of this is that it is very difficult to pretend to be a morning person if that's not the way you're wide. So people have a genetic chronotype as scientists call it which is the natural inclination of your body to sleep at a certain time and people talk about dimming your lights at night and buying special daylight alarm clocks to wake you up in the morning but really that's not going to make that much of a difference and frankly you know if you're going to wake up early and just spend hours staring blankly at your screen it's not going to help you all that much. Thanks so much for coming on the show Tom. Thanks for having me. That's all for this episode of The Intelligence. Let us know what you think of the show. You can get in touch at podcast at economist.com. We'll see you back here tomorrow. What does it take to move the needle on the world's toughest problems? On better heroes, we've sourced the globe for passionate individuals and visionary companies who are all on a mission to solve humanities most urgent challenges. Like can AI make the world a better place? How can we change our consumption habits to better serve the environment? And what can we do to make our financial systems work for all? This series will convince you that humanity can save itself and our planet. Better Heroes is by EY and produced by Human Group Media. Listen now, wherever you get your podcasts.\",\n",
              "  'episode_summary': \"In this podcast, the host explores three important topics: the solar revolution, the growing market for champagne, and the debate between early birds and night owls. \\n\\nIn the first segment, the host discusses the rapid growth of solar energy and its potential to become the biggest source of electricity on the planet. The cost of solar power has significantly decreased, making it an affordable and sustainable energy option. However, the challenge lies in storing and using solar energy during the night, which requires advancements in battery technology. Despite this challenge, solar energy is seen as a positive development in the fight against climate change.\\n\\nIn the second segment, the host talks about the increasing interest in champagne, both as a luxurious drink and as an investment. While champagne has traditionally been seen as a celebratory beverage, wine collectors are starting to recognize its value and complexity. Smaller champagne houses are gaining popularity for producing limited quantities of high-quality champagne with unique viticultural practices. The global market for champagne has expanded beyond France, with growing demand from countries like the United States and Japan.\\n\\nThe final segment discusses the debate between early birds and night owls. Although early risers are often associated with productivity and success, night owls can also thrive in their own way. Studies suggest that early birds tend to be happier and healthier, while night owls may face social stigma and less sleep. However, each person has a specific genetic chronotype that determines their natural sleep patterns, making it difficult to change one's preferences. Ultimately, it's important to understand and embrace one's own sleep rhythm.\",\n",
              "  'episode_highlights': '- Highlight 1 of the podcast: \"Solar is growing so fast now that it\\'s on track to generate more electricity than the world\\'s nuclear power plants by 2026, its wind turbines by 2027, all of the hydroelectric dams by 2028, then it\\'ll overtake electricity generated by gas in 2030 and coal in 2032.\"\\n- Highlight 2 of the podcast: \"The real thing that\\'s making solar go so fast is the nature of the technology itself. Solar cells, those are the chunks of silicon that make up a solar panel, are essentially identical, and whether you need 10 solar cells or 10 billion solar cells you\\'re going to use the same manufacturing ecosystem and what that means is that solar much more than any other, can benefit from returns to scale.\"\\n- Highlight 3 of the podcast: \"The rate at which batteries are getting cheaper looks very similar to the rate of which batteries are getting cheaper, it looks very similar to the rate of which solar panels are getting cheaper. So if we\\'re finding ways to make sunshine power us even through the night, what could this explosion of renewable energy mean for climate change?\"\\n- Highlight 4 of the podcast: \"This is definitely good news for climate change. There\\'s no way to cautiously say that it\\'s not good news. If you look at European emissions, even just since the Ukraine war, they\\'re down and the reason they\\'re down is largely because a massive amount of solar panels have been installed on the grid.\"\\n- Highlight 5 of the podcast: \"The world really has not woken up to the consequences of having thousands, millions, billions of those machines all over the world on every house on every business in the field behind your house.\"',\n",
              "  'episode_sentiment': \"- Sentiment of the podcast: Positive\\n- Justification of sentiment label: The transcript of the podcast episode overall conveys a positive sentiment. The podcast discusses various topics, such as AI, changing consumption habits, and making financial systems work for all, that are aimed at solving humanity's urgent challenges. It presents the solar energy revolution as a positive development that can help combat climate change and make energy more affordable. It also highlights the growing interest in champagne and the benefits of being an early riser. The tone throughout the episode is optimistic and hopeful, suggesting a positive sentiment overall.\"}}"
            ]
          },
          "metadata": {},
          "execution_count": 27
        }
      ]
    },
    {
      "cell_type": "code",
      "source": [
        "def show_podcast_info(podcast_name):\n",
        "  podcast_info = available_podcast_info[podcast_name]\n",
        "  return generate_html(podcast_info)"
      ],
      "metadata": {
        "id": "kupYxWuy1gCO"
      },
      "execution_count": 28,
      "outputs": []
    },
    {
      "cell_type": "code",
      "source": [
        "def process_podcast_info(rss_url):\n",
        "  podcast_info = process_podcast(rss_url)\n",
        "  return generate_html(podcast_info)"
      ],
      "metadata": {
        "id": "qAFoT-8Y1nCn"
      },
      "execution_count": 29,
      "outputs": []
    },
    {
      "cell_type": "code",
      "source": [
        "with gr.Blocks() as demo:\n",
        "    podcast_name = gr.Dropdown(available_podcast_info.keys(), label=\"podcast_name\")\n",
        "    show_podcast_button = gr.Button(\"Show Podcast Summary\")\n",
        "    podcast_url = gr.Textbox(label=\"podcast_url\")\n",
        "    process_podcast_button = gr.Button(\"Process Podcast\")\n",
        "    output= gr.HTML(label=\"podcast_info\")\n",
        "    show_podcast_button.click(fn=show_podcast_info, inputs=podcast_name, outputs=output, api_name=\"show_podcast_info\")\n",
        "    process_podcast_button.click(fn=process_podcast_info, inputs=podcast_url, outputs=output, api_name=\"process_podcast_info\")\n",
        "\n",
        "demo.launch(inbrowser=True)"
      ],
      "metadata": {
        "colab": {
          "base_uri": "https://localhost:8080/",
          "height": 645
        },
        "id": "rS_9lSlX0JHF",
        "outputId": "57fd0065-3901-497d-81be-6bf5d7c4b79e"
      },
      "execution_count": 30,
      "outputs": [
        {
          "output_type": "stream",
          "name": "stdout",
          "text": [
            "Setting queue=True in a Colab notebook requires sharing enabled. Setting `share=True` (you can turn this off by setting `share=False` in `launch()` explicitly).\n",
            "\n",
            "Colab notebook detected. To show errors in colab notebook, set debug=True in launch()\n",
            "Running on public URL: https://19421e70635b00a272.gradio.live\n",
            "\n",
            "This share link expires in 72 hours. For free permanent hosting and GPU upgrades, run `gradio deploy` from Terminal to deploy to Spaces (https://huggingface.co/spaces)\n"
          ]
        },
        {
          "output_type": "display_data",
          "data": {
            "text/plain": [
              "<IPython.core.display.HTML object>"
            ],
            "text/html": [
              "<div><iframe src=\"https://19421e70635b00a272.gradio.live\" width=\"100%\" height=\"500\" allow=\"autoplay; camera; microphone; clipboard-read; clipboard-write;\" frameborder=\"0\" allowfullscreen></iframe></div>"
            ]
          },
          "metadata": {}
        },
        {
          "output_type": "execute_result",
          "data": {
            "text/plain": []
          },
          "metadata": {},
          "execution_count": 30
        }
      ]
    }
  ]
}